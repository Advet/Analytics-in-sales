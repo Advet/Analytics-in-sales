{
 "cells": [
  {
   "cell_type": "code",
   "execution_count": 1,
   "id": "749c1376",
   "metadata": {},
   "outputs": [],
   "source": [
    "import pandas as pd\n",
    "import numpy as np\n",
    "import os\n",
    "import matplotlib.pyplot as plt\n",
    "import seaborn as sns\n",
    "\n",
    "from sklearn.model_selection import train_test_split,GridSearchCV\n",
    "from sklearn.linear_model import LinearRegression\n",
    "from sklearn.tree import DecisionTreeRegressor\n",
    "from sklearn.ensemble import RandomForestRegressor,BaggingRegressor,AdaBoostRegressor\n",
    "from xgboost import XGBRegressor\n",
    "from sklearn import preprocessing\n",
    "from sklearn import metrics"
   ]
  },
  {
   "cell_type": "code",
   "execution_count": 2,
   "id": "148dbb4e",
   "metadata": {},
   "outputs": [],
   "source": [
    "os.chdir(r\"C:\\Users\\abhed\\OneDrive\\Desktop\\Advet\\Imarticus\\Python\\Analytics in Sales\\Analytics in Sales Project\\Dataset\")"
   ]
  },
  {
   "cell_type": "code",
   "execution_count": 3,
   "id": "82123a8c",
   "metadata": {},
   "outputs": [
    {
     "data": {
      "text/plain": [
       "['Supermarket_sales_prediction.csv']"
      ]
     },
     "execution_count": 3,
     "metadata": {},
     "output_type": "execute_result"
    }
   ],
   "source": [
    "os.listdir()"
   ]
  },
  {
   "cell_type": "code",
   "execution_count": 4,
   "id": "594abffc",
   "metadata": {},
   "outputs": [],
   "source": [
    "sales=pd.read_csv('Supermarket_sales_prediction.csv')"
   ]
  },
  {
   "cell_type": "markdown",
   "id": "db6f86c0",
   "metadata": {},
   "source": [
    "#### EDA"
   ]
  },
  {
   "cell_type": "code",
   "execution_count": 5,
   "id": "0a9f8d5c",
   "metadata": {},
   "outputs": [
    {
     "name": "stdout",
     "output_type": "stream",
     "text": [
      "<class 'pandas.core.frame.DataFrame'>\n",
      "RangeIndex: 8523 entries, 0 to 8522\n",
      "Data columns (total 12 columns):\n",
      " #   Column                     Non-Null Count  Dtype  \n",
      "---  ------                     --------------  -----  \n",
      " 0   Item_Identifier            8523 non-null   object \n",
      " 1   Item_Weight                7060 non-null   float64\n",
      " 2   Item_Fat_Content           8523 non-null   object \n",
      " 3   Item_Visibility            8523 non-null   float64\n",
      " 4   Item_Type                  8523 non-null   object \n",
      " 5   Item_MRP                   8523 non-null   float64\n",
      " 6   Outlet_Identifier          8523 non-null   object \n",
      " 7   Outlet_Establishment_Year  8523 non-null   int64  \n",
      " 8   Outlet_Size                6113 non-null   object \n",
      " 9   Outlet_Location_Type       8523 non-null   object \n",
      " 10  Outlet_Type                8523 non-null   object \n",
      " 11  Item_Outlet_Sales          8523 non-null   float64\n",
      "dtypes: float64(4), int64(1), object(7)\n",
      "memory usage: 799.2+ KB\n"
     ]
    }
   ],
   "source": [
    "sales.info()"
   ]
  },
  {
   "cell_type": "code",
   "execution_count": 6,
   "id": "55c31dfd",
   "metadata": {},
   "outputs": [
    {
     "data": {
      "text/html": [
       "<div>\n",
       "<style scoped>\n",
       "    .dataframe tbody tr th:only-of-type {\n",
       "        vertical-align: middle;\n",
       "    }\n",
       "\n",
       "    .dataframe tbody tr th {\n",
       "        vertical-align: top;\n",
       "    }\n",
       "\n",
       "    .dataframe thead th {\n",
       "        text-align: right;\n",
       "    }\n",
       "</style>\n",
       "<table border=\"1\" class=\"dataframe\">\n",
       "  <thead>\n",
       "    <tr style=\"text-align: right;\">\n",
       "      <th></th>\n",
       "      <th>Item_Identifier</th>\n",
       "      <th>Item_Weight</th>\n",
       "      <th>Item_Fat_Content</th>\n",
       "      <th>Item_Visibility</th>\n",
       "      <th>Item_Type</th>\n",
       "      <th>Item_MRP</th>\n",
       "      <th>Outlet_Identifier</th>\n",
       "      <th>Outlet_Establishment_Year</th>\n",
       "      <th>Outlet_Size</th>\n",
       "      <th>Outlet_Location_Type</th>\n",
       "      <th>Outlet_Type</th>\n",
       "      <th>Item_Outlet_Sales</th>\n",
       "    </tr>\n",
       "  </thead>\n",
       "  <tbody>\n",
       "    <tr>\n",
       "      <th>0</th>\n",
       "      <td>FDA15</td>\n",
       "      <td>9.30</td>\n",
       "      <td>Low Fat</td>\n",
       "      <td>0.016047</td>\n",
       "      <td>Dairy</td>\n",
       "      <td>249.8092</td>\n",
       "      <td>OUT049</td>\n",
       "      <td>1999</td>\n",
       "      <td>Medium</td>\n",
       "      <td>Tier 1</td>\n",
       "      <td>Supermarket Type1</td>\n",
       "      <td>3735.1380</td>\n",
       "    </tr>\n",
       "    <tr>\n",
       "      <th>1</th>\n",
       "      <td>DRC01</td>\n",
       "      <td>5.92</td>\n",
       "      <td>Regular</td>\n",
       "      <td>0.019278</td>\n",
       "      <td>Soft Drinks</td>\n",
       "      <td>48.2692</td>\n",
       "      <td>OUT018</td>\n",
       "      <td>2009</td>\n",
       "      <td>Medium</td>\n",
       "      <td>Tier 3</td>\n",
       "      <td>Supermarket Type2</td>\n",
       "      <td>443.4228</td>\n",
       "    </tr>\n",
       "    <tr>\n",
       "      <th>2</th>\n",
       "      <td>FDN15</td>\n",
       "      <td>17.50</td>\n",
       "      <td>Low Fat</td>\n",
       "      <td>0.016760</td>\n",
       "      <td>Meat</td>\n",
       "      <td>141.6180</td>\n",
       "      <td>OUT049</td>\n",
       "      <td>1999</td>\n",
       "      <td>Medium</td>\n",
       "      <td>Tier 1</td>\n",
       "      <td>Supermarket Type1</td>\n",
       "      <td>2097.2700</td>\n",
       "    </tr>\n",
       "    <tr>\n",
       "      <th>3</th>\n",
       "      <td>FDX07</td>\n",
       "      <td>19.20</td>\n",
       "      <td>Regular</td>\n",
       "      <td>0.000000</td>\n",
       "      <td>Fruits and Vegetables</td>\n",
       "      <td>182.0950</td>\n",
       "      <td>OUT010</td>\n",
       "      <td>1998</td>\n",
       "      <td>NaN</td>\n",
       "      <td>Tier 3</td>\n",
       "      <td>Grocery Store</td>\n",
       "      <td>732.3800</td>\n",
       "    </tr>\n",
       "    <tr>\n",
       "      <th>4</th>\n",
       "      <td>NCD19</td>\n",
       "      <td>8.93</td>\n",
       "      <td>Low Fat</td>\n",
       "      <td>0.000000</td>\n",
       "      <td>Household</td>\n",
       "      <td>53.8614</td>\n",
       "      <td>OUT013</td>\n",
       "      <td>1987</td>\n",
       "      <td>High</td>\n",
       "      <td>Tier 3</td>\n",
       "      <td>Supermarket Type1</td>\n",
       "      <td>994.7052</td>\n",
       "    </tr>\n",
       "  </tbody>\n",
       "</table>\n",
       "</div>"
      ],
      "text/plain": [
       "  Item_Identifier  Item_Weight Item_Fat_Content  Item_Visibility  \\\n",
       "0           FDA15         9.30          Low Fat         0.016047   \n",
       "1           DRC01         5.92          Regular         0.019278   \n",
       "2           FDN15        17.50          Low Fat         0.016760   \n",
       "3           FDX07        19.20          Regular         0.000000   \n",
       "4           NCD19         8.93          Low Fat         0.000000   \n",
       "\n",
       "               Item_Type  Item_MRP Outlet_Identifier  \\\n",
       "0                  Dairy  249.8092            OUT049   \n",
       "1            Soft Drinks   48.2692            OUT018   \n",
       "2                   Meat  141.6180            OUT049   \n",
       "3  Fruits and Vegetables  182.0950            OUT010   \n",
       "4              Household   53.8614            OUT013   \n",
       "\n",
       "   Outlet_Establishment_Year Outlet_Size Outlet_Location_Type  \\\n",
       "0                       1999      Medium               Tier 1   \n",
       "1                       2009      Medium               Tier 3   \n",
       "2                       1999      Medium               Tier 1   \n",
       "3                       1998         NaN               Tier 3   \n",
       "4                       1987        High               Tier 3   \n",
       "\n",
       "         Outlet_Type  Item_Outlet_Sales  \n",
       "0  Supermarket Type1          3735.1380  \n",
       "1  Supermarket Type2           443.4228  \n",
       "2  Supermarket Type1          2097.2700  \n",
       "3      Grocery Store           732.3800  \n",
       "4  Supermarket Type1           994.7052  "
      ]
     },
     "execution_count": 6,
     "metadata": {},
     "output_type": "execute_result"
    }
   ],
   "source": [
    "sales.head()"
   ]
  },
  {
   "cell_type": "markdown",
   "id": "0649a6d3",
   "metadata": {},
   "source": [
    "##### Univariate"
   ]
  },
  {
   "cell_type": "markdown",
   "id": "69970fd9",
   "metadata": {},
   "source": [
    "##### Categorical"
   ]
  },
  {
   "cell_type": "code",
   "execution_count": 7,
   "id": "ed4e8707",
   "metadata": {},
   "outputs": [],
   "source": [
    "#function to check for all details in object type\n",
    "\n",
    "def univariate_categorical(data,var):\n",
    "    miss=data[var].isnull().sum()\n",
    "    unicat=data[var].nunique()\n",
    "    uncat_list=data[var].unique()\n",
    "    \n",
    "    h=pd.DataFrame(data[var].value_counts().reset_index())\n",
    "    h.columns=[var, \"Count\"]\n",
    "    \n",
    "    k=pd.DataFrame(data[var].value_counts(normalize=True).reset_index())\n",
    "    k.columns=[var, \"Percentage\"]\n",
    "    k[\"Percentage\"]=(round(k[\"Percentage\"]*100,2)).astype(\"str\")+str(\"%\")\n",
    "    \n",
    "    final=pd.merge(h,k, on=var, how=\"inner\")\n",
    "    \n",
    "    print(f\"Missing counts: {miss}\\n\")\n",
    "    print(f\"Total unique counts: {unicat}\\n\")\n",
    "    print(f\"Unique categories: {uncat_list}\\n\")\n",
    "    plt.figure(figsize=(10,6))\n",
    "    sns.countplot(data=data,x=var)\n",
    "    plt.xticks(rotation=45)\n",
    "    plt.show()\n",
    "    return final\n",
    "    \n",
    "    "
   ]
  },
  {
   "cell_type": "code",
   "execution_count": 8,
   "id": "1320b7cf",
   "metadata": {},
   "outputs": [
    {
     "name": "stdout",
     "output_type": "stream",
     "text": [
      "Missing counts: 0\n",
      "\n",
      "Total unique counts: 1559\n",
      "\n",
      "Unique categories: ['FDA15' 'DRC01' 'FDN15' ... 'NCF55' 'NCW30' 'NCW05']\n",
      "\n"
     ]
    },
    {
     "data": {
      "image/png": "[encoded data removed]",
      "text/plain": [
       "<Figure size 1000x600 with 1 Axes>"
      ]
     },
     "metadata": {},
     "output_type": "display_data"
    },
    {
     "data": {
      "text/html": [
       "<div>\n",
       "<style scoped>\n",
       "    .dataframe tbody tr th:only-of-type {\n",
       "        vertical-align: middle;\n",
       "    }\n",
       "\n",
       "    .dataframe tbody tr th {\n",
       "        vertical-align: top;\n",
       "    }\n",
       "\n",
       "    .dataframe thead th {\n",
       "        text-align: right;\n",
       "    }\n",
       "</style>\n",
       "<table border=\"1\" class=\"dataframe\">\n",
       "  <thead>\n",
       "    <tr style=\"text-align: right;\">\n",
       "      <th></th>\n",
       "      <th>Item_Identifier</th>\n",
       "      <th>Count</th>\n",
       "      <th>Percentage</th>\n",
       "    </tr>\n",
       "  </thead>\n",
       "  <tbody>\n",
       "    <tr>\n",
       "      <th>0</th>\n",
       "      <td>FDW13</td>\n",
       "      <td>10</td>\n",
       "      <td>0.12%</td>\n",
       "    </tr>\n",
       "    <tr>\n",
       "      <th>1</th>\n",
       "      <td>FDG33</td>\n",
       "      <td>10</td>\n",
       "      <td>0.12%</td>\n",
       "    </tr>\n",
       "    <tr>\n",
       "      <th>2</th>\n",
       "      <td>NCY18</td>\n",
       "      <td>9</td>\n",
       "      <td>0.11%</td>\n",
       "    </tr>\n",
       "    <tr>\n",
       "      <th>3</th>\n",
       "      <td>FDD38</td>\n",
       "      <td>9</td>\n",
       "      <td>0.11%</td>\n",
       "    </tr>\n",
       "    <tr>\n",
       "      <th>4</th>\n",
       "      <td>DRE49</td>\n",
       "      <td>9</td>\n",
       "      <td>0.11%</td>\n",
       "    </tr>\n",
       "    <tr>\n",
       "      <th>...</th>\n",
       "      <td>...</td>\n",
       "      <td>...</td>\n",
       "      <td>...</td>\n",
       "    </tr>\n",
       "    <tr>\n",
       "      <th>1554</th>\n",
       "      <td>FDY43</td>\n",
       "      <td>1</td>\n",
       "      <td>0.01%</td>\n",
       "    </tr>\n",
       "    <tr>\n",
       "      <th>1555</th>\n",
       "      <td>FDQ60</td>\n",
       "      <td>1</td>\n",
       "      <td>0.01%</td>\n",
       "    </tr>\n",
       "    <tr>\n",
       "      <th>1556</th>\n",
       "      <td>FDO33</td>\n",
       "      <td>1</td>\n",
       "      <td>0.01%</td>\n",
       "    </tr>\n",
       "    <tr>\n",
       "      <th>1557</th>\n",
       "      <td>DRF48</td>\n",
       "      <td>1</td>\n",
       "      <td>0.01%</td>\n",
       "    </tr>\n",
       "    <tr>\n",
       "      <th>1558</th>\n",
       "      <td>FDC23</td>\n",
       "      <td>1</td>\n",
       "      <td>0.01%</td>\n",
       "    </tr>\n",
       "  </tbody>\n",
       "</table>\n",
       "<p>1559 rows × 3 columns</p>\n",
       "</div>"
      ],
      "text/plain": [
       "     Item_Identifier  Count Percentage\n",
       "0              FDW13     10      0.12%\n",
       "1              FDG33     10      0.12%\n",
       "2              NCY18      9      0.11%\n",
       "3              FDD38      9      0.11%\n",
       "4              DRE49      9      0.11%\n",
       "...              ...    ...        ...\n",
       "1554           FDY43      1      0.01%\n",
       "1555           FDQ60      1      0.01%\n",
       "1556           FDO33      1      0.01%\n",
       "1557           DRF48      1      0.01%\n",
       "1558           FDC23      1      0.01%\n",
       "\n",
       "[1559 rows x 3 columns]"
      ]
     },
     "execution_count": 8,
     "metadata": {},
     "output_type": "execute_result"
    }
   ],
   "source": [
    "univariate_categorical(sales,\"Item_Identifier\")"
   ]
  },
  {
   "cell_type": "code",
   "execution_count": 9,
   "id": "b30ee045",
   "metadata": {},
   "outputs": [
    {
     "data": {
      "text/plain": [
       "FD    6125\n",
       "NC    1599\n",
       "DR     799\n",
       "Name: new, dtype: int64"
      ]
     },
     "execution_count": 9,
     "metadata": {},
     "output_type": "execute_result"
    }
   ],
   "source": [
    "sales[\"new\"]=sales[\"Item_Identifier\"].str[:2]\n",
    "sales[\"new\"].value_counts()"
   ]
  },
  {
   "cell_type": "code",
   "execution_count": 10,
   "id": "505acfed",
   "metadata": {},
   "outputs": [],
   "source": [
    "sales.drop(columns=[\"new\",\"Item_Identifier\"], inplace=True)"
   ]
  },
  {
   "cell_type": "code",
   "execution_count": 11,
   "id": "c758ad0a",
   "metadata": {},
   "outputs": [
    {
     "name": "stdout",
     "output_type": "stream",
     "text": [
      "Missing counts: 0\n",
      "\n",
      "Total unique counts: 5\n",
      "\n",
      "Unique categories: ['Low Fat' 'Regular' 'low fat' 'LF' 'reg']\n",
      "\n"
     ]
    },
    {
     "data": {
      "image/png": "[encoded data removed]",
      "text/plain": [
       "<Figure size 1000x600 with 1 Axes>"
      ]
     },
     "metadata": {},
     "output_type": "display_data"
    },
    {
     "data": {
      "text/html": [
       "<div>\n",
       "<style scoped>\n",
       "    .dataframe tbody tr th:only-of-type {\n",
       "        vertical-align: middle;\n",
       "    }\n",
       "\n",
       "    .dataframe tbody tr th {\n",
       "        vertical-align: top;\n",
       "    }\n",
       "\n",
       "    .dataframe thead th {\n",
       "        text-align: right;\n",
       "    }\n",
       "</style>\n",
       "<table border=\"1\" class=\"dataframe\">\n",
       "  <thead>\n",
       "    <tr style=\"text-align: right;\">\n",
       "      <th></th>\n",
       "      <th>Item_Fat_Content</th>\n",
       "      <th>Count</th>\n",
       "      <th>Percentage</th>\n",
       "    </tr>\n",
       "  </thead>\n",
       "  <tbody>\n",
       "    <tr>\n",
       "      <th>0</th>\n",
       "      <td>Low Fat</td>\n",
       "      <td>5089</td>\n",
       "      <td>59.71%</td>\n",
       "    </tr>\n",
       "    <tr>\n",
       "      <th>1</th>\n",
       "      <td>Regular</td>\n",
       "      <td>2889</td>\n",
       "      <td>33.9%</td>\n",
       "    </tr>\n",
       "    <tr>\n",
       "      <th>2</th>\n",
       "      <td>LF</td>\n",
       "      <td>316</td>\n",
       "      <td>3.71%</td>\n",
       "    </tr>\n",
       "    <tr>\n",
       "      <th>3</th>\n",
       "      <td>reg</td>\n",
       "      <td>117</td>\n",
       "      <td>1.37%</td>\n",
       "    </tr>\n",
       "    <tr>\n",
       "      <th>4</th>\n",
       "      <td>low fat</td>\n",
       "      <td>112</td>\n",
       "      <td>1.31%</td>\n",
       "    </tr>\n",
       "  </tbody>\n",
       "</table>\n",
       "</div>"
      ],
      "text/plain": [
       "  Item_Fat_Content  Count Percentage\n",
       "0          Low Fat   5089     59.71%\n",
       "1          Regular   2889      33.9%\n",
       "2               LF    316      3.71%\n",
       "3              reg    117      1.37%\n",
       "4          low fat    112      1.31%"
      ]
     },
     "execution_count": 11,
     "metadata": {},
     "output_type": "execute_result"
    }
   ],
   "source": [
    "univariate_categorical(sales,\"Item_Fat_Content\")"
   ]
  },
  {
   "cell_type": "code",
   "execution_count": 12,
   "id": "4ad3f60d",
   "metadata": {},
   "outputs": [],
   "source": [
    "def item(x):\n",
    "    if x==\"Low Fat\" or x==\"low fat\" or x==\"LF\":\n",
    "        x=\"low fat\"\n",
    "    elif x==\"Regular\" or x==\"reg\":\n",
    "        x=\"regular\"\n",
    "    \n",
    "    return x      "
   ]
  },
  {
   "cell_type": "code",
   "execution_count": 13,
   "id": "33522178",
   "metadata": {},
   "outputs": [
    {
     "data": {
      "text/plain": [
       "low fat    5517\n",
       "regular    3006\n",
       "Name: Item_Fat_Content, dtype: int64"
      ]
     },
     "execution_count": 13,
     "metadata": {},
     "output_type": "execute_result"
    }
   ],
   "source": [
    "sales[\"Item_Fat_Content\"]=sales[\"Item_Fat_Content\"].apply(item)\n",
    "sales[\"Item_Fat_Content\"].value_counts()"
   ]
  },
  {
   "cell_type": "code",
   "execution_count": 14,
   "id": "a8c263d8",
   "metadata": {},
   "outputs": [
    {
     "data": {
      "text/plain": [
       "0    5517\n",
       "1    3006\n",
       "Name: Item_Fat_Content, dtype: int64"
      ]
     },
     "execution_count": 14,
     "metadata": {},
     "output_type": "execute_result"
    }
   ],
   "source": [
    "label=preprocessing.LabelEncoder()\n",
    "sales[\"Item_Fat_Content\"]=label.fit_transform(sales[\"Item_Fat_Content\"])\n",
    "sales[\"Item_Fat_Content\"].value_counts()"
   ]
  },
  {
   "cell_type": "code",
   "execution_count": 15,
   "id": "b56ce432",
   "metadata": {},
   "outputs": [
    {
     "name": "stdout",
     "output_type": "stream",
     "text": [
      "Missing counts: 0\n",
      "\n",
      "Total unique counts: 16\n",
      "\n",
      "Unique categories: ['Dairy' 'Soft Drinks' 'Meat' 'Fruits and Vegetables' 'Household'\n",
      " 'Baking Goods' 'Snack Foods' 'Frozen Foods' 'Breakfast'\n",
      " 'Health and Hygiene' 'Hard Drinks' 'Canned' 'Breads' 'Starchy Foods'\n",
      " 'Others' 'Seafood']\n",
      "\n"
     ]
    },
    {
     "data": {
      "image/png": "[encoded data removed]",
      "text/plain": [
       "<Figure size 1000x600 with 1 Axes>"
      ]
     },
     "metadata": {},
     "output_type": "display_data"
    },
    {
     "data": {
      "text/html": [
       "<div>\n",
       "<style scoped>\n",
       "    .dataframe tbody tr th:only-of-type {\n",
       "        vertical-align: middle;\n",
       "    }\n",
       "\n",
       "    .dataframe tbody tr th {\n",
       "        vertical-align: top;\n",
       "    }\n",
       "\n",
       "    .dataframe thead th {\n",
       "        text-align: right;\n",
       "    }\n",
       "</style>\n",
       "<table border=\"1\" class=\"dataframe\">\n",
       "  <thead>\n",
       "    <tr style=\"text-align: right;\">\n",
       "      <th></th>\n",
       "      <th>Item_Type</th>\n",
       "      <th>Count</th>\n",
       "      <th>Percentage</th>\n",
       "    </tr>\n",
       "  </thead>\n",
       "  <tbody>\n",
       "    <tr>\n",
       "      <th>0</th>\n",
       "      <td>Fruits and Vegetables</td>\n",
       "      <td>1232</td>\n",
       "      <td>14.46%</td>\n",
       "    </tr>\n",
       "    <tr>\n",
       "      <th>1</th>\n",
       "      <td>Snack Foods</td>\n",
       "      <td>1200</td>\n",
       "      <td>14.08%</td>\n",
       "    </tr>\n",
       "    <tr>\n",
       "      <th>2</th>\n",
       "      <td>Household</td>\n",
       "      <td>910</td>\n",
       "      <td>10.68%</td>\n",
       "    </tr>\n",
       "    <tr>\n",
       "      <th>3</th>\n",
       "      <td>Frozen Foods</td>\n",
       "      <td>856</td>\n",
       "      <td>10.04%</td>\n",
       "    </tr>\n",
       "    <tr>\n",
       "      <th>4</th>\n",
       "      <td>Dairy</td>\n",
       "      <td>682</td>\n",
       "      <td>8.0%</td>\n",
       "    </tr>\n",
       "    <tr>\n",
       "      <th>5</th>\n",
       "      <td>Canned</td>\n",
       "      <td>649</td>\n",
       "      <td>7.61%</td>\n",
       "    </tr>\n",
       "    <tr>\n",
       "      <th>6</th>\n",
       "      <td>Baking Goods</td>\n",
       "      <td>648</td>\n",
       "      <td>7.6%</td>\n",
       "    </tr>\n",
       "    <tr>\n",
       "      <th>7</th>\n",
       "      <td>Health and Hygiene</td>\n",
       "      <td>520</td>\n",
       "      <td>6.1%</td>\n",
       "    </tr>\n",
       "    <tr>\n",
       "      <th>8</th>\n",
       "      <td>Soft Drinks</td>\n",
       "      <td>445</td>\n",
       "      <td>5.22%</td>\n",
       "    </tr>\n",
       "    <tr>\n",
       "      <th>9</th>\n",
       "      <td>Meat</td>\n",
       "      <td>425</td>\n",
       "      <td>4.99%</td>\n",
       "    </tr>\n",
       "    <tr>\n",
       "      <th>10</th>\n",
       "      <td>Breads</td>\n",
       "      <td>251</td>\n",
       "      <td>2.94%</td>\n",
       "    </tr>\n",
       "    <tr>\n",
       "      <th>11</th>\n",
       "      <td>Hard Drinks</td>\n",
       "      <td>214</td>\n",
       "      <td>2.51%</td>\n",
       "    </tr>\n",
       "    <tr>\n",
       "      <th>12</th>\n",
       "      <td>Others</td>\n",
       "      <td>169</td>\n",
       "      <td>1.98%</td>\n",
       "    </tr>\n",
       "    <tr>\n",
       "      <th>13</th>\n",
       "      <td>Starchy Foods</td>\n",
       "      <td>148</td>\n",
       "      <td>1.74%</td>\n",
       "    </tr>\n",
       "    <tr>\n",
       "      <th>14</th>\n",
       "      <td>Breakfast</td>\n",
       "      <td>110</td>\n",
       "      <td>1.29%</td>\n",
       "    </tr>\n",
       "    <tr>\n",
       "      <th>15</th>\n",
       "      <td>Seafood</td>\n",
       "      <td>64</td>\n",
       "      <td>0.75%</td>\n",
       "    </tr>\n",
       "  </tbody>\n",
       "</table>\n",
       "</div>"
      ],
      "text/plain": [
       "                Item_Type  Count Percentage\n",
       "0   Fruits and Vegetables   1232     14.46%\n",
       "1             Snack Foods   1200     14.08%\n",
       "2               Household    910     10.68%\n",
       "3            Frozen Foods    856     10.04%\n",
       "4                   Dairy    682       8.0%\n",
       "5                  Canned    649      7.61%\n",
       "6            Baking Goods    648       7.6%\n",
       "7      Health and Hygiene    520       6.1%\n",
       "8             Soft Drinks    445      5.22%\n",
       "9                    Meat    425      4.99%\n",
       "10                 Breads    251      2.94%\n",
       "11            Hard Drinks    214      2.51%\n",
       "12                 Others    169      1.98%\n",
       "13          Starchy Foods    148      1.74%\n",
       "14              Breakfast    110      1.29%\n",
       "15                Seafood     64      0.75%"
      ]
     },
     "execution_count": 15,
     "metadata": {},
     "output_type": "execute_result"
    }
   ],
   "source": [
    "univariate_categorical(sales,\"Item_Type\")"
   ]
  },
  {
   "cell_type": "code",
   "execution_count": 16,
   "id": "797c975e",
   "metadata": {},
   "outputs": [
    {
     "name": "stdout",
     "output_type": "stream",
     "text": [
      "Missing counts: 0\n",
      "\n",
      "Total unique counts: 10\n",
      "\n",
      "Unique categories: ['OUT049' 'OUT018' 'OUT010' 'OUT013' 'OUT027' 'OUT045' 'OUT017' 'OUT046'\n",
      " 'OUT035' 'OUT019']\n",
      "\n"
     ]
    },
    {
     "data": {
      "image/png": "[encoded data removed]",
      "text/plain": [
       "<Figure size 1000x600 with 1 Axes>"
      ]
     },
     "metadata": {},
     "output_type": "display_data"
    },
    {
     "data": {
      "text/html": [
       "<div>\n",
       "<style scoped>\n",
       "    .dataframe tbody tr th:only-of-type {\n",
       "        vertical-align: middle;\n",
       "    }\n",
       "\n",
       "    .dataframe tbody tr th {\n",
       "        vertical-align: top;\n",
       "    }\n",
       "\n",
       "    .dataframe thead th {\n",
       "        text-align: right;\n",
       "    }\n",
       "</style>\n",
       "<table border=\"1\" class=\"dataframe\">\n",
       "  <thead>\n",
       "    <tr style=\"text-align: right;\">\n",
       "      <th></th>\n",
       "      <th>Outlet_Identifier</th>\n",
       "      <th>Count</th>\n",
       "      <th>Percentage</th>\n",
       "    </tr>\n",
       "  </thead>\n",
       "  <tbody>\n",
       "    <tr>\n",
       "      <th>0</th>\n",
       "      <td>OUT027</td>\n",
       "      <td>935</td>\n",
       "      <td>10.97%</td>\n",
       "    </tr>\n",
       "    <tr>\n",
       "      <th>1</th>\n",
       "      <td>OUT013</td>\n",
       "      <td>932</td>\n",
       "      <td>10.94%</td>\n",
       "    </tr>\n",
       "    <tr>\n",
       "      <th>2</th>\n",
       "      <td>OUT049</td>\n",
       "      <td>930</td>\n",
       "      <td>10.91%</td>\n",
       "    </tr>\n",
       "    <tr>\n",
       "      <th>3</th>\n",
       "      <td>OUT046</td>\n",
       "      <td>930</td>\n",
       "      <td>10.91%</td>\n",
       "    </tr>\n",
       "    <tr>\n",
       "      <th>4</th>\n",
       "      <td>OUT035</td>\n",
       "      <td>930</td>\n",
       "      <td>10.91%</td>\n",
       "    </tr>\n",
       "    <tr>\n",
       "      <th>5</th>\n",
       "      <td>OUT045</td>\n",
       "      <td>929</td>\n",
       "      <td>10.9%</td>\n",
       "    </tr>\n",
       "    <tr>\n",
       "      <th>6</th>\n",
       "      <td>OUT018</td>\n",
       "      <td>928</td>\n",
       "      <td>10.89%</td>\n",
       "    </tr>\n",
       "    <tr>\n",
       "      <th>7</th>\n",
       "      <td>OUT017</td>\n",
       "      <td>926</td>\n",
       "      <td>10.86%</td>\n",
       "    </tr>\n",
       "    <tr>\n",
       "      <th>8</th>\n",
       "      <td>OUT010</td>\n",
       "      <td>555</td>\n",
       "      <td>6.51%</td>\n",
       "    </tr>\n",
       "    <tr>\n",
       "      <th>9</th>\n",
       "      <td>OUT019</td>\n",
       "      <td>528</td>\n",
       "      <td>6.2%</td>\n",
       "    </tr>\n",
       "  </tbody>\n",
       "</table>\n",
       "</div>"
      ],
      "text/plain": [
       "  Outlet_Identifier  Count Percentage\n",
       "0            OUT027    935     10.97%\n",
       "1            OUT013    932     10.94%\n",
       "2            OUT049    930     10.91%\n",
       "3            OUT046    930     10.91%\n",
       "4            OUT035    930     10.91%\n",
       "5            OUT045    929      10.9%\n",
       "6            OUT018    928     10.89%\n",
       "7            OUT017    926     10.86%\n",
       "8            OUT010    555      6.51%\n",
       "9            OUT019    528       6.2%"
      ]
     },
     "execution_count": 16,
     "metadata": {},
     "output_type": "execute_result"
    }
   ],
   "source": [
    "univariate_categorical(sales,\"Outlet_Identifier\")"
   ]
  },
  {
   "cell_type": "code",
   "execution_count": 17,
   "id": "7d3eb351",
   "metadata": {},
   "outputs": [
    {
     "name": "stdout",
     "output_type": "stream",
     "text": [
      "Missing counts: 2410\n",
      "\n",
      "Total unique counts: 3\n",
      "\n",
      "Unique categories: ['Medium' nan 'High' 'Small']\n",
      "\n"
     ]
    },
    {
     "data": {
      "image/png": "[encoded data removed]",
      "text/plain": [
       "<Figure size 1000x600 with 1 Axes>"
      ]
     },
     "metadata": {},
     "output_type": "display_data"
    },
    {
     "data": {
      "text/html": [
       "<div>\n",
       "<style scoped>\n",
       "    .dataframe tbody tr th:only-of-type {\n",
       "        vertical-align: middle;\n",
       "    }\n",
       "\n",
       "    .dataframe tbody tr th {\n",
       "        vertical-align: top;\n",
       "    }\n",
       "\n",
       "    .dataframe thead th {\n",
       "        text-align: right;\n",
       "    }\n",
       "</style>\n",
       "<table border=\"1\" class=\"dataframe\">\n",
       "  <thead>\n",
       "    <tr style=\"text-align: right;\">\n",
       "      <th></th>\n",
       "      <th>Outlet_Size</th>\n",
       "      <th>Count</th>\n",
       "      <th>Percentage</th>\n",
       "    </tr>\n",
       "  </thead>\n",
       "  <tbody>\n",
       "    <tr>\n",
       "      <th>0</th>\n",
       "      <td>Medium</td>\n",
       "      <td>2793</td>\n",
       "      <td>45.69%</td>\n",
       "    </tr>\n",
       "    <tr>\n",
       "      <th>1</th>\n",
       "      <td>Small</td>\n",
       "      <td>2388</td>\n",
       "      <td>39.06%</td>\n",
       "    </tr>\n",
       "    <tr>\n",
       "      <th>2</th>\n",
       "      <td>High</td>\n",
       "      <td>932</td>\n",
       "      <td>15.25%</td>\n",
       "    </tr>\n",
       "  </tbody>\n",
       "</table>\n",
       "</div>"
      ],
      "text/plain": [
       "  Outlet_Size  Count Percentage\n",
       "0      Medium   2793     45.69%\n",
       "1       Small   2388     39.06%\n",
       "2        High    932     15.25%"
      ]
     },
     "execution_count": 17,
     "metadata": {},
     "output_type": "execute_result"
    }
   ],
   "source": [
    "univariate_categorical(sales,\"Outlet_Size\")"
   ]
  },
  {
   "cell_type": "code",
   "execution_count": 18,
   "id": "6daef345",
   "metadata": {},
   "outputs": [
    {
     "data": {
      "text/html": [
       "<div>\n",
       "<style scoped>\n",
       "    .dataframe tbody tr th:only-of-type {\n",
       "        vertical-align: middle;\n",
       "    }\n",
       "\n",
       "    .dataframe tbody tr th {\n",
       "        vertical-align: top;\n",
       "    }\n",
       "\n",
       "    .dataframe thead th {\n",
       "        text-align: right;\n",
       "    }\n",
       "</style>\n",
       "<table border=\"1\" class=\"dataframe\">\n",
       "  <thead>\n",
       "    <tr style=\"text-align: right;\">\n",
       "      <th>Outlet_Size</th>\n",
       "      <th>High</th>\n",
       "      <th>Medium</th>\n",
       "      <th>Small</th>\n",
       "    </tr>\n",
       "    <tr>\n",
       "      <th>Outlet_Type</th>\n",
       "      <th></th>\n",
       "      <th></th>\n",
       "      <th></th>\n",
       "    </tr>\n",
       "  </thead>\n",
       "  <tbody>\n",
       "    <tr>\n",
       "      <th>Grocery Store</th>\n",
       "      <td>0</td>\n",
       "      <td>0</td>\n",
       "      <td>528</td>\n",
       "    </tr>\n",
       "    <tr>\n",
       "      <th>Supermarket Type1</th>\n",
       "      <td>932</td>\n",
       "      <td>930</td>\n",
       "      <td>1860</td>\n",
       "    </tr>\n",
       "    <tr>\n",
       "      <th>Supermarket Type2</th>\n",
       "      <td>0</td>\n",
       "      <td>928</td>\n",
       "      <td>0</td>\n",
       "    </tr>\n",
       "    <tr>\n",
       "      <th>Supermarket Type3</th>\n",
       "      <td>0</td>\n",
       "      <td>935</td>\n",
       "      <td>0</td>\n",
       "    </tr>\n",
       "  </tbody>\n",
       "</table>\n",
       "</div>"
      ],
      "text/plain": [
       "Outlet_Size        High  Medium  Small\n",
       "Outlet_Type                           \n",
       "Grocery Store         0       0    528\n",
       "Supermarket Type1   932     930   1860\n",
       "Supermarket Type2     0     928      0\n",
       "Supermarket Type3     0     935      0"
      ]
     },
     "execution_count": 18,
     "metadata": {},
     "output_type": "execute_result"
    }
   ],
   "source": [
    "pd.crosstab(sales[\"Outlet_Type\"],sales[\"Outlet_Size\"])"
   ]
  },
  {
   "cell_type": "code",
   "execution_count": 19,
   "id": "25c14586",
   "metadata": {},
   "outputs": [
    {
     "data": {
      "text/plain": [
       "Supermarket Type1    1855\n",
       "Grocery Store         555\n",
       "Name: Outlet_Type, dtype: int64"
      ]
     },
     "execution_count": 19,
     "metadata": {},
     "output_type": "execute_result"
    }
   ],
   "source": [
    "sales[sales['Outlet_Size'].isna()][\"Outlet_Type\"].value_counts()\n",
    "\n",
    "#since all of grocery and majority of type1 is small hence filling small"
   ]
  },
  {
   "cell_type": "code",
   "execution_count": 20,
   "id": "7bdbbe0b",
   "metadata": {},
   "outputs": [
    {
     "data": {
      "text/plain": [
       "0"
      ]
     },
     "execution_count": 20,
     "metadata": {},
     "output_type": "execute_result"
    }
   ],
   "source": [
    "sales[\"Outlet_Size\"]=sales[\"Outlet_Size\"].fillna(\"Small\")\n",
    "sales[\"Outlet_Size\"].isnull().sum()"
   ]
  },
  {
   "cell_type": "code",
   "execution_count": 21,
   "id": "7e4539ae",
   "metadata": {},
   "outputs": [],
   "source": [
    "#ordinal encoding\n",
    "sales[\"Outlet_Size\"]=sales[\"Outlet_Size\"].map({\"Small\":0,\"Medium\":1,\"High\":2})"
   ]
  },
  {
   "cell_type": "code",
   "execution_count": 22,
   "id": "6845cd56",
   "metadata": {},
   "outputs": [
    {
     "name": "stdout",
     "output_type": "stream",
     "text": [
      "Missing counts: 0\n",
      "\n",
      "Total unique counts: 3\n",
      "\n",
      "Unique categories: ['Tier 1' 'Tier 3' 'Tier 2']\n",
      "\n"
     ]
    },
    {
     "data": {
      "image/png": "[encoded data removed]",
      "text/plain": [
       "<Figure size 1000x600 with 1 Axes>"
      ]
     },
     "metadata": {},
     "output_type": "display_data"
    },
    {
     "data": {
      "text/html": [
       "<div>\n",
       "<style scoped>\n",
       "    .dataframe tbody tr th:only-of-type {\n",
       "        vertical-align: middle;\n",
       "    }\n",
       "\n",
       "    .dataframe tbody tr th {\n",
       "        vertical-align: top;\n",
       "    }\n",
       "\n",
       "    .dataframe thead th {\n",
       "        text-align: right;\n",
       "    }\n",
       "</style>\n",
       "<table border=\"1\" class=\"dataframe\">\n",
       "  <thead>\n",
       "    <tr style=\"text-align: right;\">\n",
       "      <th></th>\n",
       "      <th>Outlet_Location_Type</th>\n",
       "      <th>Count</th>\n",
       "      <th>Percentage</th>\n",
       "    </tr>\n",
       "  </thead>\n",
       "  <tbody>\n",
       "    <tr>\n",
       "      <th>0</th>\n",
       "      <td>Tier 3</td>\n",
       "      <td>3350</td>\n",
       "      <td>39.31%</td>\n",
       "    </tr>\n",
       "    <tr>\n",
       "      <th>1</th>\n",
       "      <td>Tier 2</td>\n",
       "      <td>2785</td>\n",
       "      <td>32.68%</td>\n",
       "    </tr>\n",
       "    <tr>\n",
       "      <th>2</th>\n",
       "      <td>Tier 1</td>\n",
       "      <td>2388</td>\n",
       "      <td>28.02%</td>\n",
       "    </tr>\n",
       "  </tbody>\n",
       "</table>\n",
       "</div>"
      ],
      "text/plain": [
       "  Outlet_Location_Type  Count Percentage\n",
       "0               Tier 3   3350     39.31%\n",
       "1               Tier 2   2785     32.68%\n",
       "2               Tier 1   2388     28.02%"
      ]
     },
     "execution_count": 22,
     "metadata": {},
     "output_type": "execute_result"
    }
   ],
   "source": [
    "univariate_categorical(sales,\"Outlet_Location_Type\")"
   ]
  },
  {
   "cell_type": "code",
   "execution_count": 23,
   "id": "4915910c",
   "metadata": {},
   "outputs": [
    {
     "name": "stdout",
     "output_type": "stream",
     "text": [
      "Missing counts: 0\n",
      "\n",
      "Total unique counts: 4\n",
      "\n",
      "Unique categories: ['Supermarket Type1' 'Supermarket Type2' 'Grocery Store'\n",
      " 'Supermarket Type3']\n",
      "\n"
     ]
    },
    {
     "data": {
      "image/png": "[encoded data removed]",
      "text/plain": [
       "<Figure size 1000x600 with 1 Axes>"
      ]
     },
     "metadata": {},
     "output_type": "display_data"
    },
    {
     "data": {
      "text/html": [
       "<div>\n",
       "<style scoped>\n",
       "    .dataframe tbody tr th:only-of-type {\n",
       "        vertical-align: middle;\n",
       "    }\n",
       "\n",
       "    .dataframe tbody tr th {\n",
       "        vertical-align: top;\n",
       "    }\n",
       "\n",
       "    .dataframe thead th {\n",
       "        text-align: right;\n",
       "    }\n",
       "</style>\n",
       "<table border=\"1\" class=\"dataframe\">\n",
       "  <thead>\n",
       "    <tr style=\"text-align: right;\">\n",
       "      <th></th>\n",
       "      <th>Outlet_Type</th>\n",
       "      <th>Count</th>\n",
       "      <th>Percentage</th>\n",
       "    </tr>\n",
       "  </thead>\n",
       "  <tbody>\n",
       "    <tr>\n",
       "      <th>0</th>\n",
       "      <td>Supermarket Type1</td>\n",
       "      <td>5577</td>\n",
       "      <td>65.43%</td>\n",
       "    </tr>\n",
       "    <tr>\n",
       "      <th>1</th>\n",
       "      <td>Grocery Store</td>\n",
       "      <td>1083</td>\n",
       "      <td>12.71%</td>\n",
       "    </tr>\n",
       "    <tr>\n",
       "      <th>2</th>\n",
       "      <td>Supermarket Type3</td>\n",
       "      <td>935</td>\n",
       "      <td>10.97%</td>\n",
       "    </tr>\n",
       "    <tr>\n",
       "      <th>3</th>\n",
       "      <td>Supermarket Type2</td>\n",
       "      <td>928</td>\n",
       "      <td>10.89%</td>\n",
       "    </tr>\n",
       "  </tbody>\n",
       "</table>\n",
       "</div>"
      ],
      "text/plain": [
       "         Outlet_Type  Count Percentage\n",
       "0  Supermarket Type1   5577     65.43%\n",
       "1      Grocery Store   1083     12.71%\n",
       "2  Supermarket Type3    935     10.97%\n",
       "3  Supermarket Type2    928     10.89%"
      ]
     },
     "execution_count": 23,
     "metadata": {},
     "output_type": "execute_result"
    }
   ],
   "source": [
    "univariate_categorical(sales,\"Outlet_Type\")"
   ]
  },
  {
   "cell_type": "markdown",
   "id": "124231ff",
   "metadata": {},
   "source": [
    "##### Numerical"
   ]
  },
  {
   "cell_type": "code",
   "execution_count": 24,
   "id": "07682b6e",
   "metadata": {},
   "outputs": [],
   "source": [
    "#function to check for all details in numeric type\n",
    "\n",
    "def univariate_numerical(data,vari):\n",
    "    result={\"Missing\":data[vari].isnull().sum(),\n",
    "           \"min\":data[vari].min(),\n",
    "           \"max\":data[vari].max(),\n",
    "           \"mean\":data[vari].mean(),\n",
    "           \"standard deviation\":data[vari].std(),\n",
    "           \"variance\":data[vari].var(),\n",
    "           \"skewness\":data[vari].skew(),\n",
    "           \"kurtosis\":data[vari].kurt(),\n",
    "           \"25th Percentile\":data[vari].quantile(0.25),\n",
    "           \"50th Percentile\":data[vari].quantile(0.5),\n",
    "           \"75th Percentile\":data[vari].quantile(0.75)\n",
    "           }\n",
    "    plt.figure(figsize=(6,4))\n",
    "    plt.subplot(121)\n",
    "    sns.histplot(data[vari])\n",
    "    plt.subplot(122)\n",
    "    sns.boxplot(data=data,y=vari)\n",
    "    plt.show()\n",
    "    return result"
   ]
  },
  {
   "cell_type": "code",
   "execution_count": 25,
   "id": "9300aad3",
   "metadata": {},
   "outputs": [
    {
     "data": {
      "image/png": "[encoded data removed]",
      "text/plain": [
       "<Figure size 600x400 with 2 Axes>"
      ]
     },
     "metadata": {},
     "output_type": "display_data"
    },
    {
     "data": {
      "text/plain": [
       "{'Missing': 1463,\n",
       " 'min': 4.555,\n",
       " 'max': 21.35,\n",
       " 'mean': 12.857645184135976,\n",
       " 'standard deviation': 4.643456499186395,\n",
       " 'variance': 21.56168825983637,\n",
       " 'skewness': 0.0824262091221237,\n",
       " 'kurtosis': -1.2277664144376634,\n",
       " '25th Percentile': 8.77375,\n",
       " '50th Percentile': 12.6,\n",
       " '75th Percentile': 16.85}"
      ]
     },
     "execution_count": 25,
     "metadata": {},
     "output_type": "execute_result"
    }
   ],
   "source": [
    "univariate_numerical(sales,\"Item_Weight\")"
   ]
  },
  {
   "cell_type": "code",
   "execution_count": 26,
   "id": "e583a179",
   "metadata": {},
   "outputs": [
    {
     "data": {
      "text/html": [
       "<div>\n",
       "<style scoped>\n",
       "    .dataframe tbody tr th:only-of-type {\n",
       "        vertical-align: middle;\n",
       "    }\n",
       "\n",
       "    .dataframe tbody tr th {\n",
       "        vertical-align: top;\n",
       "    }\n",
       "\n",
       "    .dataframe thead tr th {\n",
       "        text-align: left;\n",
       "    }\n",
       "\n",
       "    .dataframe thead tr:last-of-type th {\n",
       "        text-align: right;\n",
       "    }\n",
       "</style>\n",
       "<table border=\"1\" class=\"dataframe\">\n",
       "  <thead>\n",
       "    <tr>\n",
       "      <th></th>\n",
       "      <th>Item_Weight</th>\n",
       "    </tr>\n",
       "    <tr>\n",
       "      <th></th>\n",
       "      <th>mean</th>\n",
       "    </tr>\n",
       "    <tr>\n",
       "      <th>Item_Type</th>\n",
       "      <th></th>\n",
       "    </tr>\n",
       "  </thead>\n",
       "  <tbody>\n",
       "    <tr>\n",
       "      <th>Baking Goods</th>\n",
       "      <td>12.277108</td>\n",
       "    </tr>\n",
       "    <tr>\n",
       "      <th>Breads</th>\n",
       "      <td>11.346936</td>\n",
       "    </tr>\n",
       "    <tr>\n",
       "      <th>Breakfast</th>\n",
       "      <td>12.768202</td>\n",
       "    </tr>\n",
       "    <tr>\n",
       "      <th>Canned</th>\n",
       "      <td>12.305705</td>\n",
       "    </tr>\n",
       "    <tr>\n",
       "      <th>Dairy</th>\n",
       "      <td>13.426069</td>\n",
       "    </tr>\n",
       "    <tr>\n",
       "      <th>Frozen Foods</th>\n",
       "      <td>12.867061</td>\n",
       "    </tr>\n",
       "    <tr>\n",
       "      <th>Fruits and Vegetables</th>\n",
       "      <td>13.224769</td>\n",
       "    </tr>\n",
       "    <tr>\n",
       "      <th>Hard Drinks</th>\n",
       "      <td>11.400328</td>\n",
       "    </tr>\n",
       "    <tr>\n",
       "      <th>Health and Hygiene</th>\n",
       "      <td>13.142314</td>\n",
       "    </tr>\n",
       "    <tr>\n",
       "      <th>Household</th>\n",
       "      <td>13.384736</td>\n",
       "    </tr>\n",
       "    <tr>\n",
       "      <th>Meat</th>\n",
       "      <td>12.817344</td>\n",
       "    </tr>\n",
       "    <tr>\n",
       "      <th>Others</th>\n",
       "      <td>13.853285</td>\n",
       "    </tr>\n",
       "    <tr>\n",
       "      <th>Seafood</th>\n",
       "      <td>12.552843</td>\n",
       "    </tr>\n",
       "    <tr>\n",
       "      <th>Snack Foods</th>\n",
       "      <td>12.987880</td>\n",
       "    </tr>\n",
       "    <tr>\n",
       "      <th>Soft Drinks</th>\n",
       "      <td>11.847460</td>\n",
       "    </tr>\n",
       "    <tr>\n",
       "      <th>Starchy Foods</th>\n",
       "      <td>13.690731</td>\n",
       "    </tr>\n",
       "  </tbody>\n",
       "</table>\n",
       "</div>"
      ],
      "text/plain": [
       "                      Item_Weight\n",
       "                             mean\n",
       "Item_Type                        \n",
       "Baking Goods            12.277108\n",
       "Breads                  11.346936\n",
       "Breakfast               12.768202\n",
       "Canned                  12.305705\n",
       "Dairy                   13.426069\n",
       "Frozen Foods            12.867061\n",
       "Fruits and Vegetables   13.224769\n",
       "Hard Drinks             11.400328\n",
       "Health and Hygiene      13.142314\n",
       "Household               13.384736\n",
       "Meat                    12.817344\n",
       "Others                  13.853285\n",
       "Seafood                 12.552843\n",
       "Snack Foods             12.987880\n",
       "Soft Drinks             11.847460\n",
       "Starchy Foods           13.690731"
      ]
     },
     "execution_count": 26,
     "metadata": {},
     "output_type": "execute_result"
    }
   ],
   "source": [
    "sales.groupby([\"Item_Type\"]).agg({\"Item_Weight\":[\"mean\"]})"
   ]
  },
  {
   "cell_type": "code",
   "execution_count": 27,
   "id": "622876de",
   "metadata": {},
   "outputs": [],
   "source": [
    "#filling median value according to item type\n",
    "\n",
    "sales[\"Item_Weight\"]=sales.groupby([\"Item_Type\"])[\"Item_Weight\"].transform(lambda x: x.fillna(x.median()))"
   ]
  },
  {
   "cell_type": "code",
   "execution_count": 28,
   "id": "5589fa29",
   "metadata": {},
   "outputs": [
    {
     "data": {
      "text/plain": [
       "0"
      ]
     },
     "execution_count": 28,
     "metadata": {},
     "output_type": "execute_result"
    }
   ],
   "source": [
    "sales[\"Item_Weight\"].isnull().sum()"
   ]
  },
  {
   "cell_type": "code",
   "execution_count": 29,
   "id": "52ff2954",
   "metadata": {},
   "outputs": [
    {
     "data": {
      "image/png": "[encoded data removed]",
      "text/plain": [
       "<Figure size 600x400 with 2 Axes>"
      ]
     },
     "metadata": {},
     "output_type": "display_data"
    },
    {
     "data": {
      "text/plain": [
       "{'Missing': 0,\n",
       " 'min': 0.0,\n",
       " 'max': 0.328390948,\n",
       " 'mean': 0.06613202877895108,\n",
       " 'standard deviation': 0.051597822321135196,\n",
       " 'variance': 0.0026623352682834376,\n",
       " 'skewness': 1.1670905496918396,\n",
       " 'kurtosis': 1.6794454826024237,\n",
       " '25th Percentile': 0.0269894775,\n",
       " '50th Percentile': 0.053930934,\n",
       " '75th Percentile': 0.0945852925}"
      ]
     },
     "execution_count": 29,
     "metadata": {},
     "output_type": "execute_result"
    }
   ],
   "source": [
    "univariate_numerical(sales,\"Item_Visibility\")"
   ]
  },
  {
   "cell_type": "code",
   "execution_count": 30,
   "id": "1a3c1bab",
   "metadata": {},
   "outputs": [
    {
     "data": {
      "image/png": "[encoded data removed]",
      "text/plain": [
       "<Figure size 600x400 with 2 Axes>"
      ]
     },
     "metadata": {},
     "output_type": "display_data"
    },
    {
     "data": {
      "text/plain": [
       "{'Missing': 0,\n",
       " 'min': 31.29,\n",
       " 'max': 266.8884,\n",
       " 'mean': 140.9927819781767,\n",
       " 'standard deviation': 62.27506651219039,\n",
       " 'variance': 3878.1839090977373,\n",
       " 'skewness': 0.1272022683110526,\n",
       " 'kurtosis': -0.8897690936963571,\n",
       " '25th Percentile': 93.8265,\n",
       " '50th Percentile': 143.0128,\n",
       " '75th Percentile': 185.6437}"
      ]
     },
     "execution_count": 30,
     "metadata": {},
     "output_type": "execute_result"
    }
   ],
   "source": [
    "univariate_numerical(sales,\"Item_MRP\")"
   ]
  },
  {
   "cell_type": "code",
   "execution_count": 31,
   "id": "4e9005ad",
   "metadata": {},
   "outputs": [
    {
     "data": {
      "image/png": "[encoded data removed]",
      "text/plain": [
       "<Figure size 600x400 with 2 Axes>"
      ]
     },
     "metadata": {},
     "output_type": "display_data"
    },
    {
     "data": {
      "text/plain": [
       "{'Missing': 0,\n",
       " 'min': 1985,\n",
       " 'max': 2009,\n",
       " 'mean': 1997.8318667135984,\n",
       " 'standard deviation': 8.371760408092706,\n",
       " 'variance': 70.08637233050855,\n",
       " 'skewness': -0.39664078591550556,\n",
       " 'kurtosis': -1.2056939170205112,\n",
       " '25th Percentile': 1987.0,\n",
       " '50th Percentile': 1999.0,\n",
       " '75th Percentile': 2004.0}"
      ]
     },
     "execution_count": 31,
     "metadata": {},
     "output_type": "execute_result"
    }
   ],
   "source": [
    "univariate_numerical(sales,\"Outlet_Establishment_Year\")"
   ]
  },
  {
   "cell_type": "code",
   "execution_count": 32,
   "id": "d8674d61",
   "metadata": {},
   "outputs": [
    {
     "data": {
      "text/plain": [
       "0       24\n",
       "1       14\n",
       "2       24\n",
       "3       25\n",
       "4       36\n",
       "        ..\n",
       "8518    36\n",
       "8519    21\n",
       "8520    19\n",
       "8521    14\n",
       "8522    26\n",
       "Name: years, Length: 8523, dtype: int64"
      ]
     },
     "execution_count": 32,
     "metadata": {},
     "output_type": "execute_result"
    }
   ],
   "source": [
    "#getting number of years of the store\n",
    "from datetime import date \n",
    "\n",
    "sales[\"curr\"]=date.today().year\n",
    "sales[\"years\"]=sales[\"curr\"]-sales[\"Outlet_Establishment_Year\"]\n",
    "sales[\"years\"]"
   ]
  },
  {
   "cell_type": "code",
   "execution_count": 33,
   "id": "7fd26eb4",
   "metadata": {},
   "outputs": [],
   "source": [
    "sales.drop(columns=[\"curr\",\"Outlet_Establishment_Year\"], inplace=True)"
   ]
  },
  {
   "cell_type": "code",
   "execution_count": 34,
   "id": "1e1dba8e",
   "metadata": {},
   "outputs": [
    {
     "name": "stdout",
     "output_type": "stream",
     "text": [
      "<class 'pandas.core.frame.DataFrame'>\n",
      "RangeIndex: 8523 entries, 0 to 8522\n",
      "Data columns (total 11 columns):\n",
      " #   Column                Non-Null Count  Dtype  \n",
      "---  ------                --------------  -----  \n",
      " 0   Item_Weight           8523 non-null   float64\n",
      " 1   Item_Fat_Content      8523 non-null   int32  \n",
      " 2   Item_Visibility       8523 non-null   float64\n",
      " 3   Item_Type             8523 non-null   object \n",
      " 4   Item_MRP              8523 non-null   float64\n",
      " 5   Outlet_Identifier     8523 non-null   object \n",
      " 6   Outlet_Size           8523 non-null   int64  \n",
      " 7   Outlet_Location_Type  8523 non-null   object \n",
      " 8   Outlet_Type           8523 non-null   object \n",
      " 9   Item_Outlet_Sales     8523 non-null   float64\n",
      " 10  years                 8523 non-null   int64  \n",
      "dtypes: float64(4), int32(1), int64(2), object(4)\n",
      "memory usage: 699.3+ KB\n"
     ]
    }
   ],
   "source": [
    "sales.info()"
   ]
  },
  {
   "cell_type": "code",
   "execution_count": 35,
   "id": "70365acc",
   "metadata": {},
   "outputs": [
    {
     "data": {
      "image/png": "[encoded data removed]",
      "text/plain": [
       "<Figure size 600x400 with 2 Axes>"
      ]
     },
     "metadata": {},
     "output_type": "display_data"
    },
    {
     "data": {
      "text/plain": [
       "{'Missing': 0,\n",
       " 'min': 33.29,\n",
       " 'max': 13086.9648,\n",
       " 'mean': 2181.288913575032,\n",
       " 'standard deviation': 1706.499615733832,\n",
       " 'variance': 2912140.938499716,\n",
       " 'skewness': 1.1775306028542796,\n",
       " 'kurtosis': 1.6158766814287264,\n",
       " '25th Percentile': 834.2474,\n",
       " '50th Percentile': 1794.331,\n",
       " '75th Percentile': 3101.2964}"
      ]
     },
     "execution_count": 35,
     "metadata": {},
     "output_type": "execute_result"
    }
   ],
   "source": [
    "univariate_numerical(sales,\"Item_Outlet_Sales\")"
   ]
  },
  {
   "cell_type": "markdown",
   "id": "6d1eb8ba",
   "metadata": {},
   "source": [
    "##### Multicollinearity"
   ]
  },
  {
   "cell_type": "code",
   "execution_count": 36,
   "id": "9ca4053e",
   "metadata": {},
   "outputs": [
    {
     "name": "stderr",
     "output_type": "stream",
     "text": [
      "C:\\Users\\abhed\\AppData\\Local\\Temp\\ipykernel_18576\\1578113766.py:1: FutureWarning: The default value of numeric_only in DataFrame.corr is deprecated. In a future version, it will default to False. Select only valid columns or specify the value of numeric_only to silence this warning.\n",
      "  cr=sales.corr()\n"
     ]
    },
    {
     "data": {
      "text/plain": [
       "[]"
      ]
     },
     "execution_count": 36,
     "metadata": {},
     "output_type": "execute_result"
    },
    {
     "data": {
      "image/png": "[encoded data removed]",
      "text/plain": [
       "<Figure size 640x480 with 2 Axes>"
      ]
     },
     "metadata": {},
     "output_type": "display_data"
    }
   ],
   "source": [
    "cr=sales.corr()\n",
    "sns.heatmap(cr,annot=True, cmap=\"coolwarm\")\n",
    "plt.plot()"
   ]
  },
  {
   "cell_type": "markdown",
   "id": "2b148588",
   "metadata": {},
   "source": [
    "##### Dummy"
   ]
  },
  {
   "cell_type": "code",
   "execution_count": 37,
   "id": "184b4ee7",
   "metadata": {},
   "outputs": [
    {
     "name": "stdout",
     "output_type": "stream",
     "text": [
      "<class 'pandas.core.frame.DataFrame'>\n",
      "RangeIndex: 8523 entries, 0 to 8522\n",
      "Data columns (total 11 columns):\n",
      " #   Column                Non-Null Count  Dtype  \n",
      "---  ------                --------------  -----  \n",
      " 0   Item_Weight           8523 non-null   float64\n",
      " 1   Item_Fat_Content      8523 non-null   int32  \n",
      " 2   Item_Visibility       8523 non-null   float64\n",
      " 3   Item_Type             8523 non-null   object \n",
      " 4   Item_MRP              8523 non-null   float64\n",
      " 5   Outlet_Identifier     8523 non-null   object \n",
      " 6   Outlet_Size           8523 non-null   int64  \n",
      " 7   Outlet_Location_Type  8523 non-null   object \n",
      " 8   Outlet_Type           8523 non-null   object \n",
      " 9   Item_Outlet_Sales     8523 non-null   float64\n",
      " 10  years                 8523 non-null   int64  \n",
      "dtypes: float64(4), int32(1), int64(2), object(4)\n",
      "memory usage: 699.3+ KB\n"
     ]
    }
   ],
   "source": [
    "sales.info()"
   ]
  },
  {
   "cell_type": "code",
   "execution_count": 38,
   "id": "7bc6561e",
   "metadata": {},
   "outputs": [],
   "source": [
    "sales1=pd.get_dummies(data=sales,columns=[\"Outlet_Location_Type\",\"Item_Type\",\"Outlet_Type\",\"Outlet_Identifier\"],drop_first=True)"
   ]
  },
  {
   "cell_type": "code",
   "execution_count": 39,
   "id": "ff560066",
   "metadata": {},
   "outputs": [
    {
     "data": {
      "text/html": [
       "<div>\n",
       "<style scoped>\n",
       "    .dataframe tbody tr th:only-of-type {\n",
       "        vertical-align: middle;\n",
       "    }\n",
       "\n",
       "    .dataframe tbody tr th {\n",
       "        vertical-align: top;\n",
       "    }\n",
       "\n",
       "    .dataframe thead th {\n",
       "        text-align: right;\n",
       "    }\n",
       "</style>\n",
       "<table border=\"1\" class=\"dataframe\">\n",
       "  <thead>\n",
       "    <tr style=\"text-align: right;\">\n",
       "      <th></th>\n",
       "      <th>Item_Weight</th>\n",
       "      <th>Item_Fat_Content</th>\n",
       "      <th>Item_Visibility</th>\n",
       "      <th>Item_MRP</th>\n",
       "      <th>Outlet_Size</th>\n",
       "      <th>Item_Outlet_Sales</th>\n",
       "      <th>years</th>\n",
       "      <th>Outlet_Location_Type_Tier 2</th>\n",
       "      <th>Outlet_Location_Type_Tier 3</th>\n",
       "      <th>Item_Type_Breads</th>\n",
       "      <th>...</th>\n",
       "      <th>Outlet_Type_Supermarket Type3</th>\n",
       "      <th>Outlet_Identifier_OUT013</th>\n",
       "      <th>Outlet_Identifier_OUT017</th>\n",
       "      <th>Outlet_Identifier_OUT018</th>\n",
       "      <th>Outlet_Identifier_OUT019</th>\n",
       "      <th>Outlet_Identifier_OUT027</th>\n",
       "      <th>Outlet_Identifier_OUT035</th>\n",
       "      <th>Outlet_Identifier_OUT045</th>\n",
       "      <th>Outlet_Identifier_OUT046</th>\n",
       "      <th>Outlet_Identifier_OUT049</th>\n",
       "    </tr>\n",
       "  </thead>\n",
       "  <tbody>\n",
       "    <tr>\n",
       "      <th>0</th>\n",
       "      <td>9.30</td>\n",
       "      <td>0</td>\n",
       "      <td>0.016047</td>\n",
       "      <td>249.8092</td>\n",
       "      <td>1</td>\n",
       "      <td>3735.1380</td>\n",
       "      <td>24</td>\n",
       "      <td>0</td>\n",
       "      <td>0</td>\n",
       "      <td>0</td>\n",
       "      <td>...</td>\n",
       "      <td>0</td>\n",
       "      <td>0</td>\n",
       "      <td>0</td>\n",
       "      <td>0</td>\n",
       "      <td>0</td>\n",
       "      <td>0</td>\n",
       "      <td>0</td>\n",
       "      <td>0</td>\n",
       "      <td>0</td>\n",
       "      <td>1</td>\n",
       "    </tr>\n",
       "    <tr>\n",
       "      <th>1</th>\n",
       "      <td>5.92</td>\n",
       "      <td>1</td>\n",
       "      <td>0.019278</td>\n",
       "      <td>48.2692</td>\n",
       "      <td>1</td>\n",
       "      <td>443.4228</td>\n",
       "      <td>14</td>\n",
       "      <td>0</td>\n",
       "      <td>1</td>\n",
       "      <td>0</td>\n",
       "      <td>...</td>\n",
       "      <td>0</td>\n",
       "      <td>0</td>\n",
       "      <td>0</td>\n",
       "      <td>1</td>\n",
       "      <td>0</td>\n",
       "      <td>0</td>\n",
       "      <td>0</td>\n",
       "      <td>0</td>\n",
       "      <td>0</td>\n",
       "      <td>0</td>\n",
       "    </tr>\n",
       "    <tr>\n",
       "      <th>2</th>\n",
       "      <td>17.50</td>\n",
       "      <td>0</td>\n",
       "      <td>0.016760</td>\n",
       "      <td>141.6180</td>\n",
       "      <td>1</td>\n",
       "      <td>2097.2700</td>\n",
       "      <td>24</td>\n",
       "      <td>0</td>\n",
       "      <td>0</td>\n",
       "      <td>0</td>\n",
       "      <td>...</td>\n",
       "      <td>0</td>\n",
       "      <td>0</td>\n",
       "      <td>0</td>\n",
       "      <td>0</td>\n",
       "      <td>0</td>\n",
       "      <td>0</td>\n",
       "      <td>0</td>\n",
       "      <td>0</td>\n",
       "      <td>0</td>\n",
       "      <td>1</td>\n",
       "    </tr>\n",
       "    <tr>\n",
       "      <th>3</th>\n",
       "      <td>19.20</td>\n",
       "      <td>1</td>\n",
       "      <td>0.000000</td>\n",
       "      <td>182.0950</td>\n",
       "      <td>0</td>\n",
       "      <td>732.3800</td>\n",
       "      <td>25</td>\n",
       "      <td>0</td>\n",
       "      <td>1</td>\n",
       "      <td>0</td>\n",
       "      <td>...</td>\n",
       "      <td>0</td>\n",
       "      <td>0</td>\n",
       "      <td>0</td>\n",
       "      <td>0</td>\n",
       "      <td>0</td>\n",
       "      <td>0</td>\n",
       "      <td>0</td>\n",
       "      <td>0</td>\n",
       "      <td>0</td>\n",
       "      <td>0</td>\n",
       "    </tr>\n",
       "    <tr>\n",
       "      <th>4</th>\n",
       "      <td>8.93</td>\n",
       "      <td>0</td>\n",
       "      <td>0.000000</td>\n",
       "      <td>53.8614</td>\n",
       "      <td>2</td>\n",
       "      <td>994.7052</td>\n",
       "      <td>36</td>\n",
       "      <td>0</td>\n",
       "      <td>1</td>\n",
       "      <td>0</td>\n",
       "      <td>...</td>\n",
       "      <td>0</td>\n",
       "      <td>1</td>\n",
       "      <td>0</td>\n",
       "      <td>0</td>\n",
       "      <td>0</td>\n",
       "      <td>0</td>\n",
       "      <td>0</td>\n",
       "      <td>0</td>\n",
       "      <td>0</td>\n",
       "      <td>0</td>\n",
       "    </tr>\n",
       "  </tbody>\n",
       "</table>\n",
       "<p>5 rows × 36 columns</p>\n",
       "</div>"
      ],
      "text/plain": [
       "   Item_Weight  Item_Fat_Content  Item_Visibility  Item_MRP  Outlet_Size  \\\n",
       "0         9.30                 0         0.016047  249.8092            1   \n",
       "1         5.92                 1         0.019278   48.2692            1   \n",
       "2        17.50                 0         0.016760  141.6180            1   \n",
       "3        19.20                 1         0.000000  182.0950            0   \n",
       "4         8.93                 0         0.000000   53.8614            2   \n",
       "\n",
       "   Item_Outlet_Sales  years  Outlet_Location_Type_Tier 2  \\\n",
       "0          3735.1380     24                            0   \n",
       "1           443.4228     14                            0   \n",
       "2          2097.2700     24                            0   \n",
       "3           732.3800     25                            0   \n",
       "4           994.7052     36                            0   \n",
       "\n",
       "   Outlet_Location_Type_Tier 3  Item_Type_Breads  ...  \\\n",
       "0                            0                 0  ...   \n",
       "1                            1                 0  ...   \n",
       "2                            0                 0  ...   \n",
       "3                            1                 0  ...   \n",
       "4                            1                 0  ...   \n",
       "\n",
       "   Outlet_Type_Supermarket Type3  Outlet_Identifier_OUT013  \\\n",
       "0                              0                         0   \n",
       "1                              0                         0   \n",
       "2                              0                         0   \n",
       "3                              0                         0   \n",
       "4                              0                         1   \n",
       "\n",
       "   Outlet_Identifier_OUT017  Outlet_Identifier_OUT018  \\\n",
       "0                         0                         0   \n",
       "1                         0                         1   \n",
       "2                         0                         0   \n",
       "3                         0                         0   \n",
       "4                         0                         0   \n",
       "\n",
       "   Outlet_Identifier_OUT019  Outlet_Identifier_OUT027  \\\n",
       "0                         0                         0   \n",
       "1                         0                         0   \n",
       "2                         0                         0   \n",
       "3                         0                         0   \n",
       "4                         0                         0   \n",
       "\n",
       "   Outlet_Identifier_OUT035  Outlet_Identifier_OUT045  \\\n",
       "0                         0                         0   \n",
       "1                         0                         0   \n",
       "2                         0                         0   \n",
       "3                         0                         0   \n",
       "4                         0                         0   \n",
       "\n",
       "   Outlet_Identifier_OUT046  Outlet_Identifier_OUT049  \n",
       "0                         0                         1  \n",
       "1                         0                         0  \n",
       "2                         0                         1  \n",
       "3                         0                         0  \n",
       "4                         0                         0  \n",
       "\n",
       "[5 rows x 36 columns]"
      ]
     },
     "execution_count": 39,
     "metadata": {},
     "output_type": "execute_result"
    }
   ],
   "source": [
    "sales1.head()"
   ]
  },
  {
   "cell_type": "markdown",
   "id": "09a24631",
   "metadata": {},
   "source": [
    "##### Checking for normality"
   ]
  },
  {
   "cell_type": "code",
   "execution_count": 40,
   "id": "a17542ad",
   "metadata": {},
   "outputs": [
    {
     "data": {
      "text/plain": [
       "Jarque_beraResult(statistic=2894.2983825765023, pvalue=0.0)"
      ]
     },
     "execution_count": 40,
     "metadata": {},
     "output_type": "execute_result"
    }
   ],
   "source": [
    "from scipy import stats\n",
    "\n",
    "stats.jarque_bera(sales1[\"Item_Outlet_Sales\"])"
   ]
  },
  {
   "cell_type": "code",
   "execution_count": 41,
   "id": "39ae5829",
   "metadata": {},
   "outputs": [],
   "source": [
    "sales1[\"y\"]=np.log(sales[\"Item_Outlet_Sales\"])"
   ]
  },
  {
   "cell_type": "code",
   "execution_count": 42,
   "id": "17be05de",
   "metadata": {},
   "outputs": [
    {
     "data": {
      "text/plain": [
       "(array([  53.,   99.,  326.,  429.,  784., 1251., 2051., 2276., 1156.,\n",
       "          98.]),\n",
       " array([3.50525705, 4.10266854, 4.70008003, 5.29749152, 5.89490302,\n",
       "        6.49231451, 7.089726  , 7.68713749, 8.28454898, 8.88196047,\n",
       "        9.47937196]),\n",
       " <BarContainer object of 10 artists>)"
      ]
     },
     "execution_count": 42,
     "metadata": {},
     "output_type": "execute_result"
    },
    {
     "data": {
      "image/png": "[encoded data removed]",
      "text/plain": [
       "<Figure size 640x480 with 1 Axes>"
      ]
     },
     "metadata": {},
     "output_type": "display_data"
    }
   ],
   "source": [
    "plt.hist(sales1[\"y\"])"
   ]
  },
  {
   "cell_type": "code",
   "execution_count": 43,
   "id": "e9fa5e08",
   "metadata": {},
   "outputs": [
    {
     "data": {
      "text/plain": [
       "Index(['Item_Weight', 'Item_Fat_Content', 'Item_Visibility', 'Item_MRP',\n",
       "       'Outlet_Size', 'Item_Outlet_Sales', 'years',\n",
       "       'Outlet_Location_Type_Tier 2', 'Outlet_Location_Type_Tier 3',\n",
       "       'Item_Type_Breads', 'Item_Type_Breakfast', 'Item_Type_Canned',\n",
       "       'Item_Type_Dairy', 'Item_Type_Frozen Foods',\n",
       "       'Item_Type_Fruits and Vegetables', 'Item_Type_Hard Drinks',\n",
       "       'Item_Type_Health and Hygiene', 'Item_Type_Household', 'Item_Type_Meat',\n",
       "       'Item_Type_Others', 'Item_Type_Seafood', 'Item_Type_Snack Foods',\n",
       "       'Item_Type_Soft Drinks', 'Item_Type_Starchy Foods',\n",
       "       'Outlet_Type_Supermarket Type1', 'Outlet_Type_Supermarket Type2',\n",
       "       'Outlet_Type_Supermarket Type3', 'Outlet_Identifier_OUT013',\n",
       "       'Outlet_Identifier_OUT017', 'Outlet_Identifier_OUT018',\n",
       "       'Outlet_Identifier_OUT019', 'Outlet_Identifier_OUT027',\n",
       "       'Outlet_Identifier_OUT035', 'Outlet_Identifier_OUT045',\n",
       "       'Outlet_Identifier_OUT046', 'Outlet_Identifier_OUT049', 'y'],\n",
       "      dtype='object')"
      ]
     },
     "execution_count": 43,
     "metadata": {},
     "output_type": "execute_result"
    }
   ],
   "source": [
    "sales1.columns"
   ]
  },
  {
   "cell_type": "code",
   "execution_count": 44,
   "id": "9b712f6b",
   "metadata": {},
   "outputs": [],
   "source": [
    "x=sales1[['Item_Weight', 'Item_Fat_Content', 'Item_Visibility', 'Item_MRP',\n",
    "       'Outlet_Size', 'years',\n",
    "       'Outlet_Location_Type_Tier 2', 'Outlet_Location_Type_Tier 3',\n",
    "       'Item_Type_Breads', 'Item_Type_Breakfast', 'Item_Type_Canned',\n",
    "       'Item_Type_Dairy', 'Item_Type_Frozen Foods',\n",
    "       'Item_Type_Fruits and Vegetables', 'Item_Type_Hard Drinks',\n",
    "       'Item_Type_Health and Hygiene', 'Item_Type_Household', 'Item_Type_Meat',\n",
    "       'Item_Type_Others', 'Item_Type_Seafood', 'Item_Type_Snack Foods',\n",
    "       'Item_Type_Soft Drinks', 'Item_Type_Starchy Foods',\n",
    "       'Outlet_Type_Supermarket Type1', 'Outlet_Type_Supermarket Type2',\n",
    "       'Outlet_Type_Supermarket Type3', 'Outlet_Identifier_OUT013',\n",
    "       'Outlet_Identifier_OUT017', 'Outlet_Identifier_OUT018',\n",
    "       'Outlet_Identifier_OUT019', 'Outlet_Identifier_OUT027',\n",
    "       'Outlet_Identifier_OUT035', 'Outlet_Identifier_OUT045',\n",
    "       'Outlet_Identifier_OUT046', 'Outlet_Identifier_OUT049']]\n",
    "\n",
    "y=sales1[\"y\"]"
   ]
  },
  {
   "cell_type": "code",
   "execution_count": 45,
   "id": "9538d322",
   "metadata": {},
   "outputs": [],
   "source": [
    "x_train,x_test,y_train,y_test=train_test_split(x,y,test_size=0.3,random_state=0)"
   ]
  },
  {
   "cell_type": "code",
   "execution_count": 46,
   "id": "ba3cbece",
   "metadata": {},
   "outputs": [
    {
     "data": {
      "text/plain": [
       "LinearRegression()"
      ]
     },
     "execution_count": 46,
     "metadata": {},
     "output_type": "execute_result"
    }
   ],
   "source": [
    "linReg=LinearRegression()\n",
    "linReg.fit(x_train,y_train)"
   ]
  },
  {
   "cell_type": "code",
   "execution_count": 47,
   "id": "5f5a6e10",
   "metadata": {},
   "outputs": [
    {
     "data": {
      "text/plain": [
       "0.7244531963257528"
      ]
     },
     "execution_count": 47,
     "metadata": {},
     "output_type": "execute_result"
    }
   ],
   "source": [
    "linReg.score(x_train,y_train)"
   ]
  },
  {
   "cell_type": "code",
   "execution_count": 48,
   "id": "1b3d3dd4",
   "metadata": {},
   "outputs": [
    {
     "data": {
      "text/plain": [
       "0.7133306633841309"
      ]
     },
     "execution_count": 48,
     "metadata": {},
     "output_type": "execute_result"
    }
   ],
   "source": [
    "linReg.score(x_test,y_test)"
   ]
  },
  {
   "cell_type": "code",
   "execution_count": 49,
   "id": "282083e3",
   "metadata": {},
   "outputs": [],
   "source": [
    "pred_train=linReg.predict(x_train)\n",
    "pred_test=linReg.predict(x_test)"
   ]
  },
  {
   "cell_type": "code",
   "execution_count": 50,
   "id": "336fe13f",
   "metadata": {},
   "outputs": [
    {
     "data": {
      "text/plain": [
       "0.30335002266212224"
      ]
     },
     "execution_count": 50,
     "metadata": {},
     "output_type": "execute_result"
    }
   ],
   "source": [
    "metrics.mean_squared_error(pred_test,y_test)"
   ]
  },
  {
   "cell_type": "code",
   "execution_count": 51,
   "id": "31370931",
   "metadata": {},
   "outputs": [
    {
     "data": {
      "text/plain": [
       "0.28220779352953596"
      ]
     },
     "execution_count": 51,
     "metadata": {},
     "output_type": "execute_result"
    }
   ],
   "source": [
    "metrics.mean_squared_error(pred_train,y_train)"
   ]
  },
  {
   "cell_type": "code",
   "execution_count": 52,
   "id": "c7375c82",
   "metadata": {},
   "outputs": [
    {
     "data": {
      "text/plain": [
       "0.424400343519708"
      ]
     },
     "execution_count": 52,
     "metadata": {},
     "output_type": "execute_result"
    }
   ],
   "source": [
    "metrics.mean_absolute_error(pred_test,y_test)"
   ]
  },
  {
   "cell_type": "code",
   "execution_count": 53,
   "id": "7b272904",
   "metadata": {},
   "outputs": [
    {
     "data": {
      "text/plain": [
       "0.41237738685939984"
      ]
     },
     "execution_count": 53,
     "metadata": {},
     "output_type": "execute_result"
    }
   ],
   "source": [
    "metrics.mean_absolute_error(pred_train,y_train)"
   ]
  },
  {
   "cell_type": "markdown",
   "id": "146eaf2d",
   "metadata": {},
   "source": [
    "##### ElasticNet Regularization"
   ]
  },
  {
   "cell_type": "code",
   "execution_count": 54,
   "id": "c6b91d0b",
   "metadata": {},
   "outputs": [],
   "source": [
    "from sklearn.linear_model import ElasticNet"
   ]
  },
  {
   "cell_type": "code",
   "execution_count": 55,
   "id": "8e4e8951",
   "metadata": {},
   "outputs": [
    {
     "data": {
      "text/plain": [
       "0.2652845849424401"
      ]
     },
     "execution_count": 55,
     "metadata": {},
     "output_type": "execute_result"
    }
   ],
   "source": [
    "en=ElasticNet(random_state=0)\n",
    "en.fit(x_train,y_train)\n",
    "en.score(x_train,y_train)"
   ]
  },
  {
   "cell_type": "code",
   "execution_count": 56,
   "id": "0078d215",
   "metadata": {},
   "outputs": [
    {
     "data": {
      "text/plain": [
       "0.25601578289685045"
      ]
     },
     "execution_count": 56,
     "metadata": {},
     "output_type": "execute_result"
    }
   ],
   "source": [
    "en.score(x_test,y_test)"
   ]
  },
  {
   "cell_type": "markdown",
   "id": "d0b1bcf6",
   "metadata": {},
   "source": [
    "###### Decision Tree"
   ]
  },
  {
   "cell_type": "code",
   "execution_count": 57,
   "id": "db59ee1f",
   "metadata": {},
   "outputs": [],
   "source": [
    "x=sales1[['Item_Weight', 'Item_Fat_Content', 'Item_Visibility', 'Item_MRP',\n",
    "       'Outlet_Size', 'years',\n",
    "       'Outlet_Location_Type_Tier 2', 'Outlet_Location_Type_Tier 3',\n",
    "       'Item_Type_Breads', 'Item_Type_Breakfast', 'Item_Type_Canned',\n",
    "       'Item_Type_Dairy', 'Item_Type_Frozen Foods',\n",
    "       'Item_Type_Fruits and Vegetables', 'Item_Type_Hard Drinks',\n",
    "       'Item_Type_Health and Hygiene', 'Item_Type_Household', 'Item_Type_Meat',\n",
    "       'Item_Type_Others', 'Item_Type_Seafood', 'Item_Type_Snack Foods',\n",
    "       'Item_Type_Soft Drinks', 'Item_Type_Starchy Foods',\n",
    "       'Outlet_Type_Supermarket Type1', 'Outlet_Type_Supermarket Type2',\n",
    "       'Outlet_Type_Supermarket Type3', 'Outlet_Identifier_OUT013',\n",
    "       'Outlet_Identifier_OUT017', 'Outlet_Identifier_OUT018',\n",
    "       'Outlet_Identifier_OUT019', 'Outlet_Identifier_OUT027',\n",
    "       'Outlet_Identifier_OUT035', 'Outlet_Identifier_OUT045',\n",
    "       'Outlet_Identifier_OUT046', 'Outlet_Identifier_OUT049']]\n",
    "\n",
    "y=sales[\"Item_Outlet_Sales\"]"
   ]
  },
  {
   "cell_type": "code",
   "execution_count": 58,
   "id": "dcee7bc0",
   "metadata": {},
   "outputs": [],
   "source": [
    "x_train,x_test,y_train,y_test=train_test_split(x,y,test_size=0.3,random_state=0)"
   ]
  },
  {
   "cell_type": "code",
   "execution_count": 59,
   "id": "91edbf18",
   "metadata": {},
   "outputs": [
    {
     "data": {
      "text/plain": [
       "DecisionTreeRegressor()"
      ]
     },
     "execution_count": 59,
     "metadata": {},
     "output_type": "execute_result"
    }
   ],
   "source": [
    "dt=DecisionTreeRegressor()\n",
    "dt.fit(x_train,y_train)"
   ]
  },
  {
   "cell_type": "code",
   "execution_count": 60,
   "id": "6b10e554",
   "metadata": {},
   "outputs": [
    {
     "data": {
      "text/plain": [
       "1.0"
      ]
     },
     "execution_count": 60,
     "metadata": {},
     "output_type": "execute_result"
    }
   ],
   "source": [
    "dt.score(x_train,y_train)"
   ]
  },
  {
   "cell_type": "code",
   "execution_count": 61,
   "id": "bef04a59",
   "metadata": {},
   "outputs": [
    {
     "data": {
      "text/plain": [
       "0.26480045002642394"
      ]
     },
     "execution_count": 61,
     "metadata": {},
     "output_type": "execute_result"
    }
   ],
   "source": [
    "dt.score(x_test,y_test)"
   ]
  },
  {
   "cell_type": "code",
   "execution_count": null,
   "id": "a53b2b19",
   "metadata": {},
   "outputs": [],
   "source": []
  },
  {
   "cell_type": "code",
   "execution_count": 62,
   "id": "99a94d02",
   "metadata": {},
   "outputs": [],
   "source": [
    "param={\"criterion\":[\"squared_error\", \"friedman_mse\"],\n",
    "      \"max_depth\":[5,7,9,11],\n",
    "      \"min_samples_split\":[5,10,20,30,50,120],\n",
    "      \"min_samples_leaf\":[5,15,30,50,100]}\n",
    "\n",
    "gd=GridSearchCV(estimator=dt,param_grid=param, cv=5, n_jobs=1, verbose=2)"
   ]
  },
  {
   "cell_type": "code",
   "execution_count": 63,
   "id": "e3fa9728",
   "metadata": {},
   "outputs": [
    {
     "name": "stdout",
     "output_type": "stream",
     "text": [
      "Fitting 5 folds for each of 240 candidates, totalling 1200 fits\n",
      "[CV] END criterion=squared_error, max_depth=5, min_samples_leaf=5, min_samples_split=5; total time=   0.0s\n",
      "[CV] END criterion=squared_error, max_depth=5, min_samples_leaf=5, min_samples_split=5; total time=   0.0s\n",
      "[CV] END criterion=squared_error, max_depth=5, min_samples_leaf=5, min_samples_split=5; total time=   0.0s\n",
      "[CV] END criterion=squared_error, max_depth=5, min_samples_leaf=5, min_samples_split=5; total time=   0.0s\n",
      "[CV] END criterion=squared_error, max_depth=5, min_samples_leaf=5, min_samples_split=5; total time=   0.0s\n",
      "[CV] END criterion=squared_error, max_depth=5, min_samples_leaf=5, min_samples_split=10; total time=   0.0s\n",
      "[CV] END criterion=squared_error, max_depth=5, min_samples_leaf=5, min_samples_split=10; total time=   0.0s\n",
      "[CV] END criterion=squared_error, max_depth=5, min_samples_leaf=5, min_samples_split=10; total time=   0.0s\n",
      "[CV] END criterion=squared_error, max_depth=5, min_samples_leaf=5, min_samples_split=10; total time=   0.0s\n",
      "[CV] END criterion=squared_error, max_depth=5, min_samples_leaf=5, min_samples_split=10; total time=   0.0s\n",
      "[CV] END criterion=squared_error, max_depth=5, min_samples_leaf=5, min_samples_split=20; total time=   0.0s\n",
      "[CV] END criterion=squared_error, max_depth=5, min_samples_leaf=5, min_samples_split=20; total time=   0.0s\n",
      "[CV] END criterion=squared_error, max_depth=5, min_samples_leaf=5, min_samples_split=20; total time=   0.0s\n",
      "[CV] END criterion=squared_error, max_depth=5, min_samples_leaf=5, min_samples_split=20; total time=   0.0s\n",
      "[CV] END criterion=squared_error, max_depth=5, min_samples_leaf=5, min_samples_split=20; total time=   0.0s\n",
      "[CV] END criterion=squared_error, max_depth=5, min_samples_leaf=5, min_samples_split=30; total time=   0.0s\n",
      "[CV] END criterion=squared_error, max_depth=5, min_samples_leaf=5, min_samples_split=30; total time=   0.0s\n",
      "[CV] END criterion=squared_error, max_depth=5, min_samples_leaf=5, min_samples_split=30; total time=   0.0s\n",
      "[CV] END criterion=squared_error, max_depth=5, min_samples_leaf=5, min_samples_split=30; total time=   0.0s\n",
      "[CV] END criterion=squared_error, max_depth=5, min_samples_leaf=5, min_samples_split=30; total time=   0.0s\n",
      "[CV] END criterion=squared_error, max_depth=5, min_samples_leaf=5, min_samples_split=50; total time=   0.0s\n",
      "[CV] END criterion=squared_error, max_depth=5, min_samples_leaf=5, min_samples_split=50; total time=   0.0s\n",
      "[CV] END criterion=squared_error, max_depth=5, min_samples_leaf=5, min_samples_split=50; total time=   0.0s\n",
      "[CV] END criterion=squared_error, max_depth=5, min_samples_leaf=5, min_samples_split=50; total time=   0.0s\n",
      "[CV] END criterion=squared_error, max_depth=5, min_samples_leaf=5, min_samples_split=50; total time=   0.0s\n",
      "[CV] END criterion=squared_error, max_depth=5, min_samples_leaf=5, min_samples_split=120; total time=   0.0s\n",
      "[CV] END criterion=squared_error, max_depth=5, min_samples_leaf=5, min_samples_split=120; total time=   0.0s\n",
      "[CV] END criterion=squared_error, max_depth=5, min_samples_leaf=5, min_samples_split=120; total time=   0.0s\n",
      "[CV] END criterion=squared_error, max_depth=5, min_samples_leaf=5, min_samples_split=120; total time=   0.0s\n",
      "[CV] END criterion=squared_error, max_depth=5, min_samples_leaf=5, min_samples_split=120; total time=   0.0s\n",
      "[CV] END criterion=squared_error, max_depth=5, min_samples_leaf=15, min_samples_split=5; total time=   0.0s\n",
      "[CV] END criterion=squared_error, max_depth=5, min_samples_leaf=15, min_samples_split=5; total time=   0.0s\n",
      "[CV] END criterion=squared_error, max_depth=5, min_samples_leaf=15, min_samples_split=5; total time=   0.0s\n",
      "[CV] END criterion=squared_error, max_depth=5, min_samples_leaf=15, min_samples_split=5; total time=   0.0s\n",
      "[CV] END criterion=squared_error, max_depth=5, min_samples_leaf=15, min_samples_split=5; total time=   0.0s\n",
      "[CV] END criterion=squared_error, max_depth=5, min_samples_leaf=15, min_samples_split=10; total time=   0.0s\n",
      "[CV] END criterion=squared_error, max_depth=5, min_samples_leaf=15, min_samples_split=10; total time=   0.0s\n",
      "[CV] END criterion=squared_error, max_depth=5, min_samples_leaf=15, min_samples_split=10; total time=   0.0s\n",
      "[CV] END criterion=squared_error, max_depth=5, min_samples_leaf=15, min_samples_split=10; total time=   0.0s\n",
      "[CV] END criterion=squared_error, max_depth=5, min_samples_leaf=15, min_samples_split=10; total time=   0.0s\n",
      "[CV] END criterion=squared_error, max_depth=5, min_samples_leaf=15, min_samples_split=20; total time=   0.0s\n",
      "[CV] END criterion=squared_error, max_depth=5, min_samples_leaf=15, min_samples_split=20; total time=   0.0s\n",
      "[CV] END criterion=squared_error, max_depth=5, min_samples_leaf=15, min_samples_split=20; total time=   0.0s\n",
      "[CV] END criterion=squared_error, max_depth=5, min_samples_leaf=15, min_samples_split=20; total time=   0.0s\n",
      "[CV] END criterion=squared_error, max_depth=5, min_samples_leaf=15, min_samples_split=20; total time=   0.0s\n",
      "[CV] END criterion=squared_error, max_depth=5, min_samples_leaf=15, min_samples_split=30; total time=   0.0s\n",
      "[CV] END criterion=squared_error, max_depth=5, min_samples_leaf=15, min_samples_split=30; total time=   0.0s\n",
      "[CV] END criterion=squared_error, max_depth=5, min_samples_leaf=15, min_samples_split=30; total time=   0.0s\n",
      "[CV] END criterion=squared_error, max_depth=5, min_samples_leaf=15, min_samples_split=30; total time=   0.0s\n",
      "[CV] END criterion=squared_error, max_depth=5, min_samples_leaf=15, min_samples_split=30; total time=   0.0s\n",
      "[CV] END criterion=squared_error, max_depth=5, min_samples_leaf=15, min_samples_split=50; total time=   0.0s\n",
      "[CV] END criterion=squared_error, max_depth=5, min_samples_leaf=15, min_samples_split=50; total time=   0.0s\n",
      "[CV] END criterion=squared_error, max_depth=5, min_samples_leaf=15, min_samples_split=50; total time=   0.0s\n",
      "[CV] END criterion=squared_error, max_depth=5, min_samples_leaf=15, min_samples_split=50; total time=   0.0s\n",
      "[CV] END criterion=squared_error, max_depth=5, min_samples_leaf=15, min_samples_split=50; total time=   0.0s\n",
      "[CV] END criterion=squared_error, max_depth=5, min_samples_leaf=15, min_samples_split=120; total time=   0.0s\n",
      "[CV] END criterion=squared_error, max_depth=5, min_samples_leaf=15, min_samples_split=120; total time=   0.0s\n",
      "[CV] END criterion=squared_error, max_depth=5, min_samples_leaf=15, min_samples_split=120; total time=   0.0s\n",
      "[CV] END criterion=squared_error, max_depth=5, min_samples_leaf=15, min_samples_split=120; total time=   0.0s\n",
      "[CV] END criterion=squared_error, max_depth=5, min_samples_leaf=15, min_samples_split=120; total time=   0.0s\n",
      "[CV] END criterion=squared_error, max_depth=5, min_samples_leaf=30, min_samples_split=5; total time=   0.0s\n",
      "[CV] END criterion=squared_error, max_depth=5, min_samples_leaf=30, min_samples_split=5; total time=   0.0s\n",
      "[CV] END criterion=squared_error, max_depth=5, min_samples_leaf=30, min_samples_split=5; total time=   0.0s\n",
      "[CV] END criterion=squared_error, max_depth=5, min_samples_leaf=30, min_samples_split=5; total time=   0.0s\n",
      "[CV] END criterion=squared_error, max_depth=5, min_samples_leaf=30, min_samples_split=5; total time=   0.0s\n",
      "[CV] END criterion=squared_error, max_depth=5, min_samples_leaf=30, min_samples_split=10; total time=   0.0s\n",
      "[CV] END criterion=squared_error, max_depth=5, min_samples_leaf=30, min_samples_split=10; total time=   0.0s\n",
      "[CV] END criterion=squared_error, max_depth=5, min_samples_leaf=30, min_samples_split=10; total time=   0.0s\n",
      "[CV] END criterion=squared_error, max_depth=5, min_samples_leaf=30, min_samples_split=10; total time=   0.0s\n",
      "[CV] END criterion=squared_error, max_depth=5, min_samples_leaf=30, min_samples_split=10; total time=   0.0s\n",
      "[CV] END criterion=squared_error, max_depth=5, min_samples_leaf=30, min_samples_split=20; total time=   0.0s\n",
      "[CV] END criterion=squared_error, max_depth=5, min_samples_leaf=30, min_samples_split=20; total time=   0.0s\n",
      "[CV] END criterion=squared_error, max_depth=5, min_samples_leaf=30, min_samples_split=20; total time=   0.0s\n",
      "[CV] END criterion=squared_error, max_depth=5, min_samples_leaf=30, min_samples_split=20; total time=   0.0s\n",
      "[CV] END criterion=squared_error, max_depth=5, min_samples_leaf=30, min_samples_split=20; total time=   0.0s\n",
      "[CV] END criterion=squared_error, max_depth=5, min_samples_leaf=30, min_samples_split=30; total time=   0.0s\n",
      "[CV] END criterion=squared_error, max_depth=5, min_samples_leaf=30, min_samples_split=30; total time=   0.0s\n",
      "[CV] END criterion=squared_error, max_depth=5, min_samples_leaf=30, min_samples_split=30; total time=   0.0s\n",
      "[CV] END criterion=squared_error, max_depth=5, min_samples_leaf=30, min_samples_split=30; total time=   0.0s\n",
      "[CV] END criterion=squared_error, max_depth=5, min_samples_leaf=30, min_samples_split=30; total time=   0.0s\n",
      "[CV] END criterion=squared_error, max_depth=5, min_samples_leaf=30, min_samples_split=50; total time=   0.0s\n",
      "[CV] END criterion=squared_error, max_depth=5, min_samples_leaf=30, min_samples_split=50; total time=   0.0s\n",
      "[CV] END criterion=squared_error, max_depth=5, min_samples_leaf=30, min_samples_split=50; total time=   0.0s\n"
     ]
    },
    {
     "name": "stdout",
     "output_type": "stream",
     "text": [
      "[CV] END criterion=squared_error, max_depth=5, min_samples_leaf=30, min_samples_split=50; total time=   0.0s\n",
      "[CV] END criterion=squared_error, max_depth=5, min_samples_leaf=30, min_samples_split=50; total time=   0.0s\n",
      "[CV] END criterion=squared_error, max_depth=5, min_samples_leaf=30, min_samples_split=120; total time=   0.0s\n",
      "[CV] END criterion=squared_error, max_depth=5, min_samples_leaf=30, min_samples_split=120; total time=   0.0s\n",
      "[CV] END criterion=squared_error, max_depth=5, min_samples_leaf=30, min_samples_split=120; total time=   0.0s\n",
      "[CV] END criterion=squared_error, max_depth=5, min_samples_leaf=30, min_samples_split=120; total time=   0.0s\n",
      "[CV] END criterion=squared_error, max_depth=5, min_samples_leaf=30, min_samples_split=120; total time=   0.0s\n",
      "[CV] END criterion=squared_error, max_depth=5, min_samples_leaf=50, min_samples_split=5; total time=   0.0s\n",
      "[CV] END criterion=squared_error, max_depth=5, min_samples_leaf=50, min_samples_split=5; total time=   0.0s\n",
      "[CV] END criterion=squared_error, max_depth=5, min_samples_leaf=50, min_samples_split=5; total time=   0.0s\n",
      "[CV] END criterion=squared_error, max_depth=5, min_samples_leaf=50, min_samples_split=5; total time=   0.0s\n",
      "[CV] END criterion=squared_error, max_depth=5, min_samples_leaf=50, min_samples_split=5; total time=   0.0s\n",
      "[CV] END criterion=squared_error, max_depth=5, min_samples_leaf=50, min_samples_split=10; total time=   0.0s\n",
      "[CV] END criterion=squared_error, max_depth=5, min_samples_leaf=50, min_samples_split=10; total time=   0.0s\n",
      "[CV] END criterion=squared_error, max_depth=5, min_samples_leaf=50, min_samples_split=10; total time=   0.0s\n",
      "[CV] END criterion=squared_error, max_depth=5, min_samples_leaf=50, min_samples_split=10; total time=   0.0s\n",
      "[CV] END criterion=squared_error, max_depth=5, min_samples_leaf=50, min_samples_split=10; total time=   0.0s\n",
      "[CV] END criterion=squared_error, max_depth=5, min_samples_leaf=50, min_samples_split=20; total time=   0.0s\n",
      "[CV] END criterion=squared_error, max_depth=5, min_samples_leaf=50, min_samples_split=20; total time=   0.0s\n",
      "[CV] END criterion=squared_error, max_depth=5, min_samples_leaf=50, min_samples_split=20; total time=   0.0s\n",
      "[CV] END criterion=squared_error, max_depth=5, min_samples_leaf=50, min_samples_split=20; total time=   0.0s\n",
      "[CV] END criterion=squared_error, max_depth=5, min_samples_leaf=50, min_samples_split=20; total time=   0.0s\n",
      "[CV] END criterion=squared_error, max_depth=5, min_samples_leaf=50, min_samples_split=30; total time=   0.0s\n",
      "[CV] END criterion=squared_error, max_depth=5, min_samples_leaf=50, min_samples_split=30; total time=   0.0s\n",
      "[CV] END criterion=squared_error, max_depth=5, min_samples_leaf=50, min_samples_split=30; total time=   0.0s\n",
      "[CV] END criterion=squared_error, max_depth=5, min_samples_leaf=50, min_samples_split=30; total time=   0.0s\n",
      "[CV] END criterion=squared_error, max_depth=5, min_samples_leaf=50, min_samples_split=30; total time=   0.0s\n",
      "[CV] END criterion=squared_error, max_depth=5, min_samples_leaf=50, min_samples_split=50; total time=   0.0s\n",
      "[CV] END criterion=squared_error, max_depth=5, min_samples_leaf=50, min_samples_split=50; total time=   0.0s\n",
      "[CV] END criterion=squared_error, max_depth=5, min_samples_leaf=50, min_samples_split=50; total time=   0.0s\n",
      "[CV] END criterion=squared_error, max_depth=5, min_samples_leaf=50, min_samples_split=50; total time=   0.0s\n",
      "[CV] END criterion=squared_error, max_depth=5, min_samples_leaf=50, min_samples_split=50; total time=   0.0s\n",
      "[CV] END criterion=squared_error, max_depth=5, min_samples_leaf=50, min_samples_split=120; total time=   0.0s\n",
      "[CV] END criterion=squared_error, max_depth=5, min_samples_leaf=50, min_samples_split=120; total time=   0.0s\n",
      "[CV] END criterion=squared_error, max_depth=5, min_samples_leaf=50, min_samples_split=120; total time=   0.0s\n",
      "[CV] END criterion=squared_error, max_depth=5, min_samples_leaf=50, min_samples_split=120; total time=   0.0s\n",
      "[CV] END criterion=squared_error, max_depth=5, min_samples_leaf=50, min_samples_split=120; total time=   0.0s\n",
      "[CV] END criterion=squared_error, max_depth=5, min_samples_leaf=100, min_samples_split=5; total time=   0.0s\n",
      "[CV] END criterion=squared_error, max_depth=5, min_samples_leaf=100, min_samples_split=5; total time=   0.0s\n",
      "[CV] END criterion=squared_error, max_depth=5, min_samples_leaf=100, min_samples_split=5; total time=   0.0s\n",
      "[CV] END criterion=squared_error, max_depth=5, min_samples_leaf=100, min_samples_split=5; total time=   0.0s\n",
      "[CV] END criterion=squared_error, max_depth=5, min_samples_leaf=100, min_samples_split=5; total time=   0.0s\n",
      "[CV] END criterion=squared_error, max_depth=5, min_samples_leaf=100, min_samples_split=10; total time=   0.0s\n",
      "[CV] END criterion=squared_error, max_depth=5, min_samples_leaf=100, min_samples_split=10; total time=   0.0s\n",
      "[CV] END criterion=squared_error, max_depth=5, min_samples_leaf=100, min_samples_split=10; total time=   0.0s\n",
      "[CV] END criterion=squared_error, max_depth=5, min_samples_leaf=100, min_samples_split=10; total time=   0.0s\n",
      "[CV] END criterion=squared_error, max_depth=5, min_samples_leaf=100, min_samples_split=10; total time=   0.0s\n",
      "[CV] END criterion=squared_error, max_depth=5, min_samples_leaf=100, min_samples_split=20; total time=   0.0s\n",
      "[CV] END criterion=squared_error, max_depth=5, min_samples_leaf=100, min_samples_split=20; total time=   0.0s\n",
      "[CV] END criterion=squared_error, max_depth=5, min_samples_leaf=100, min_samples_split=20; total time=   0.0s\n",
      "[CV] END criterion=squared_error, max_depth=5, min_samples_leaf=100, min_samples_split=20; total time=   0.0s\n",
      "[CV] END criterion=squared_error, max_depth=5, min_samples_leaf=100, min_samples_split=20; total time=   0.0s\n",
      "[CV] END criterion=squared_error, max_depth=5, min_samples_leaf=100, min_samples_split=30; total time=   0.0s\n",
      "[CV] END criterion=squared_error, max_depth=5, min_samples_leaf=100, min_samples_split=30; total time=   0.0s\n",
      "[CV] END criterion=squared_error, max_depth=5, min_samples_leaf=100, min_samples_split=30; total time=   0.0s\n",
      "[CV] END criterion=squared_error, max_depth=5, min_samples_leaf=100, min_samples_split=30; total time=   0.0s\n",
      "[CV] END criterion=squared_error, max_depth=5, min_samples_leaf=100, min_samples_split=30; total time=   0.0s\n",
      "[CV] END criterion=squared_error, max_depth=5, min_samples_leaf=100, min_samples_split=50; total time=   0.0s\n",
      "[CV] END criterion=squared_error, max_depth=5, min_samples_leaf=100, min_samples_split=50; total time=   0.0s\n",
      "[CV] END criterion=squared_error, max_depth=5, min_samples_leaf=100, min_samples_split=50; total time=   0.0s\n",
      "[CV] END criterion=squared_error, max_depth=5, min_samples_leaf=100, min_samples_split=50; total time=   0.0s\n",
      "[CV] END criterion=squared_error, max_depth=5, min_samples_leaf=100, min_samples_split=50; total time=   0.0s\n",
      "[CV] END criterion=squared_error, max_depth=5, min_samples_leaf=100, min_samples_split=120; total time=   0.0s\n",
      "[CV] END criterion=squared_error, max_depth=5, min_samples_leaf=100, min_samples_split=120; total time=   0.0s\n",
      "[CV] END criterion=squared_error, max_depth=5, min_samples_leaf=100, min_samples_split=120; total time=   0.0s\n",
      "[CV] END criterion=squared_error, max_depth=5, min_samples_leaf=100, min_samples_split=120; total time=   0.0s\n",
      "[CV] END criterion=squared_error, max_depth=5, min_samples_leaf=100, min_samples_split=120; total time=   0.0s\n",
      "[CV] END criterion=squared_error, max_depth=7, min_samples_leaf=5, min_samples_split=5; total time=   0.0s\n",
      "[CV] END criterion=squared_error, max_depth=7, min_samples_leaf=5, min_samples_split=5; total time=   0.0s\n",
      "[CV] END criterion=squared_error, max_depth=7, min_samples_leaf=5, min_samples_split=5; total time=   0.0s\n",
      "[CV] END criterion=squared_error, max_depth=7, min_samples_leaf=5, min_samples_split=5; total time=   0.0s\n",
      "[CV] END criterion=squared_error, max_depth=7, min_samples_leaf=5, min_samples_split=5; total time=   0.0s\n",
      "[CV] END criterion=squared_error, max_depth=7, min_samples_leaf=5, min_samples_split=10; total time=   0.0s\n",
      "[CV] END criterion=squared_error, max_depth=7, min_samples_leaf=5, min_samples_split=10; total time=   0.0s\n",
      "[CV] END criterion=squared_error, max_depth=7, min_samples_leaf=5, min_samples_split=10; total time=   0.0s\n",
      "[CV] END criterion=squared_error, max_depth=7, min_samples_leaf=5, min_samples_split=10; total time=   0.0s\n",
      "[CV] END criterion=squared_error, max_depth=7, min_samples_leaf=5, min_samples_split=10; total time=   0.0s\n",
      "[CV] END criterion=squared_error, max_depth=7, min_samples_leaf=5, min_samples_split=20; total time=   0.0s\n",
      "[CV] END criterion=squared_error, max_depth=7, min_samples_leaf=5, min_samples_split=20; total time=   0.0s\n",
      "[CV] END criterion=squared_error, max_depth=7, min_samples_leaf=5, min_samples_split=20; total time=   0.0s\n",
      "[CV] END criterion=squared_error, max_depth=7, min_samples_leaf=5, min_samples_split=20; total time=   0.0s\n",
      "[CV] END criterion=squared_error, max_depth=7, min_samples_leaf=5, min_samples_split=20; total time=   0.0s\n",
      "[CV] END criterion=squared_error, max_depth=7, min_samples_leaf=5, min_samples_split=30; total time=   0.0s\n"
     ]
    },
    {
     "name": "stdout",
     "output_type": "stream",
     "text": [
      "[CV] END criterion=squared_error, max_depth=7, min_samples_leaf=5, min_samples_split=30; total time=   0.0s\n",
      "[CV] END criterion=squared_error, max_depth=7, min_samples_leaf=5, min_samples_split=30; total time=   0.0s\n",
      "[CV] END criterion=squared_error, max_depth=7, min_samples_leaf=5, min_samples_split=30; total time=   0.0s\n",
      "[CV] END criterion=squared_error, max_depth=7, min_samples_leaf=5, min_samples_split=30; total time=   0.0s\n",
      "[CV] END criterion=squared_error, max_depth=7, min_samples_leaf=5, min_samples_split=50; total time=   0.0s\n",
      "[CV] END criterion=squared_error, max_depth=7, min_samples_leaf=5, min_samples_split=50; total time=   0.0s\n",
      "[CV] END criterion=squared_error, max_depth=7, min_samples_leaf=5, min_samples_split=50; total time=   0.0s\n",
      "[CV] END criterion=squared_error, max_depth=7, min_samples_leaf=5, min_samples_split=50; total time=   0.0s\n",
      "[CV] END criterion=squared_error, max_depth=7, min_samples_leaf=5, min_samples_split=50; total time=   0.0s\n",
      "[CV] END criterion=squared_error, max_depth=7, min_samples_leaf=5, min_samples_split=120; total time=   0.0s\n",
      "[CV] END criterion=squared_error, max_depth=7, min_samples_leaf=5, min_samples_split=120; total time=   0.0s\n",
      "[CV] END criterion=squared_error, max_depth=7, min_samples_leaf=5, min_samples_split=120; total time=   0.0s\n",
      "[CV] END criterion=squared_error, max_depth=7, min_samples_leaf=5, min_samples_split=120; total time=   0.0s\n",
      "[CV] END criterion=squared_error, max_depth=7, min_samples_leaf=5, min_samples_split=120; total time=   0.0s\n",
      "[CV] END criterion=squared_error, max_depth=7, min_samples_leaf=15, min_samples_split=5; total time=   0.0s\n",
      "[CV] END criterion=squared_error, max_depth=7, min_samples_leaf=15, min_samples_split=5; total time=   0.0s\n",
      "[CV] END criterion=squared_error, max_depth=7, min_samples_leaf=15, min_samples_split=5; total time=   0.0s\n",
      "[CV] END criterion=squared_error, max_depth=7, min_samples_leaf=15, min_samples_split=5; total time=   0.0s\n",
      "[CV] END criterion=squared_error, max_depth=7, min_samples_leaf=15, min_samples_split=5; total time=   0.0s\n",
      "[CV] END criterion=squared_error, max_depth=7, min_samples_leaf=15, min_samples_split=10; total time=   0.0s\n",
      "[CV] END criterion=squared_error, max_depth=7, min_samples_leaf=15, min_samples_split=10; total time=   0.0s\n",
      "[CV] END criterion=squared_error, max_depth=7, min_samples_leaf=15, min_samples_split=10; total time=   0.0s\n",
      "[CV] END criterion=squared_error, max_depth=7, min_samples_leaf=15, min_samples_split=10; total time=   0.0s\n",
      "[CV] END criterion=squared_error, max_depth=7, min_samples_leaf=15, min_samples_split=10; total time=   0.0s\n",
      "[CV] END criterion=squared_error, max_depth=7, min_samples_leaf=15, min_samples_split=20; total time=   0.0s\n",
      "[CV] END criterion=squared_error, max_depth=7, min_samples_leaf=15, min_samples_split=20; total time=   0.0s\n",
      "[CV] END criterion=squared_error, max_depth=7, min_samples_leaf=15, min_samples_split=20; total time=   0.0s\n",
      "[CV] END criterion=squared_error, max_depth=7, min_samples_leaf=15, min_samples_split=20; total time=   0.0s\n",
      "[CV] END criterion=squared_error, max_depth=7, min_samples_leaf=15, min_samples_split=20; total time=   0.0s\n",
      "[CV] END criterion=squared_error, max_depth=7, min_samples_leaf=15, min_samples_split=30; total time=   0.0s\n",
      "[CV] END criterion=squared_error, max_depth=7, min_samples_leaf=15, min_samples_split=30; total time=   0.0s\n",
      "[CV] END criterion=squared_error, max_depth=7, min_samples_leaf=15, min_samples_split=30; total time=   0.0s\n",
      "[CV] END criterion=squared_error, max_depth=7, min_samples_leaf=15, min_samples_split=30; total time=   0.0s\n",
      "[CV] END criterion=squared_error, max_depth=7, min_samples_leaf=15, min_samples_split=30; total time=   0.0s\n",
      "[CV] END criterion=squared_error, max_depth=7, min_samples_leaf=15, min_samples_split=50; total time=   0.0s\n",
      "[CV] END criterion=squared_error, max_depth=7, min_samples_leaf=15, min_samples_split=50; total time=   0.0s\n",
      "[CV] END criterion=squared_error, max_depth=7, min_samples_leaf=15, min_samples_split=50; total time=   0.0s\n",
      "[CV] END criterion=squared_error, max_depth=7, min_samples_leaf=15, min_samples_split=50; total time=   0.0s\n",
      "[CV] END criterion=squared_error, max_depth=7, min_samples_leaf=15, min_samples_split=50; total time=   0.0s\n",
      "[CV] END criterion=squared_error, max_depth=7, min_samples_leaf=15, min_samples_split=120; total time=   0.0s\n",
      "[CV] END criterion=squared_error, max_depth=7, min_samples_leaf=15, min_samples_split=120; total time=   0.0s\n",
      "[CV] END criterion=squared_error, max_depth=7, min_samples_leaf=15, min_samples_split=120; total time=   0.0s\n",
      "[CV] END criterion=squared_error, max_depth=7, min_samples_leaf=15, min_samples_split=120; total time=   0.0s\n",
      "[CV] END criterion=squared_error, max_depth=7, min_samples_leaf=15, min_samples_split=120; total time=   0.0s\n",
      "[CV] END criterion=squared_error, max_depth=7, min_samples_leaf=30, min_samples_split=5; total time=   0.0s\n",
      "[CV] END criterion=squared_error, max_depth=7, min_samples_leaf=30, min_samples_split=5; total time=   0.0s\n",
      "[CV] END criterion=squared_error, max_depth=7, min_samples_leaf=30, min_samples_split=5; total time=   0.0s\n",
      "[CV] END criterion=squared_error, max_depth=7, min_samples_leaf=30, min_samples_split=5; total time=   0.0s\n",
      "[CV] END criterion=squared_error, max_depth=7, min_samples_leaf=30, min_samples_split=5; total time=   0.0s\n",
      "[CV] END criterion=squared_error, max_depth=7, min_samples_leaf=30, min_samples_split=10; total time=   0.0s\n",
      "[CV] END criterion=squared_error, max_depth=7, min_samples_leaf=30, min_samples_split=10; total time=   0.0s\n",
      "[CV] END criterion=squared_error, max_depth=7, min_samples_leaf=30, min_samples_split=10; total time=   0.0s\n",
      "[CV] END criterion=squared_error, max_depth=7, min_samples_leaf=30, min_samples_split=10; total time=   0.0s\n",
      "[CV] END criterion=squared_error, max_depth=7, min_samples_leaf=30, min_samples_split=10; total time=   0.0s\n",
      "[CV] END criterion=squared_error, max_depth=7, min_samples_leaf=30, min_samples_split=20; total time=   0.0s\n",
      "[CV] END criterion=squared_error, max_depth=7, min_samples_leaf=30, min_samples_split=20; total time=   0.0s\n",
      "[CV] END criterion=squared_error, max_depth=7, min_samples_leaf=30, min_samples_split=20; total time=   0.0s\n",
      "[CV] END criterion=squared_error, max_depth=7, min_samples_leaf=30, min_samples_split=20; total time=   0.0s\n",
      "[CV] END criterion=squared_error, max_depth=7, min_samples_leaf=30, min_samples_split=20; total time=   0.0s\n",
      "[CV] END criterion=squared_error, max_depth=7, min_samples_leaf=30, min_samples_split=30; total time=   0.0s\n",
      "[CV] END criterion=squared_error, max_depth=7, min_samples_leaf=30, min_samples_split=30; total time=   0.0s\n",
      "[CV] END criterion=squared_error, max_depth=7, min_samples_leaf=30, min_samples_split=30; total time=   0.0s\n",
      "[CV] END criterion=squared_error, max_depth=7, min_samples_leaf=30, min_samples_split=30; total time=   0.0s\n",
      "[CV] END criterion=squared_error, max_depth=7, min_samples_leaf=30, min_samples_split=30; total time=   0.0s\n",
      "[CV] END criterion=squared_error, max_depth=7, min_samples_leaf=30, min_samples_split=50; total time=   0.0s\n",
      "[CV] END criterion=squared_error, max_depth=7, min_samples_leaf=30, min_samples_split=50; total time=   0.0s\n",
      "[CV] END criterion=squared_error, max_depth=7, min_samples_leaf=30, min_samples_split=50; total time=   0.0s\n",
      "[CV] END criterion=squared_error, max_depth=7, min_samples_leaf=30, min_samples_split=50; total time=   0.0s\n",
      "[CV] END criterion=squared_error, max_depth=7, min_samples_leaf=30, min_samples_split=50; total time=   0.0s\n",
      "[CV] END criterion=squared_error, max_depth=7, min_samples_leaf=30, min_samples_split=120; total time=   0.0s\n",
      "[CV] END criterion=squared_error, max_depth=7, min_samples_leaf=30, min_samples_split=120; total time=   0.0s\n",
      "[CV] END criterion=squared_error, max_depth=7, min_samples_leaf=30, min_samples_split=120; total time=   0.0s\n",
      "[CV] END criterion=squared_error, max_depth=7, min_samples_leaf=30, min_samples_split=120; total time=   0.0s\n",
      "[CV] END criterion=squared_error, max_depth=7, min_samples_leaf=30, min_samples_split=120; total time=   0.0s\n",
      "[CV] END criterion=squared_error, max_depth=7, min_samples_leaf=50, min_samples_split=5; total time=   0.0s\n",
      "[CV] END criterion=squared_error, max_depth=7, min_samples_leaf=50, min_samples_split=5; total time=   0.0s\n",
      "[CV] END criterion=squared_error, max_depth=7, min_samples_leaf=50, min_samples_split=5; total time=   0.0s\n",
      "[CV] END criterion=squared_error, max_depth=7, min_samples_leaf=50, min_samples_split=5; total time=   0.0s\n"
     ]
    },
    {
     "name": "stdout",
     "output_type": "stream",
     "text": [
      "[CV] END criterion=squared_error, max_depth=7, min_samples_leaf=50, min_samples_split=5; total time=   0.0s\n",
      "[CV] END criterion=squared_error, max_depth=7, min_samples_leaf=50, min_samples_split=10; total time=   0.0s\n",
      "[CV] END criterion=squared_error, max_depth=7, min_samples_leaf=50, min_samples_split=10; total time=   0.0s\n",
      "[CV] END criterion=squared_error, max_depth=7, min_samples_leaf=50, min_samples_split=10; total time=   0.0s\n",
      "[CV] END criterion=squared_error, max_depth=7, min_samples_leaf=50, min_samples_split=10; total time=   0.0s\n",
      "[CV] END criterion=squared_error, max_depth=7, min_samples_leaf=50, min_samples_split=10; total time=   0.0s\n",
      "[CV] END criterion=squared_error, max_depth=7, min_samples_leaf=50, min_samples_split=20; total time=   0.0s\n",
      "[CV] END criterion=squared_error, max_depth=7, min_samples_leaf=50, min_samples_split=20; total time=   0.0s\n",
      "[CV] END criterion=squared_error, max_depth=7, min_samples_leaf=50, min_samples_split=20; total time=   0.0s\n",
      "[CV] END criterion=squared_error, max_depth=7, min_samples_leaf=50, min_samples_split=20; total time=   0.0s\n",
      "[CV] END criterion=squared_error, max_depth=7, min_samples_leaf=50, min_samples_split=20; total time=   0.0s\n",
      "[CV] END criterion=squared_error, max_depth=7, min_samples_leaf=50, min_samples_split=30; total time=   0.0s\n",
      "[CV] END criterion=squared_error, max_depth=7, min_samples_leaf=50, min_samples_split=30; total time=   0.0s\n",
      "[CV] END criterion=squared_error, max_depth=7, min_samples_leaf=50, min_samples_split=30; total time=   0.0s\n",
      "[CV] END criterion=squared_error, max_depth=7, min_samples_leaf=50, min_samples_split=30; total time=   0.0s\n",
      "[CV] END criterion=squared_error, max_depth=7, min_samples_leaf=50, min_samples_split=30; total time=   0.0s\n",
      "[CV] END criterion=squared_error, max_depth=7, min_samples_leaf=50, min_samples_split=50; total time=   0.0s\n",
      "[CV] END criterion=squared_error, max_depth=7, min_samples_leaf=50, min_samples_split=50; total time=   0.0s\n",
      "[CV] END criterion=squared_error, max_depth=7, min_samples_leaf=50, min_samples_split=50; total time=   0.0s\n",
      "[CV] END criterion=squared_error, max_depth=7, min_samples_leaf=50, min_samples_split=50; total time=   0.0s\n",
      "[CV] END criterion=squared_error, max_depth=7, min_samples_leaf=50, min_samples_split=50; total time=   0.0s\n",
      "[CV] END criterion=squared_error, max_depth=7, min_samples_leaf=50, min_samples_split=120; total time=   0.0s\n",
      "[CV] END criterion=squared_error, max_depth=7, min_samples_leaf=50, min_samples_split=120; total time=   0.0s\n",
      "[CV] END criterion=squared_error, max_depth=7, min_samples_leaf=50, min_samples_split=120; total time=   0.0s\n",
      "[CV] END criterion=squared_error, max_depth=7, min_samples_leaf=50, min_samples_split=120; total time=   0.0s\n",
      "[CV] END criterion=squared_error, max_depth=7, min_samples_leaf=50, min_samples_split=120; total time=   0.0s\n",
      "[CV] END criterion=squared_error, max_depth=7, min_samples_leaf=100, min_samples_split=5; total time=   0.0s\n",
      "[CV] END criterion=squared_error, max_depth=7, min_samples_leaf=100, min_samples_split=5; total time=   0.0s\n",
      "[CV] END criterion=squared_error, max_depth=7, min_samples_leaf=100, min_samples_split=5; total time=   0.0s\n",
      "[CV] END criterion=squared_error, max_depth=7, min_samples_leaf=100, min_samples_split=5; total time=   0.0s\n",
      "[CV] END criterion=squared_error, max_depth=7, min_samples_leaf=100, min_samples_split=5; total time=   0.0s\n",
      "[CV] END criterion=squared_error, max_depth=7, min_samples_leaf=100, min_samples_split=10; total time=   0.0s\n",
      "[CV] END criterion=squared_error, max_depth=7, min_samples_leaf=100, min_samples_split=10; total time=   0.0s\n",
      "[CV] END criterion=squared_error, max_depth=7, min_samples_leaf=100, min_samples_split=10; total time=   0.0s\n",
      "[CV] END criterion=squared_error, max_depth=7, min_samples_leaf=100, min_samples_split=10; total time=   0.0s\n",
      "[CV] END criterion=squared_error, max_depth=7, min_samples_leaf=100, min_samples_split=10; total time=   0.0s\n",
      "[CV] END criterion=squared_error, max_depth=7, min_samples_leaf=100, min_samples_split=20; total time=   0.0s\n",
      "[CV] END criterion=squared_error, max_depth=7, min_samples_leaf=100, min_samples_split=20; total time=   0.0s\n",
      "[CV] END criterion=squared_error, max_depth=7, min_samples_leaf=100, min_samples_split=20; total time=   0.0s\n",
      "[CV] END criterion=squared_error, max_depth=7, min_samples_leaf=100, min_samples_split=20; total time=   0.0s\n",
      "[CV] END criterion=squared_error, max_depth=7, min_samples_leaf=100, min_samples_split=20; total time=   0.0s\n",
      "[CV] END criterion=squared_error, max_depth=7, min_samples_leaf=100, min_samples_split=30; total time=   0.0s\n",
      "[CV] END criterion=squared_error, max_depth=7, min_samples_leaf=100, min_samples_split=30; total time=   0.0s\n",
      "[CV] END criterion=squared_error, max_depth=7, min_samples_leaf=100, min_samples_split=30; total time=   0.0s\n",
      "[CV] END criterion=squared_error, max_depth=7, min_samples_leaf=100, min_samples_split=30; total time=   0.0s\n",
      "[CV] END criterion=squared_error, max_depth=7, min_samples_leaf=100, min_samples_split=30; total time=   0.0s\n",
      "[CV] END criterion=squared_error, max_depth=7, min_samples_leaf=100, min_samples_split=50; total time=   0.0s\n",
      "[CV] END criterion=squared_error, max_depth=7, min_samples_leaf=100, min_samples_split=50; total time=   0.0s\n",
      "[CV] END criterion=squared_error, max_depth=7, min_samples_leaf=100, min_samples_split=50; total time=   0.0s\n",
      "[CV] END criterion=squared_error, max_depth=7, min_samples_leaf=100, min_samples_split=50; total time=   0.0s\n",
      "[CV] END criterion=squared_error, max_depth=7, min_samples_leaf=100, min_samples_split=50; total time=   0.0s\n",
      "[CV] END criterion=squared_error, max_depth=7, min_samples_leaf=100, min_samples_split=120; total time=   0.0s\n",
      "[CV] END criterion=squared_error, max_depth=7, min_samples_leaf=100, min_samples_split=120; total time=   0.0s\n",
      "[CV] END criterion=squared_error, max_depth=7, min_samples_leaf=100, min_samples_split=120; total time=   0.0s\n",
      "[CV] END criterion=squared_error, max_depth=7, min_samples_leaf=100, min_samples_split=120; total time=   0.0s\n",
      "[CV] END criterion=squared_error, max_depth=7, min_samples_leaf=100, min_samples_split=120; total time=   0.0s\n",
      "[CV] END criterion=squared_error, max_depth=9, min_samples_leaf=5, min_samples_split=5; total time=   0.0s\n",
      "[CV] END criterion=squared_error, max_depth=9, min_samples_leaf=5, min_samples_split=5; total time=   0.0s\n",
      "[CV] END criterion=squared_error, max_depth=9, min_samples_leaf=5, min_samples_split=5; total time=   0.0s\n",
      "[CV] END criterion=squared_error, max_depth=9, min_samples_leaf=5, min_samples_split=5; total time=   0.0s\n",
      "[CV] END criterion=squared_error, max_depth=9, min_samples_leaf=5, min_samples_split=5; total time=   0.0s\n",
      "[CV] END criterion=squared_error, max_depth=9, min_samples_leaf=5, min_samples_split=10; total time=   0.0s\n",
      "[CV] END criterion=squared_error, max_depth=9, min_samples_leaf=5, min_samples_split=10; total time=   0.0s\n",
      "[CV] END criterion=squared_error, max_depth=9, min_samples_leaf=5, min_samples_split=10; total time=   0.0s\n",
      "[CV] END criterion=squared_error, max_depth=9, min_samples_leaf=5, min_samples_split=10; total time=   0.0s\n",
      "[CV] END criterion=squared_error, max_depth=9, min_samples_leaf=5, min_samples_split=10; total time=   0.0s\n",
      "[CV] END criterion=squared_error, max_depth=9, min_samples_leaf=5, min_samples_split=20; total time=   0.0s\n",
      "[CV] END criterion=squared_error, max_depth=9, min_samples_leaf=5, min_samples_split=20; total time=   0.0s\n",
      "[CV] END criterion=squared_error, max_depth=9, min_samples_leaf=5, min_samples_split=20; total time=   0.0s\n",
      "[CV] END criterion=squared_error, max_depth=9, min_samples_leaf=5, min_samples_split=20; total time=   0.0s\n",
      "[CV] END criterion=squared_error, max_depth=9, min_samples_leaf=5, min_samples_split=20; total time=   0.0s\n",
      "[CV] END criterion=squared_error, max_depth=9, min_samples_leaf=5, min_samples_split=30; total time=   0.0s\n",
      "[CV] END criterion=squared_error, max_depth=9, min_samples_leaf=5, min_samples_split=30; total time=   0.0s\n",
      "[CV] END criterion=squared_error, max_depth=9, min_samples_leaf=5, min_samples_split=30; total time=   0.0s\n",
      "[CV] END criterion=squared_error, max_depth=9, min_samples_leaf=5, min_samples_split=30; total time=   0.0s\n",
      "[CV] END criterion=squared_error, max_depth=9, min_samples_leaf=5, min_samples_split=30; total time=   0.0s\n",
      "[CV] END criterion=squared_error, max_depth=9, min_samples_leaf=5, min_samples_split=50; total time=   0.0s\n"
     ]
    },
    {
     "name": "stdout",
     "output_type": "stream",
     "text": [
      "[CV] END criterion=squared_error, max_depth=9, min_samples_leaf=5, min_samples_split=50; total time=   0.0s\n",
      "[CV] END criterion=squared_error, max_depth=9, min_samples_leaf=5, min_samples_split=50; total time=   0.0s\n",
      "[CV] END criterion=squared_error, max_depth=9, min_samples_leaf=5, min_samples_split=50; total time=   0.0s\n",
      "[CV] END criterion=squared_error, max_depth=9, min_samples_leaf=5, min_samples_split=50; total time=   0.0s\n",
      "[CV] END criterion=squared_error, max_depth=9, min_samples_leaf=5, min_samples_split=120; total time=   0.0s\n",
      "[CV] END criterion=squared_error, max_depth=9, min_samples_leaf=5, min_samples_split=120; total time=   0.0s\n",
      "[CV] END criterion=squared_error, max_depth=9, min_samples_leaf=5, min_samples_split=120; total time=   0.0s\n",
      "[CV] END criterion=squared_error, max_depth=9, min_samples_leaf=5, min_samples_split=120; total time=   0.0s\n",
      "[CV] END criterion=squared_error, max_depth=9, min_samples_leaf=5, min_samples_split=120; total time=   0.0s\n",
      "[CV] END criterion=squared_error, max_depth=9, min_samples_leaf=15, min_samples_split=5; total time=   0.0s\n",
      "[CV] END criterion=squared_error, max_depth=9, min_samples_leaf=15, min_samples_split=5; total time=   0.0s\n",
      "[CV] END criterion=squared_error, max_depth=9, min_samples_leaf=15, min_samples_split=5; total time=   0.0s\n",
      "[CV] END criterion=squared_error, max_depth=9, min_samples_leaf=15, min_samples_split=5; total time=   0.0s\n",
      "[CV] END criterion=squared_error, max_depth=9, min_samples_leaf=15, min_samples_split=5; total time=   0.0s\n",
      "[CV] END criterion=squared_error, max_depth=9, min_samples_leaf=15, min_samples_split=10; total time=   0.0s\n",
      "[CV] END criterion=squared_error, max_depth=9, min_samples_leaf=15, min_samples_split=10; total time=   0.0s\n",
      "[CV] END criterion=squared_error, max_depth=9, min_samples_leaf=15, min_samples_split=10; total time=   0.0s\n",
      "[CV] END criterion=squared_error, max_depth=9, min_samples_leaf=15, min_samples_split=10; total time=   0.0s\n",
      "[CV] END criterion=squared_error, max_depth=9, min_samples_leaf=15, min_samples_split=10; total time=   0.0s\n",
      "[CV] END criterion=squared_error, max_depth=9, min_samples_leaf=15, min_samples_split=20; total time=   0.0s\n",
      "[CV] END criterion=squared_error, max_depth=9, min_samples_leaf=15, min_samples_split=20; total time=   0.0s\n",
      "[CV] END criterion=squared_error, max_depth=9, min_samples_leaf=15, min_samples_split=20; total time=   0.0s\n",
      "[CV] END criterion=squared_error, max_depth=9, min_samples_leaf=15, min_samples_split=20; total time=   0.0s\n",
      "[CV] END criterion=squared_error, max_depth=9, min_samples_leaf=15, min_samples_split=20; total time=   0.0s\n",
      "[CV] END criterion=squared_error, max_depth=9, min_samples_leaf=15, min_samples_split=30; total time=   0.0s\n",
      "[CV] END criterion=squared_error, max_depth=9, min_samples_leaf=15, min_samples_split=30; total time=   0.0s\n",
      "[CV] END criterion=squared_error, max_depth=9, min_samples_leaf=15, min_samples_split=30; total time=   0.0s\n",
      "[CV] END criterion=squared_error, max_depth=9, min_samples_leaf=15, min_samples_split=30; total time=   0.0s\n",
      "[CV] END criterion=squared_error, max_depth=9, min_samples_leaf=15, min_samples_split=30; total time=   0.0s\n",
      "[CV] END criterion=squared_error, max_depth=9, min_samples_leaf=15, min_samples_split=50; total time=   0.0s\n",
      "[CV] END criterion=squared_error, max_depth=9, min_samples_leaf=15, min_samples_split=50; total time=   0.0s\n",
      "[CV] END criterion=squared_error, max_depth=9, min_samples_leaf=15, min_samples_split=50; total time=   0.0s\n",
      "[CV] END criterion=squared_error, max_depth=9, min_samples_leaf=15, min_samples_split=50; total time=   0.0s\n",
      "[CV] END criterion=squared_error, max_depth=9, min_samples_leaf=15, min_samples_split=50; total time=   0.0s\n",
      "[CV] END criterion=squared_error, max_depth=9, min_samples_leaf=15, min_samples_split=120; total time=   0.0s\n",
      "[CV] END criterion=squared_error, max_depth=9, min_samples_leaf=15, min_samples_split=120; total time=   0.0s\n",
      "[CV] END criterion=squared_error, max_depth=9, min_samples_leaf=15, min_samples_split=120; total time=   0.0s\n",
      "[CV] END criterion=squared_error, max_depth=9, min_samples_leaf=15, min_samples_split=120; total time=   0.0s\n",
      "[CV] END criterion=squared_error, max_depth=9, min_samples_leaf=15, min_samples_split=120; total time=   0.0s\n",
      "[CV] END criterion=squared_error, max_depth=9, min_samples_leaf=30, min_samples_split=5; total time=   0.0s\n",
      "[CV] END criterion=squared_error, max_depth=9, min_samples_leaf=30, min_samples_split=5; total time=   0.0s\n",
      "[CV] END criterion=squared_error, max_depth=9, min_samples_leaf=30, min_samples_split=5; total time=   0.0s\n",
      "[CV] END criterion=squared_error, max_depth=9, min_samples_leaf=30, min_samples_split=5; total time=   0.0s\n",
      "[CV] END criterion=squared_error, max_depth=9, min_samples_leaf=30, min_samples_split=5; total time=   0.0s\n",
      "[CV] END criterion=squared_error, max_depth=9, min_samples_leaf=30, min_samples_split=10; total time=   0.0s\n",
      "[CV] END criterion=squared_error, max_depth=9, min_samples_leaf=30, min_samples_split=10; total time=   0.0s\n",
      "[CV] END criterion=squared_error, max_depth=9, min_samples_leaf=30, min_samples_split=10; total time=   0.0s\n",
      "[CV] END criterion=squared_error, max_depth=9, min_samples_leaf=30, min_samples_split=10; total time=   0.0s\n",
      "[CV] END criterion=squared_error, max_depth=9, min_samples_leaf=30, min_samples_split=10; total time=   0.0s\n",
      "[CV] END criterion=squared_error, max_depth=9, min_samples_leaf=30, min_samples_split=20; total time=   0.0s\n",
      "[CV] END criterion=squared_error, max_depth=9, min_samples_leaf=30, min_samples_split=20; total time=   0.0s\n",
      "[CV] END criterion=squared_error, max_depth=9, min_samples_leaf=30, min_samples_split=20; total time=   0.0s\n",
      "[CV] END criterion=squared_error, max_depth=9, min_samples_leaf=30, min_samples_split=20; total time=   0.0s\n",
      "[CV] END criterion=squared_error, max_depth=9, min_samples_leaf=30, min_samples_split=20; total time=   0.0s\n",
      "[CV] END criterion=squared_error, max_depth=9, min_samples_leaf=30, min_samples_split=30; total time=   0.0s\n",
      "[CV] END criterion=squared_error, max_depth=9, min_samples_leaf=30, min_samples_split=30; total time=   0.0s\n",
      "[CV] END criterion=squared_error, max_depth=9, min_samples_leaf=30, min_samples_split=30; total time=   0.0s\n",
      "[CV] END criterion=squared_error, max_depth=9, min_samples_leaf=30, min_samples_split=30; total time=   0.0s\n",
      "[CV] END criterion=squared_error, max_depth=9, min_samples_leaf=30, min_samples_split=30; total time=   0.0s\n",
      "[CV] END criterion=squared_error, max_depth=9, min_samples_leaf=30, min_samples_split=50; total time=   0.0s\n",
      "[CV] END criterion=squared_error, max_depth=9, min_samples_leaf=30, min_samples_split=50; total time=   0.0s\n",
      "[CV] END criterion=squared_error, max_depth=9, min_samples_leaf=30, min_samples_split=50; total time=   0.0s\n",
      "[CV] END criterion=squared_error, max_depth=9, min_samples_leaf=30, min_samples_split=50; total time=   0.0s\n",
      "[CV] END criterion=squared_error, max_depth=9, min_samples_leaf=30, min_samples_split=50; total time=   0.0s\n",
      "[CV] END criterion=squared_error, max_depth=9, min_samples_leaf=30, min_samples_split=120; total time=   0.0s\n",
      "[CV] END criterion=squared_error, max_depth=9, min_samples_leaf=30, min_samples_split=120; total time=   0.0s\n",
      "[CV] END criterion=squared_error, max_depth=9, min_samples_leaf=30, min_samples_split=120; total time=   0.0s\n",
      "[CV] END criterion=squared_error, max_depth=9, min_samples_leaf=30, min_samples_split=120; total time=   0.0s\n",
      "[CV] END criterion=squared_error, max_depth=9, min_samples_leaf=30, min_samples_split=120; total time=   0.0s\n",
      "[CV] END criterion=squared_error, max_depth=9, min_samples_leaf=50, min_samples_split=5; total time=   0.0s\n",
      "[CV] END criterion=squared_error, max_depth=9, min_samples_leaf=50, min_samples_split=5; total time=   0.0s\n",
      "[CV] END criterion=squared_error, max_depth=9, min_samples_leaf=50, min_samples_split=5; total time=   0.0s\n",
      "[CV] END criterion=squared_error, max_depth=9, min_samples_leaf=50, min_samples_split=5; total time=   0.0s\n",
      "[CV] END criterion=squared_error, max_depth=9, min_samples_leaf=50, min_samples_split=5; total time=   0.0s\n",
      "[CV] END criterion=squared_error, max_depth=9, min_samples_leaf=50, min_samples_split=10; total time=   0.0s\n",
      "[CV] END criterion=squared_error, max_depth=9, min_samples_leaf=50, min_samples_split=10; total time=   0.0s\n",
      "[CV] END criterion=squared_error, max_depth=9, min_samples_leaf=50, min_samples_split=10; total time=   0.0s\n",
      "[CV] END criterion=squared_error, max_depth=9, min_samples_leaf=50, min_samples_split=10; total time=   0.0s\n"
     ]
    },
    {
     "name": "stdout",
     "output_type": "stream",
     "text": [
      "[CV] END criterion=squared_error, max_depth=9, min_samples_leaf=50, min_samples_split=10; total time=   0.0s\n",
      "[CV] END criterion=squared_error, max_depth=9, min_samples_leaf=50, min_samples_split=20; total time=   0.0s\n",
      "[CV] END criterion=squared_error, max_depth=9, min_samples_leaf=50, min_samples_split=20; total time=   0.0s\n",
      "[CV] END criterion=squared_error, max_depth=9, min_samples_leaf=50, min_samples_split=20; total time=   0.0s\n",
      "[CV] END criterion=squared_error, max_depth=9, min_samples_leaf=50, min_samples_split=20; total time=   0.0s\n",
      "[CV] END criterion=squared_error, max_depth=9, min_samples_leaf=50, min_samples_split=20; total time=   0.0s\n",
      "[CV] END criterion=squared_error, max_depth=9, min_samples_leaf=50, min_samples_split=30; total time=   0.0s\n",
      "[CV] END criterion=squared_error, max_depth=9, min_samples_leaf=50, min_samples_split=30; total time=   0.0s\n",
      "[CV] END criterion=squared_error, max_depth=9, min_samples_leaf=50, min_samples_split=30; total time=   0.0s\n",
      "[CV] END criterion=squared_error, max_depth=9, min_samples_leaf=50, min_samples_split=30; total time=   0.0s\n",
      "[CV] END criterion=squared_error, max_depth=9, min_samples_leaf=50, min_samples_split=30; total time=   0.0s\n",
      "[CV] END criterion=squared_error, max_depth=9, min_samples_leaf=50, min_samples_split=50; total time=   0.0s\n",
      "[CV] END criterion=squared_error, max_depth=9, min_samples_leaf=50, min_samples_split=50; total time=   0.0s\n",
      "[CV] END criterion=squared_error, max_depth=9, min_samples_leaf=50, min_samples_split=50; total time=   0.0s\n",
      "[CV] END criterion=squared_error, max_depth=9, min_samples_leaf=50, min_samples_split=50; total time=   0.0s\n",
      "[CV] END criterion=squared_error, max_depth=9, min_samples_leaf=50, min_samples_split=50; total time=   0.0s\n",
      "[CV] END criterion=squared_error, max_depth=9, min_samples_leaf=50, min_samples_split=120; total time=   0.0s\n",
      "[CV] END criterion=squared_error, max_depth=9, min_samples_leaf=50, min_samples_split=120; total time=   0.0s\n",
      "[CV] END criterion=squared_error, max_depth=9, min_samples_leaf=50, min_samples_split=120; total time=   0.0s\n",
      "[CV] END criterion=squared_error, max_depth=9, min_samples_leaf=50, min_samples_split=120; total time=   0.0s\n",
      "[CV] END criterion=squared_error, max_depth=9, min_samples_leaf=50, min_samples_split=120; total time=   0.0s\n",
      "[CV] END criterion=squared_error, max_depth=9, min_samples_leaf=100, min_samples_split=5; total time=   0.0s\n",
      "[CV] END criterion=squared_error, max_depth=9, min_samples_leaf=100, min_samples_split=5; total time=   0.0s\n",
      "[CV] END criterion=squared_error, max_depth=9, min_samples_leaf=100, min_samples_split=5; total time=   0.0s\n",
      "[CV] END criterion=squared_error, max_depth=9, min_samples_leaf=100, min_samples_split=5; total time=   0.0s\n",
      "[CV] END criterion=squared_error, max_depth=9, min_samples_leaf=100, min_samples_split=5; total time=   0.0s\n",
      "[CV] END criterion=squared_error, max_depth=9, min_samples_leaf=100, min_samples_split=10; total time=   0.0s\n",
      "[CV] END criterion=squared_error, max_depth=9, min_samples_leaf=100, min_samples_split=10; total time=   0.0s\n",
      "[CV] END criterion=squared_error, max_depth=9, min_samples_leaf=100, min_samples_split=10; total time=   0.0s\n",
      "[CV] END criterion=squared_error, max_depth=9, min_samples_leaf=100, min_samples_split=10; total time=   0.0s\n",
      "[CV] END criterion=squared_error, max_depth=9, min_samples_leaf=100, min_samples_split=10; total time=   0.0s\n",
      "[CV] END criterion=squared_error, max_depth=9, min_samples_leaf=100, min_samples_split=20; total time=   0.0s\n",
      "[CV] END criterion=squared_error, max_depth=9, min_samples_leaf=100, min_samples_split=20; total time=   0.0s\n",
      "[CV] END criterion=squared_error, max_depth=9, min_samples_leaf=100, min_samples_split=20; total time=   0.0s\n",
      "[CV] END criterion=squared_error, max_depth=9, min_samples_leaf=100, min_samples_split=20; total time=   0.0s\n",
      "[CV] END criterion=squared_error, max_depth=9, min_samples_leaf=100, min_samples_split=20; total time=   0.0s\n",
      "[CV] END criterion=squared_error, max_depth=9, min_samples_leaf=100, min_samples_split=30; total time=   0.0s\n",
      "[CV] END criterion=squared_error, max_depth=9, min_samples_leaf=100, min_samples_split=30; total time=   0.0s\n",
      "[CV] END criterion=squared_error, max_depth=9, min_samples_leaf=100, min_samples_split=30; total time=   0.0s\n",
      "[CV] END criterion=squared_error, max_depth=9, min_samples_leaf=100, min_samples_split=30; total time=   0.0s\n",
      "[CV] END criterion=squared_error, max_depth=9, min_samples_leaf=100, min_samples_split=30; total time=   0.0s\n",
      "[CV] END criterion=squared_error, max_depth=9, min_samples_leaf=100, min_samples_split=50; total time=   0.0s\n",
      "[CV] END criterion=squared_error, max_depth=9, min_samples_leaf=100, min_samples_split=50; total time=   0.0s\n",
      "[CV] END criterion=squared_error, max_depth=9, min_samples_leaf=100, min_samples_split=50; total time=   0.0s\n",
      "[CV] END criterion=squared_error, max_depth=9, min_samples_leaf=100, min_samples_split=50; total time=   0.0s\n",
      "[CV] END criterion=squared_error, max_depth=9, min_samples_leaf=100, min_samples_split=50; total time=   0.0s\n",
      "[CV] END criterion=squared_error, max_depth=9, min_samples_leaf=100, min_samples_split=120; total time=   0.0s\n",
      "[CV] END criterion=squared_error, max_depth=9, min_samples_leaf=100, min_samples_split=120; total time=   0.0s\n",
      "[CV] END criterion=squared_error, max_depth=9, min_samples_leaf=100, min_samples_split=120; total time=   0.0s\n",
      "[CV] END criterion=squared_error, max_depth=9, min_samples_leaf=100, min_samples_split=120; total time=   0.0s\n",
      "[CV] END criterion=squared_error, max_depth=9, min_samples_leaf=100, min_samples_split=120; total time=   0.0s\n",
      "[CV] END criterion=squared_error, max_depth=11, min_samples_leaf=5, min_samples_split=5; total time=   0.0s\n",
      "[CV] END criterion=squared_error, max_depth=11, min_samples_leaf=5, min_samples_split=5; total time=   0.0s\n",
      "[CV] END criterion=squared_error, max_depth=11, min_samples_leaf=5, min_samples_split=5; total time=   0.0s\n",
      "[CV] END criterion=squared_error, max_depth=11, min_samples_leaf=5, min_samples_split=5; total time=   0.0s\n",
      "[CV] END criterion=squared_error, max_depth=11, min_samples_leaf=5, min_samples_split=5; total time=   0.0s\n",
      "[CV] END criterion=squared_error, max_depth=11, min_samples_leaf=5, min_samples_split=10; total time=   0.0s\n",
      "[CV] END criterion=squared_error, max_depth=11, min_samples_leaf=5, min_samples_split=10; total time=   0.0s\n",
      "[CV] END criterion=squared_error, max_depth=11, min_samples_leaf=5, min_samples_split=10; total time=   0.0s\n",
      "[CV] END criterion=squared_error, max_depth=11, min_samples_leaf=5, min_samples_split=10; total time=   0.0s\n",
      "[CV] END criterion=squared_error, max_depth=11, min_samples_leaf=5, min_samples_split=10; total time=   0.0s\n",
      "[CV] END criterion=squared_error, max_depth=11, min_samples_leaf=5, min_samples_split=20; total time=   0.0s\n",
      "[CV] END criterion=squared_error, max_depth=11, min_samples_leaf=5, min_samples_split=20; total time=   0.0s\n",
      "[CV] END criterion=squared_error, max_depth=11, min_samples_leaf=5, min_samples_split=20; total time=   0.0s\n",
      "[CV] END criterion=squared_error, max_depth=11, min_samples_leaf=5, min_samples_split=20; total time=   0.0s\n",
      "[CV] END criterion=squared_error, max_depth=11, min_samples_leaf=5, min_samples_split=20; total time=   0.0s\n",
      "[CV] END criterion=squared_error, max_depth=11, min_samples_leaf=5, min_samples_split=30; total time=   0.0s\n",
      "[CV] END criterion=squared_error, max_depth=11, min_samples_leaf=5, min_samples_split=30; total time=   0.0s\n",
      "[CV] END criterion=squared_error, max_depth=11, min_samples_leaf=5, min_samples_split=30; total time=   0.0s\n",
      "[CV] END criterion=squared_error, max_depth=11, min_samples_leaf=5, min_samples_split=30; total time=   0.0s\n",
      "[CV] END criterion=squared_error, max_depth=11, min_samples_leaf=5, min_samples_split=30; total time=   0.0s\n",
      "[CV] END criterion=squared_error, max_depth=11, min_samples_leaf=5, min_samples_split=50; total time=   0.0s\n",
      "[CV] END criterion=squared_error, max_depth=11, min_samples_leaf=5, min_samples_split=50; total time=   0.0s\n",
      "[CV] END criterion=squared_error, max_depth=11, min_samples_leaf=5, min_samples_split=50; total time=   0.0s\n",
      "[CV] END criterion=squared_error, max_depth=11, min_samples_leaf=5, min_samples_split=50; total time=   0.0s\n",
      "[CV] END criterion=squared_error, max_depth=11, min_samples_leaf=5, min_samples_split=50; total time=   0.0s\n",
      "[CV] END criterion=squared_error, max_depth=11, min_samples_leaf=5, min_samples_split=120; total time=   0.0s\n"
     ]
    },
    {
     "name": "stdout",
     "output_type": "stream",
     "text": [
      "[CV] END criterion=squared_error, max_depth=11, min_samples_leaf=5, min_samples_split=120; total time=   0.0s\n",
      "[CV] END criterion=squared_error, max_depth=11, min_samples_leaf=5, min_samples_split=120; total time=   0.0s\n",
      "[CV] END criterion=squared_error, max_depth=11, min_samples_leaf=5, min_samples_split=120; total time=   0.0s\n",
      "[CV] END criterion=squared_error, max_depth=11, min_samples_leaf=5, min_samples_split=120; total time=   0.0s\n",
      "[CV] END criterion=squared_error, max_depth=11, min_samples_leaf=15, min_samples_split=5; total time=   0.0s\n",
      "[CV] END criterion=squared_error, max_depth=11, min_samples_leaf=15, min_samples_split=5; total time=   0.0s\n",
      "[CV] END criterion=squared_error, max_depth=11, min_samples_leaf=15, min_samples_split=5; total time=   0.0s\n",
      "[CV] END criterion=squared_error, max_depth=11, min_samples_leaf=15, min_samples_split=5; total time=   0.0s\n",
      "[CV] END criterion=squared_error, max_depth=11, min_samples_leaf=15, min_samples_split=5; total time=   0.0s\n",
      "[CV] END criterion=squared_error, max_depth=11, min_samples_leaf=15, min_samples_split=10; total time=   0.0s\n",
      "[CV] END criterion=squared_error, max_depth=11, min_samples_leaf=15, min_samples_split=10; total time=   0.0s\n",
      "[CV] END criterion=squared_error, max_depth=11, min_samples_leaf=15, min_samples_split=10; total time=   0.0s\n",
      "[CV] END criterion=squared_error, max_depth=11, min_samples_leaf=15, min_samples_split=10; total time=   0.0s\n",
      "[CV] END criterion=squared_error, max_depth=11, min_samples_leaf=15, min_samples_split=10; total time=   0.0s\n",
      "[CV] END criterion=squared_error, max_depth=11, min_samples_leaf=15, min_samples_split=20; total time=   0.0s\n",
      "[CV] END criterion=squared_error, max_depth=11, min_samples_leaf=15, min_samples_split=20; total time=   0.0s\n",
      "[CV] END criterion=squared_error, max_depth=11, min_samples_leaf=15, min_samples_split=20; total time=   0.0s\n",
      "[CV] END criterion=squared_error, max_depth=11, min_samples_leaf=15, min_samples_split=20; total time=   0.0s\n",
      "[CV] END criterion=squared_error, max_depth=11, min_samples_leaf=15, min_samples_split=20; total time=   0.0s\n",
      "[CV] END criterion=squared_error, max_depth=11, min_samples_leaf=15, min_samples_split=30; total time=   0.0s\n",
      "[CV] END criterion=squared_error, max_depth=11, min_samples_leaf=15, min_samples_split=30; total time=   0.0s\n",
      "[CV] END criterion=squared_error, max_depth=11, min_samples_leaf=15, min_samples_split=30; total time=   0.0s\n",
      "[CV] END criterion=squared_error, max_depth=11, min_samples_leaf=15, min_samples_split=30; total time=   0.0s\n",
      "[CV] END criterion=squared_error, max_depth=11, min_samples_leaf=15, min_samples_split=30; total time=   0.0s\n",
      "[CV] END criterion=squared_error, max_depth=11, min_samples_leaf=15, min_samples_split=50; total time=   0.0s\n",
      "[CV] END criterion=squared_error, max_depth=11, min_samples_leaf=15, min_samples_split=50; total time=   0.0s\n",
      "[CV] END criterion=squared_error, max_depth=11, min_samples_leaf=15, min_samples_split=50; total time=   0.0s\n",
      "[CV] END criterion=squared_error, max_depth=11, min_samples_leaf=15, min_samples_split=50; total time=   0.0s\n",
      "[CV] END criterion=squared_error, max_depth=11, min_samples_leaf=15, min_samples_split=50; total time=   0.0s\n",
      "[CV] END criterion=squared_error, max_depth=11, min_samples_leaf=15, min_samples_split=120; total time=   0.0s\n",
      "[CV] END criterion=squared_error, max_depth=11, min_samples_leaf=15, min_samples_split=120; total time=   0.0s\n",
      "[CV] END criterion=squared_error, max_depth=11, min_samples_leaf=15, min_samples_split=120; total time=   0.0s\n",
      "[CV] END criterion=squared_error, max_depth=11, min_samples_leaf=15, min_samples_split=120; total time=   0.0s\n",
      "[CV] END criterion=squared_error, max_depth=11, min_samples_leaf=15, min_samples_split=120; total time=   0.0s\n",
      "[CV] END criterion=squared_error, max_depth=11, min_samples_leaf=30, min_samples_split=5; total time=   0.0s\n",
      "[CV] END criterion=squared_error, max_depth=11, min_samples_leaf=30, min_samples_split=5; total time=   0.0s\n",
      "[CV] END criterion=squared_error, max_depth=11, min_samples_leaf=30, min_samples_split=5; total time=   0.0s\n",
      "[CV] END criterion=squared_error, max_depth=11, min_samples_leaf=30, min_samples_split=5; total time=   0.0s\n",
      "[CV] END criterion=squared_error, max_depth=11, min_samples_leaf=30, min_samples_split=5; total time=   0.0s\n",
      "[CV] END criterion=squared_error, max_depth=11, min_samples_leaf=30, min_samples_split=10; total time=   0.0s\n",
      "[CV] END criterion=squared_error, max_depth=11, min_samples_leaf=30, min_samples_split=10; total time=   0.0s\n",
      "[CV] END criterion=squared_error, max_depth=11, min_samples_leaf=30, min_samples_split=10; total time=   0.0s\n",
      "[CV] END criterion=squared_error, max_depth=11, min_samples_leaf=30, min_samples_split=10; total time=   0.0s\n",
      "[CV] END criterion=squared_error, max_depth=11, min_samples_leaf=30, min_samples_split=10; total time=   0.0s\n",
      "[CV] END criterion=squared_error, max_depth=11, min_samples_leaf=30, min_samples_split=20; total time=   0.0s\n",
      "[CV] END criterion=squared_error, max_depth=11, min_samples_leaf=30, min_samples_split=20; total time=   0.0s\n",
      "[CV] END criterion=squared_error, max_depth=11, min_samples_leaf=30, min_samples_split=20; total time=   0.0s\n",
      "[CV] END criterion=squared_error, max_depth=11, min_samples_leaf=30, min_samples_split=20; total time=   0.0s\n",
      "[CV] END criterion=squared_error, max_depth=11, min_samples_leaf=30, min_samples_split=20; total time=   0.0s\n",
      "[CV] END criterion=squared_error, max_depth=11, min_samples_leaf=30, min_samples_split=30; total time=   0.0s\n",
      "[CV] END criterion=squared_error, max_depth=11, min_samples_leaf=30, min_samples_split=30; total time=   0.0s\n",
      "[CV] END criterion=squared_error, max_depth=11, min_samples_leaf=30, min_samples_split=30; total time=   0.0s\n",
      "[CV] END criterion=squared_error, max_depth=11, min_samples_leaf=30, min_samples_split=30; total time=   0.0s\n",
      "[CV] END criterion=squared_error, max_depth=11, min_samples_leaf=30, min_samples_split=30; total time=   0.0s\n",
      "[CV] END criterion=squared_error, max_depth=11, min_samples_leaf=30, min_samples_split=50; total time=   0.0s\n",
      "[CV] END criterion=squared_error, max_depth=11, min_samples_leaf=30, min_samples_split=50; total time=   0.0s\n",
      "[CV] END criterion=squared_error, max_depth=11, min_samples_leaf=30, min_samples_split=50; total time=   0.0s\n",
      "[CV] END criterion=squared_error, max_depth=11, min_samples_leaf=30, min_samples_split=50; total time=   0.0s\n",
      "[CV] END criterion=squared_error, max_depth=11, min_samples_leaf=30, min_samples_split=50; total time=   0.0s\n",
      "[CV] END criterion=squared_error, max_depth=11, min_samples_leaf=30, min_samples_split=120; total time=   0.0s\n",
      "[CV] END criterion=squared_error, max_depth=11, min_samples_leaf=30, min_samples_split=120; total time=   0.0s\n",
      "[CV] END criterion=squared_error, max_depth=11, min_samples_leaf=30, min_samples_split=120; total time=   0.0s\n",
      "[CV] END criterion=squared_error, max_depth=11, min_samples_leaf=30, min_samples_split=120; total time=   0.0s\n",
      "[CV] END criterion=squared_error, max_depth=11, min_samples_leaf=30, min_samples_split=120; total time=   0.0s\n",
      "[CV] END criterion=squared_error, max_depth=11, min_samples_leaf=50, min_samples_split=5; total time=   0.0s\n",
      "[CV] END criterion=squared_error, max_depth=11, min_samples_leaf=50, min_samples_split=5; total time=   0.0s\n",
      "[CV] END criterion=squared_error, max_depth=11, min_samples_leaf=50, min_samples_split=5; total time=   0.0s\n",
      "[CV] END criterion=squared_error, max_depth=11, min_samples_leaf=50, min_samples_split=5; total time=   0.0s\n",
      "[CV] END criterion=squared_error, max_depth=11, min_samples_leaf=50, min_samples_split=5; total time=   0.0s\n",
      "[CV] END criterion=squared_error, max_depth=11, min_samples_leaf=50, min_samples_split=10; total time=   0.0s\n",
      "[CV] END criterion=squared_error, max_depth=11, min_samples_leaf=50, min_samples_split=10; total time=   0.0s\n",
      "[CV] END criterion=squared_error, max_depth=11, min_samples_leaf=50, min_samples_split=10; total time=   0.0s\n",
      "[CV] END criterion=squared_error, max_depth=11, min_samples_leaf=50, min_samples_split=10; total time=   0.0s\n",
      "[CV] END criterion=squared_error, max_depth=11, min_samples_leaf=50, min_samples_split=10; total time=   0.0s\n",
      "[CV] END criterion=squared_error, max_depth=11, min_samples_leaf=50, min_samples_split=20; total time=   0.0s\n",
      "[CV] END criterion=squared_error, max_depth=11, min_samples_leaf=50, min_samples_split=20; total time=   0.0s\n",
      "[CV] END criterion=squared_error, max_depth=11, min_samples_leaf=50, min_samples_split=20; total time=   0.0s\n",
      "[CV] END criterion=squared_error, max_depth=11, min_samples_leaf=50, min_samples_split=20; total time=   0.0s\n",
      "[CV] END criterion=squared_error, max_depth=11, min_samples_leaf=50, min_samples_split=20; total time=   0.0s\n",
      "[CV] END criterion=squared_error, max_depth=11, min_samples_leaf=50, min_samples_split=30; total time=   0.0s\n",
      "[CV] END criterion=squared_error, max_depth=11, min_samples_leaf=50, min_samples_split=30; total time=   0.0s\n",
      "[CV] END criterion=squared_error, max_depth=11, min_samples_leaf=50, min_samples_split=30; total time=   0.0s\n"
     ]
    },
    {
     "name": "stdout",
     "output_type": "stream",
     "text": [
      "[CV] END criterion=squared_error, max_depth=11, min_samples_leaf=50, min_samples_split=30; total time=   0.0s\n",
      "[CV] END criterion=squared_error, max_depth=11, min_samples_leaf=50, min_samples_split=30; total time=   0.0s\n",
      "[CV] END criterion=squared_error, max_depth=11, min_samples_leaf=50, min_samples_split=50; total time=   0.0s\n",
      "[CV] END criterion=squared_error, max_depth=11, min_samples_leaf=50, min_samples_split=50; total time=   0.0s\n",
      "[CV] END criterion=squared_error, max_depth=11, min_samples_leaf=50, min_samples_split=50; total time=   0.0s\n",
      "[CV] END criterion=squared_error, max_depth=11, min_samples_leaf=50, min_samples_split=50; total time=   0.0s\n",
      "[CV] END criterion=squared_error, max_depth=11, min_samples_leaf=50, min_samples_split=50; total time=   0.0s\n",
      "[CV] END criterion=squared_error, max_depth=11, min_samples_leaf=50, min_samples_split=120; total time=   0.0s\n",
      "[CV] END criterion=squared_error, max_depth=11, min_samples_leaf=50, min_samples_split=120; total time=   0.0s\n",
      "[CV] END criterion=squared_error, max_depth=11, min_samples_leaf=50, min_samples_split=120; total time=   0.0s\n",
      "[CV] END criterion=squared_error, max_depth=11, min_samples_leaf=50, min_samples_split=120; total time=   0.0s\n",
      "[CV] END criterion=squared_error, max_depth=11, min_samples_leaf=50, min_samples_split=120; total time=   0.0s\n",
      "[CV] END criterion=squared_error, max_depth=11, min_samples_leaf=100, min_samples_split=5; total time=   0.0s\n",
      "[CV] END criterion=squared_error, max_depth=11, min_samples_leaf=100, min_samples_split=5; total time=   0.0s\n",
      "[CV] END criterion=squared_error, max_depth=11, min_samples_leaf=100, min_samples_split=5; total time=   0.0s\n",
      "[CV] END criterion=squared_error, max_depth=11, min_samples_leaf=100, min_samples_split=5; total time=   0.0s\n",
      "[CV] END criterion=squared_error, max_depth=11, min_samples_leaf=100, min_samples_split=5; total time=   0.0s\n",
      "[CV] END criterion=squared_error, max_depth=11, min_samples_leaf=100, min_samples_split=10; total time=   0.0s\n",
      "[CV] END criterion=squared_error, max_depth=11, min_samples_leaf=100, min_samples_split=10; total time=   0.0s\n",
      "[CV] END criterion=squared_error, max_depth=11, min_samples_leaf=100, min_samples_split=10; total time=   0.0s\n",
      "[CV] END criterion=squared_error, max_depth=11, min_samples_leaf=100, min_samples_split=10; total time=   0.0s\n",
      "[CV] END criterion=squared_error, max_depth=11, min_samples_leaf=100, min_samples_split=10; total time=   0.0s\n",
      "[CV] END criterion=squared_error, max_depth=11, min_samples_leaf=100, min_samples_split=20; total time=   0.0s\n",
      "[CV] END criterion=squared_error, max_depth=11, min_samples_leaf=100, min_samples_split=20; total time=   0.0s\n",
      "[CV] END criterion=squared_error, max_depth=11, min_samples_leaf=100, min_samples_split=20; total time=   0.0s\n",
      "[CV] END criterion=squared_error, max_depth=11, min_samples_leaf=100, min_samples_split=20; total time=   0.0s\n",
      "[CV] END criterion=squared_error, max_depth=11, min_samples_leaf=100, min_samples_split=20; total time=   0.0s\n",
      "[CV] END criterion=squared_error, max_depth=11, min_samples_leaf=100, min_samples_split=30; total time=   0.0s\n",
      "[CV] END criterion=squared_error, max_depth=11, min_samples_leaf=100, min_samples_split=30; total time=   0.0s\n",
      "[CV] END criterion=squared_error, max_depth=11, min_samples_leaf=100, min_samples_split=30; total time=   0.0s\n",
      "[CV] END criterion=squared_error, max_depth=11, min_samples_leaf=100, min_samples_split=30; total time=   0.0s\n",
      "[CV] END criterion=squared_error, max_depth=11, min_samples_leaf=100, min_samples_split=30; total time=   0.0s\n",
      "[CV] END criterion=squared_error, max_depth=11, min_samples_leaf=100, min_samples_split=50; total time=   0.0s\n",
      "[CV] END criterion=squared_error, max_depth=11, min_samples_leaf=100, min_samples_split=50; total time=   0.0s\n",
      "[CV] END criterion=squared_error, max_depth=11, min_samples_leaf=100, min_samples_split=50; total time=   0.0s\n",
      "[CV] END criterion=squared_error, max_depth=11, min_samples_leaf=100, min_samples_split=50; total time=   0.0s\n",
      "[CV] END criterion=squared_error, max_depth=11, min_samples_leaf=100, min_samples_split=50; total time=   0.0s\n",
      "[CV] END criterion=squared_error, max_depth=11, min_samples_leaf=100, min_samples_split=120; total time=   0.0s\n",
      "[CV] END criterion=squared_error, max_depth=11, min_samples_leaf=100, min_samples_split=120; total time=   0.0s\n",
      "[CV] END criterion=squared_error, max_depth=11, min_samples_leaf=100, min_samples_split=120; total time=   0.0s\n",
      "[CV] END criterion=squared_error, max_depth=11, min_samples_leaf=100, min_samples_split=120; total time=   0.0s\n",
      "[CV] END criterion=squared_error, max_depth=11, min_samples_leaf=100, min_samples_split=120; total time=   0.0s\n",
      "[CV] END criterion=friedman_mse, max_depth=5, min_samples_leaf=5, min_samples_split=5; total time=   0.0s\n",
      "[CV] END criterion=friedman_mse, max_depth=5, min_samples_leaf=5, min_samples_split=5; total time=   0.0s\n",
      "[CV] END criterion=friedman_mse, max_depth=5, min_samples_leaf=5, min_samples_split=5; total time=   0.0s\n",
      "[CV] END criterion=friedman_mse, max_depth=5, min_samples_leaf=5, min_samples_split=5; total time=   0.0s\n",
      "[CV] END criterion=friedman_mse, max_depth=5, min_samples_leaf=5, min_samples_split=5; total time=   0.0s\n",
      "[CV] END criterion=friedman_mse, max_depth=5, min_samples_leaf=5, min_samples_split=10; total time=   0.0s\n",
      "[CV] END criterion=friedman_mse, max_depth=5, min_samples_leaf=5, min_samples_split=10; total time=   0.0s\n",
      "[CV] END criterion=friedman_mse, max_depth=5, min_samples_leaf=5, min_samples_split=10; total time=   0.0s\n",
      "[CV] END criterion=friedman_mse, max_depth=5, min_samples_leaf=5, min_samples_split=10; total time=   0.0s\n",
      "[CV] END criterion=friedman_mse, max_depth=5, min_samples_leaf=5, min_samples_split=10; total time=   0.0s\n",
      "[CV] END criterion=friedman_mse, max_depth=5, min_samples_leaf=5, min_samples_split=20; total time=   0.0s\n",
      "[CV] END criterion=friedman_mse, max_depth=5, min_samples_leaf=5, min_samples_split=20; total time=   0.0s\n",
      "[CV] END criterion=friedman_mse, max_depth=5, min_samples_leaf=5, min_samples_split=20; total time=   0.0s\n",
      "[CV] END criterion=friedman_mse, max_depth=5, min_samples_leaf=5, min_samples_split=20; total time=   0.0s\n",
      "[CV] END criterion=friedman_mse, max_depth=5, min_samples_leaf=5, min_samples_split=20; total time=   0.0s\n",
      "[CV] END criterion=friedman_mse, max_depth=5, min_samples_leaf=5, min_samples_split=30; total time=   0.0s\n",
      "[CV] END criterion=friedman_mse, max_depth=5, min_samples_leaf=5, min_samples_split=30; total time=   0.0s\n",
      "[CV] END criterion=friedman_mse, max_depth=5, min_samples_leaf=5, min_samples_split=30; total time=   0.0s\n",
      "[CV] END criterion=friedman_mse, max_depth=5, min_samples_leaf=5, min_samples_split=30; total time=   0.0s\n",
      "[CV] END criterion=friedman_mse, max_depth=5, min_samples_leaf=5, min_samples_split=30; total time=   0.0s\n",
      "[CV] END criterion=friedman_mse, max_depth=5, min_samples_leaf=5, min_samples_split=50; total time=   0.0s\n",
      "[CV] END criterion=friedman_mse, max_depth=5, min_samples_leaf=5, min_samples_split=50; total time=   0.0s\n",
      "[CV] END criterion=friedman_mse, max_depth=5, min_samples_leaf=5, min_samples_split=50; total time=   0.0s\n",
      "[CV] END criterion=friedman_mse, max_depth=5, min_samples_leaf=5, min_samples_split=50; total time=   0.0s\n",
      "[CV] END criterion=friedman_mse, max_depth=5, min_samples_leaf=5, min_samples_split=50; total time=   0.0s\n",
      "[CV] END criterion=friedman_mse, max_depth=5, min_samples_leaf=5, min_samples_split=120; total time=   0.0s\n",
      "[CV] END criterion=friedman_mse, max_depth=5, min_samples_leaf=5, min_samples_split=120; total time=   0.0s\n",
      "[CV] END criterion=friedman_mse, max_depth=5, min_samples_leaf=5, min_samples_split=120; total time=   0.0s\n",
      "[CV] END criterion=friedman_mse, max_depth=5, min_samples_leaf=5, min_samples_split=120; total time=   0.0s\n",
      "[CV] END criterion=friedman_mse, max_depth=5, min_samples_leaf=5, min_samples_split=120; total time=   0.0s\n",
      "[CV] END criterion=friedman_mse, max_depth=5, min_samples_leaf=15, min_samples_split=5; total time=   0.0s\n",
      "[CV] END criterion=friedman_mse, max_depth=5, min_samples_leaf=15, min_samples_split=5; total time=   0.0s\n",
      "[CV] END criterion=friedman_mse, max_depth=5, min_samples_leaf=15, min_samples_split=5; total time=   0.0s\n",
      "[CV] END criterion=friedman_mse, max_depth=5, min_samples_leaf=15, min_samples_split=5; total time=   0.0s\n"
     ]
    },
    {
     "name": "stdout",
     "output_type": "stream",
     "text": [
      "[CV] END criterion=friedman_mse, max_depth=5, min_samples_leaf=15, min_samples_split=5; total time=   0.0s\n",
      "[CV] END criterion=friedman_mse, max_depth=5, min_samples_leaf=15, min_samples_split=10; total time=   0.0s\n",
      "[CV] END criterion=friedman_mse, max_depth=5, min_samples_leaf=15, min_samples_split=10; total time=   0.0s\n",
      "[CV] END criterion=friedman_mse, max_depth=5, min_samples_leaf=15, min_samples_split=10; total time=   0.0s\n",
      "[CV] END criterion=friedman_mse, max_depth=5, min_samples_leaf=15, min_samples_split=10; total time=   0.0s\n",
      "[CV] END criterion=friedman_mse, max_depth=5, min_samples_leaf=15, min_samples_split=10; total time=   0.0s\n",
      "[CV] END criterion=friedman_mse, max_depth=5, min_samples_leaf=15, min_samples_split=20; total time=   0.0s\n",
      "[CV] END criterion=friedman_mse, max_depth=5, min_samples_leaf=15, min_samples_split=20; total time=   0.0s\n",
      "[CV] END criterion=friedman_mse, max_depth=5, min_samples_leaf=15, min_samples_split=20; total time=   0.0s\n",
      "[CV] END criterion=friedman_mse, max_depth=5, min_samples_leaf=15, min_samples_split=20; total time=   0.0s\n",
      "[CV] END criterion=friedman_mse, max_depth=5, min_samples_leaf=15, min_samples_split=20; total time=   0.0s\n",
      "[CV] END criterion=friedman_mse, max_depth=5, min_samples_leaf=15, min_samples_split=30; total time=   0.0s\n",
      "[CV] END criterion=friedman_mse, max_depth=5, min_samples_leaf=15, min_samples_split=30; total time=   0.0s\n",
      "[CV] END criterion=friedman_mse, max_depth=5, min_samples_leaf=15, min_samples_split=30; total time=   0.0s\n",
      "[CV] END criterion=friedman_mse, max_depth=5, min_samples_leaf=15, min_samples_split=30; total time=   0.0s\n",
      "[CV] END criterion=friedman_mse, max_depth=5, min_samples_leaf=15, min_samples_split=30; total time=   0.0s\n",
      "[CV] END criterion=friedman_mse, max_depth=5, min_samples_leaf=15, min_samples_split=50; total time=   0.0s\n",
      "[CV] END criterion=friedman_mse, max_depth=5, min_samples_leaf=15, min_samples_split=50; total time=   0.0s\n",
      "[CV] END criterion=friedman_mse, max_depth=5, min_samples_leaf=15, min_samples_split=50; total time=   0.0s\n",
      "[CV] END criterion=friedman_mse, max_depth=5, min_samples_leaf=15, min_samples_split=50; total time=   0.0s\n",
      "[CV] END criterion=friedman_mse, max_depth=5, min_samples_leaf=15, min_samples_split=50; total time=   0.0s\n",
      "[CV] END criterion=friedman_mse, max_depth=5, min_samples_leaf=15, min_samples_split=120; total time=   0.0s\n",
      "[CV] END criterion=friedman_mse, max_depth=5, min_samples_leaf=15, min_samples_split=120; total time=   0.0s\n",
      "[CV] END criterion=friedman_mse, max_depth=5, min_samples_leaf=15, min_samples_split=120; total time=   0.0s\n",
      "[CV] END criterion=friedman_mse, max_depth=5, min_samples_leaf=15, min_samples_split=120; total time=   0.0s\n",
      "[CV] END criterion=friedman_mse, max_depth=5, min_samples_leaf=15, min_samples_split=120; total time=   0.0s\n",
      "[CV] END criterion=friedman_mse, max_depth=5, min_samples_leaf=30, min_samples_split=5; total time=   0.0s\n",
      "[CV] END criterion=friedman_mse, max_depth=5, min_samples_leaf=30, min_samples_split=5; total time=   0.0s\n",
      "[CV] END criterion=friedman_mse, max_depth=5, min_samples_leaf=30, min_samples_split=5; total time=   0.0s\n",
      "[CV] END criterion=friedman_mse, max_depth=5, min_samples_leaf=30, min_samples_split=5; total time=   0.0s\n",
      "[CV] END criterion=friedman_mse, max_depth=5, min_samples_leaf=30, min_samples_split=5; total time=   0.0s\n",
      "[CV] END criterion=friedman_mse, max_depth=5, min_samples_leaf=30, min_samples_split=10; total time=   0.0s\n",
      "[CV] END criterion=friedman_mse, max_depth=5, min_samples_leaf=30, min_samples_split=10; total time=   0.0s\n",
      "[CV] END criterion=friedman_mse, max_depth=5, min_samples_leaf=30, min_samples_split=10; total time=   0.0s\n",
      "[CV] END criterion=friedman_mse, max_depth=5, min_samples_leaf=30, min_samples_split=10; total time=   0.0s\n",
      "[CV] END criterion=friedman_mse, max_depth=5, min_samples_leaf=30, min_samples_split=10; total time=   0.0s\n",
      "[CV] END criterion=friedman_mse, max_depth=5, min_samples_leaf=30, min_samples_split=20; total time=   0.0s\n",
      "[CV] END criterion=friedman_mse, max_depth=5, min_samples_leaf=30, min_samples_split=20; total time=   0.0s\n",
      "[CV] END criterion=friedman_mse, max_depth=5, min_samples_leaf=30, min_samples_split=20; total time=   0.0s\n",
      "[CV] END criterion=friedman_mse, max_depth=5, min_samples_leaf=30, min_samples_split=20; total time=   0.0s\n",
      "[CV] END criterion=friedman_mse, max_depth=5, min_samples_leaf=30, min_samples_split=20; total time=   0.0s\n",
      "[CV] END criterion=friedman_mse, max_depth=5, min_samples_leaf=30, min_samples_split=30; total time=   0.0s\n",
      "[CV] END criterion=friedman_mse, max_depth=5, min_samples_leaf=30, min_samples_split=30; total time=   0.0s\n",
      "[CV] END criterion=friedman_mse, max_depth=5, min_samples_leaf=30, min_samples_split=30; total time=   0.0s\n",
      "[CV] END criterion=friedman_mse, max_depth=5, min_samples_leaf=30, min_samples_split=30; total time=   0.0s\n",
      "[CV] END criterion=friedman_mse, max_depth=5, min_samples_leaf=30, min_samples_split=30; total time=   0.0s\n",
      "[CV] END criterion=friedman_mse, max_depth=5, min_samples_leaf=30, min_samples_split=50; total time=   0.0s\n",
      "[CV] END criterion=friedman_mse, max_depth=5, min_samples_leaf=30, min_samples_split=50; total time=   0.0s\n",
      "[CV] END criterion=friedman_mse, max_depth=5, min_samples_leaf=30, min_samples_split=50; total time=   0.0s\n",
      "[CV] END criterion=friedman_mse, max_depth=5, min_samples_leaf=30, min_samples_split=50; total time=   0.0s\n",
      "[CV] END criterion=friedman_mse, max_depth=5, min_samples_leaf=30, min_samples_split=50; total time=   0.0s\n",
      "[CV] END criterion=friedman_mse, max_depth=5, min_samples_leaf=30, min_samples_split=120; total time=   0.0s\n",
      "[CV] END criterion=friedman_mse, max_depth=5, min_samples_leaf=30, min_samples_split=120; total time=   0.0s\n",
      "[CV] END criterion=friedman_mse, max_depth=5, min_samples_leaf=30, min_samples_split=120; total time=   0.0s\n",
      "[CV] END criterion=friedman_mse, max_depth=5, min_samples_leaf=30, min_samples_split=120; total time=   0.0s\n",
      "[CV] END criterion=friedman_mse, max_depth=5, min_samples_leaf=30, min_samples_split=120; total time=   0.0s\n",
      "[CV] END criterion=friedman_mse, max_depth=5, min_samples_leaf=50, min_samples_split=5; total time=   0.0s\n",
      "[CV] END criterion=friedman_mse, max_depth=5, min_samples_leaf=50, min_samples_split=5; total time=   0.0s\n",
      "[CV] END criterion=friedman_mse, max_depth=5, min_samples_leaf=50, min_samples_split=5; total time=   0.0s\n",
      "[CV] END criterion=friedman_mse, max_depth=5, min_samples_leaf=50, min_samples_split=5; total time=   0.0s\n",
      "[CV] END criterion=friedman_mse, max_depth=5, min_samples_leaf=50, min_samples_split=5; total time=   0.0s\n",
      "[CV] END criterion=friedman_mse, max_depth=5, min_samples_leaf=50, min_samples_split=10; total time=   0.0s\n",
      "[CV] END criterion=friedman_mse, max_depth=5, min_samples_leaf=50, min_samples_split=10; total time=   0.0s\n",
      "[CV] END criterion=friedman_mse, max_depth=5, min_samples_leaf=50, min_samples_split=10; total time=   0.0s\n",
      "[CV] END criterion=friedman_mse, max_depth=5, min_samples_leaf=50, min_samples_split=10; total time=   0.0s\n",
      "[CV] END criterion=friedman_mse, max_depth=5, min_samples_leaf=50, min_samples_split=10; total time=   0.0s\n",
      "[CV] END criterion=friedman_mse, max_depth=5, min_samples_leaf=50, min_samples_split=20; total time=   0.0s\n",
      "[CV] END criterion=friedman_mse, max_depth=5, min_samples_leaf=50, min_samples_split=20; total time=   0.0s\n",
      "[CV] END criterion=friedman_mse, max_depth=5, min_samples_leaf=50, min_samples_split=20; total time=   0.0s\n",
      "[CV] END criterion=friedman_mse, max_depth=5, min_samples_leaf=50, min_samples_split=20; total time=   0.0s\n",
      "[CV] END criterion=friedman_mse, max_depth=5, min_samples_leaf=50, min_samples_split=20; total time=   0.0s\n",
      "[CV] END criterion=friedman_mse, max_depth=5, min_samples_leaf=50, min_samples_split=30; total time=   0.0s\n",
      "[CV] END criterion=friedman_mse, max_depth=5, min_samples_leaf=50, min_samples_split=30; total time=   0.0s\n",
      "[CV] END criterion=friedman_mse, max_depth=5, min_samples_leaf=50, min_samples_split=30; total time=   0.0s\n",
      "[CV] END criterion=friedman_mse, max_depth=5, min_samples_leaf=50, min_samples_split=30; total time=   0.0s\n",
      "[CV] END criterion=friedman_mse, max_depth=5, min_samples_leaf=50, min_samples_split=30; total time=   0.0s\n",
      "[CV] END criterion=friedman_mse, max_depth=5, min_samples_leaf=50, min_samples_split=50; total time=   0.0s\n"
     ]
    },
    {
     "name": "stdout",
     "output_type": "stream",
     "text": [
      "[CV] END criterion=friedman_mse, max_depth=5, min_samples_leaf=50, min_samples_split=50; total time=   0.0s\n",
      "[CV] END criterion=friedman_mse, max_depth=5, min_samples_leaf=50, min_samples_split=50; total time=   0.0s\n",
      "[CV] END criterion=friedman_mse, max_depth=5, min_samples_leaf=50, min_samples_split=50; total time=   0.0s\n",
      "[CV] END criterion=friedman_mse, max_depth=5, min_samples_leaf=50, min_samples_split=50; total time=   0.0s\n",
      "[CV] END criterion=friedman_mse, max_depth=5, min_samples_leaf=50, min_samples_split=120; total time=   0.0s\n",
      "[CV] END criterion=friedman_mse, max_depth=5, min_samples_leaf=50, min_samples_split=120; total time=   0.0s\n",
      "[CV] END criterion=friedman_mse, max_depth=5, min_samples_leaf=50, min_samples_split=120; total time=   0.0s\n",
      "[CV] END criterion=friedman_mse, max_depth=5, min_samples_leaf=50, min_samples_split=120; total time=   0.0s\n",
      "[CV] END criterion=friedman_mse, max_depth=5, min_samples_leaf=50, min_samples_split=120; total time=   0.0s\n",
      "[CV] END criterion=friedman_mse, max_depth=5, min_samples_leaf=100, min_samples_split=5; total time=   0.0s\n",
      "[CV] END criterion=friedman_mse, max_depth=5, min_samples_leaf=100, min_samples_split=5; total time=   0.0s\n",
      "[CV] END criterion=friedman_mse, max_depth=5, min_samples_leaf=100, min_samples_split=5; total time=   0.0s\n",
      "[CV] END criterion=friedman_mse, max_depth=5, min_samples_leaf=100, min_samples_split=5; total time=   0.0s\n",
      "[CV] END criterion=friedman_mse, max_depth=5, min_samples_leaf=100, min_samples_split=5; total time=   0.0s\n",
      "[CV] END criterion=friedman_mse, max_depth=5, min_samples_leaf=100, min_samples_split=10; total time=   0.0s\n",
      "[CV] END criterion=friedman_mse, max_depth=5, min_samples_leaf=100, min_samples_split=10; total time=   0.0s\n",
      "[CV] END criterion=friedman_mse, max_depth=5, min_samples_leaf=100, min_samples_split=10; total time=   0.0s\n",
      "[CV] END criterion=friedman_mse, max_depth=5, min_samples_leaf=100, min_samples_split=10; total time=   0.0s\n",
      "[CV] END criterion=friedman_mse, max_depth=5, min_samples_leaf=100, min_samples_split=10; total time=   0.0s\n",
      "[CV] END criterion=friedman_mse, max_depth=5, min_samples_leaf=100, min_samples_split=20; total time=   0.0s\n",
      "[CV] END criterion=friedman_mse, max_depth=5, min_samples_leaf=100, min_samples_split=20; total time=   0.0s\n",
      "[CV] END criterion=friedman_mse, max_depth=5, min_samples_leaf=100, min_samples_split=20; total time=   0.0s\n",
      "[CV] END criterion=friedman_mse, max_depth=5, min_samples_leaf=100, min_samples_split=20; total time=   0.0s\n",
      "[CV] END criterion=friedman_mse, max_depth=5, min_samples_leaf=100, min_samples_split=20; total time=   0.0s\n",
      "[CV] END criterion=friedman_mse, max_depth=5, min_samples_leaf=100, min_samples_split=30; total time=   0.0s\n",
      "[CV] END criterion=friedman_mse, max_depth=5, min_samples_leaf=100, min_samples_split=30; total time=   0.0s\n",
      "[CV] END criterion=friedman_mse, max_depth=5, min_samples_leaf=100, min_samples_split=30; total time=   0.0s\n",
      "[CV] END criterion=friedman_mse, max_depth=5, min_samples_leaf=100, min_samples_split=30; total time=   0.0s\n",
      "[CV] END criterion=friedman_mse, max_depth=5, min_samples_leaf=100, min_samples_split=30; total time=   0.0s\n",
      "[CV] END criterion=friedman_mse, max_depth=5, min_samples_leaf=100, min_samples_split=50; total time=   0.0s\n",
      "[CV] END criterion=friedman_mse, max_depth=5, min_samples_leaf=100, min_samples_split=50; total time=   0.0s\n",
      "[CV] END criterion=friedman_mse, max_depth=5, min_samples_leaf=100, min_samples_split=50; total time=   0.0s\n",
      "[CV] END criterion=friedman_mse, max_depth=5, min_samples_leaf=100, min_samples_split=50; total time=   0.0s\n",
      "[CV] END criterion=friedman_mse, max_depth=5, min_samples_leaf=100, min_samples_split=50; total time=   0.0s\n",
      "[CV] END criterion=friedman_mse, max_depth=5, min_samples_leaf=100, min_samples_split=120; total time=   0.0s\n",
      "[CV] END criterion=friedman_mse, max_depth=5, min_samples_leaf=100, min_samples_split=120; total time=   0.0s\n",
      "[CV] END criterion=friedman_mse, max_depth=5, min_samples_leaf=100, min_samples_split=120; total time=   0.0s\n",
      "[CV] END criterion=friedman_mse, max_depth=5, min_samples_leaf=100, min_samples_split=120; total time=   0.0s\n",
      "[CV] END criterion=friedman_mse, max_depth=5, min_samples_leaf=100, min_samples_split=120; total time=   0.0s\n",
      "[CV] END criterion=friedman_mse, max_depth=7, min_samples_leaf=5, min_samples_split=5; total time=   0.0s\n",
      "[CV] END criterion=friedman_mse, max_depth=7, min_samples_leaf=5, min_samples_split=5; total time=   0.0s\n",
      "[CV] END criterion=friedman_mse, max_depth=7, min_samples_leaf=5, min_samples_split=5; total time=   0.0s\n",
      "[CV] END criterion=friedman_mse, max_depth=7, min_samples_leaf=5, min_samples_split=5; total time=   0.0s\n",
      "[CV] END criterion=friedman_mse, max_depth=7, min_samples_leaf=5, min_samples_split=5; total time=   0.0s\n",
      "[CV] END criterion=friedman_mse, max_depth=7, min_samples_leaf=5, min_samples_split=10; total time=   0.0s\n",
      "[CV] END criterion=friedman_mse, max_depth=7, min_samples_leaf=5, min_samples_split=10; total time=   0.0s\n",
      "[CV] END criterion=friedman_mse, max_depth=7, min_samples_leaf=5, min_samples_split=10; total time=   0.0s\n",
      "[CV] END criterion=friedman_mse, max_depth=7, min_samples_leaf=5, min_samples_split=10; total time=   0.0s\n",
      "[CV] END criterion=friedman_mse, max_depth=7, min_samples_leaf=5, min_samples_split=10; total time=   0.0s\n",
      "[CV] END criterion=friedman_mse, max_depth=7, min_samples_leaf=5, min_samples_split=20; total time=   0.0s\n",
      "[CV] END criterion=friedman_mse, max_depth=7, min_samples_leaf=5, min_samples_split=20; total time=   0.0s\n",
      "[CV] END criterion=friedman_mse, max_depth=7, min_samples_leaf=5, min_samples_split=20; total time=   0.0s\n",
      "[CV] END criterion=friedman_mse, max_depth=7, min_samples_leaf=5, min_samples_split=20; total time=   0.0s\n",
      "[CV] END criterion=friedman_mse, max_depth=7, min_samples_leaf=5, min_samples_split=20; total time=   0.0s\n",
      "[CV] END criterion=friedman_mse, max_depth=7, min_samples_leaf=5, min_samples_split=30; total time=   0.0s\n",
      "[CV] END criterion=friedman_mse, max_depth=7, min_samples_leaf=5, min_samples_split=30; total time=   0.0s\n",
      "[CV] END criterion=friedman_mse, max_depth=7, min_samples_leaf=5, min_samples_split=30; total time=   0.0s\n",
      "[CV] END criterion=friedman_mse, max_depth=7, min_samples_leaf=5, min_samples_split=30; total time=   0.0s\n",
      "[CV] END criterion=friedman_mse, max_depth=7, min_samples_leaf=5, min_samples_split=30; total time=   0.0s\n",
      "[CV] END criterion=friedman_mse, max_depth=7, min_samples_leaf=5, min_samples_split=50; total time=   0.0s\n",
      "[CV] END criterion=friedman_mse, max_depth=7, min_samples_leaf=5, min_samples_split=50; total time=   0.0s\n",
      "[CV] END criterion=friedman_mse, max_depth=7, min_samples_leaf=5, min_samples_split=50; total time=   0.0s\n",
      "[CV] END criterion=friedman_mse, max_depth=7, min_samples_leaf=5, min_samples_split=50; total time=   0.0s\n",
      "[CV] END criterion=friedman_mse, max_depth=7, min_samples_leaf=5, min_samples_split=50; total time=   0.0s\n",
      "[CV] END criterion=friedman_mse, max_depth=7, min_samples_leaf=5, min_samples_split=120; total time=   0.0s\n",
      "[CV] END criterion=friedman_mse, max_depth=7, min_samples_leaf=5, min_samples_split=120; total time=   0.0s\n",
      "[CV] END criterion=friedman_mse, max_depth=7, min_samples_leaf=5, min_samples_split=120; total time=   0.0s\n",
      "[CV] END criterion=friedman_mse, max_depth=7, min_samples_leaf=5, min_samples_split=120; total time=   0.0s\n",
      "[CV] END criterion=friedman_mse, max_depth=7, min_samples_leaf=5, min_samples_split=120; total time=   0.0s\n",
      "[CV] END criterion=friedman_mse, max_depth=7, min_samples_leaf=15, min_samples_split=5; total time=   0.0s\n",
      "[CV] END criterion=friedman_mse, max_depth=7, min_samples_leaf=15, min_samples_split=5; total time=   0.0s\n",
      "[CV] END criterion=friedman_mse, max_depth=7, min_samples_leaf=15, min_samples_split=5; total time=   0.0s\n",
      "[CV] END criterion=friedman_mse, max_depth=7, min_samples_leaf=15, min_samples_split=5; total time=   0.0s\n",
      "[CV] END criterion=friedman_mse, max_depth=7, min_samples_leaf=15, min_samples_split=5; total time=   0.0s\n",
      "[CV] END criterion=friedman_mse, max_depth=7, min_samples_leaf=15, min_samples_split=10; total time=   0.0s\n",
      "[CV] END criterion=friedman_mse, max_depth=7, min_samples_leaf=15, min_samples_split=10; total time=   0.0s\n"
     ]
    },
    {
     "name": "stdout",
     "output_type": "stream",
     "text": [
      "[CV] END criterion=friedman_mse, max_depth=7, min_samples_leaf=15, min_samples_split=10; total time=   0.0s\n",
      "[CV] END criterion=friedman_mse, max_depth=7, min_samples_leaf=15, min_samples_split=10; total time=   0.0s\n",
      "[CV] END criterion=friedman_mse, max_depth=7, min_samples_leaf=15, min_samples_split=10; total time=   0.0s\n",
      "[CV] END criterion=friedman_mse, max_depth=7, min_samples_leaf=15, min_samples_split=20; total time=   0.0s\n",
      "[CV] END criterion=friedman_mse, max_depth=7, min_samples_leaf=15, min_samples_split=20; total time=   0.0s\n",
      "[CV] END criterion=friedman_mse, max_depth=7, min_samples_leaf=15, min_samples_split=20; total time=   0.0s\n",
      "[CV] END criterion=friedman_mse, max_depth=7, min_samples_leaf=15, min_samples_split=20; total time=   0.0s\n",
      "[CV] END criterion=friedman_mse, max_depth=7, min_samples_leaf=15, min_samples_split=20; total time=   0.0s\n",
      "[CV] END criterion=friedman_mse, max_depth=7, min_samples_leaf=15, min_samples_split=30; total time=   0.0s\n",
      "[CV] END criterion=friedman_mse, max_depth=7, min_samples_leaf=15, min_samples_split=30; total time=   0.0s\n",
      "[CV] END criterion=friedman_mse, max_depth=7, min_samples_leaf=15, min_samples_split=30; total time=   0.0s\n",
      "[CV] END criterion=friedman_mse, max_depth=7, min_samples_leaf=15, min_samples_split=30; total time=   0.0s\n",
      "[CV] END criterion=friedman_mse, max_depth=7, min_samples_leaf=15, min_samples_split=30; total time=   0.0s\n",
      "[CV] END criterion=friedman_mse, max_depth=7, min_samples_leaf=15, min_samples_split=50; total time=   0.0s\n",
      "[CV] END criterion=friedman_mse, max_depth=7, min_samples_leaf=15, min_samples_split=50; total time=   0.0s\n",
      "[CV] END criterion=friedman_mse, max_depth=7, min_samples_leaf=15, min_samples_split=50; total time=   0.0s\n",
      "[CV] END criterion=friedman_mse, max_depth=7, min_samples_leaf=15, min_samples_split=50; total time=   0.0s\n",
      "[CV] END criterion=friedman_mse, max_depth=7, min_samples_leaf=15, min_samples_split=50; total time=   0.0s\n",
      "[CV] END criterion=friedman_mse, max_depth=7, min_samples_leaf=15, min_samples_split=120; total time=   0.0s\n",
      "[CV] END criterion=friedman_mse, max_depth=7, min_samples_leaf=15, min_samples_split=120; total time=   0.0s\n",
      "[CV] END criterion=friedman_mse, max_depth=7, min_samples_leaf=15, min_samples_split=120; total time=   0.0s\n",
      "[CV] END criterion=friedman_mse, max_depth=7, min_samples_leaf=15, min_samples_split=120; total time=   0.0s\n",
      "[CV] END criterion=friedman_mse, max_depth=7, min_samples_leaf=15, min_samples_split=120; total time=   0.0s\n",
      "[CV] END criterion=friedman_mse, max_depth=7, min_samples_leaf=30, min_samples_split=5; total time=   0.0s\n",
      "[CV] END criterion=friedman_mse, max_depth=7, min_samples_leaf=30, min_samples_split=5; total time=   0.0s\n",
      "[CV] END criterion=friedman_mse, max_depth=7, min_samples_leaf=30, min_samples_split=5; total time=   0.0s\n",
      "[CV] END criterion=friedman_mse, max_depth=7, min_samples_leaf=30, min_samples_split=5; total time=   0.0s\n",
      "[CV] END criterion=friedman_mse, max_depth=7, min_samples_leaf=30, min_samples_split=5; total time=   0.0s\n",
      "[CV] END criterion=friedman_mse, max_depth=7, min_samples_leaf=30, min_samples_split=10; total time=   0.0s\n",
      "[CV] END criterion=friedman_mse, max_depth=7, min_samples_leaf=30, min_samples_split=10; total time=   0.0s\n",
      "[CV] END criterion=friedman_mse, max_depth=7, min_samples_leaf=30, min_samples_split=10; total time=   0.0s\n",
      "[CV] END criterion=friedman_mse, max_depth=7, min_samples_leaf=30, min_samples_split=10; total time=   0.0s\n",
      "[CV] END criterion=friedman_mse, max_depth=7, min_samples_leaf=30, min_samples_split=10; total time=   0.0s\n",
      "[CV] END criterion=friedman_mse, max_depth=7, min_samples_leaf=30, min_samples_split=20; total time=   0.0s\n",
      "[CV] END criterion=friedman_mse, max_depth=7, min_samples_leaf=30, min_samples_split=20; total time=   0.0s\n",
      "[CV] END criterion=friedman_mse, max_depth=7, min_samples_leaf=30, min_samples_split=20; total time=   0.0s\n",
      "[CV] END criterion=friedman_mse, max_depth=7, min_samples_leaf=30, min_samples_split=20; total time=   0.0s\n",
      "[CV] END criterion=friedman_mse, max_depth=7, min_samples_leaf=30, min_samples_split=20; total time=   0.0s\n",
      "[CV] END criterion=friedman_mse, max_depth=7, min_samples_leaf=30, min_samples_split=30; total time=   0.0s\n",
      "[CV] END criterion=friedman_mse, max_depth=7, min_samples_leaf=30, min_samples_split=30; total time=   0.0s\n",
      "[CV] END criterion=friedman_mse, max_depth=7, min_samples_leaf=30, min_samples_split=30; total time=   0.0s\n",
      "[CV] END criterion=friedman_mse, max_depth=7, min_samples_leaf=30, min_samples_split=30; total time=   0.0s\n",
      "[CV] END criterion=friedman_mse, max_depth=7, min_samples_leaf=30, min_samples_split=30; total time=   0.0s\n",
      "[CV] END criterion=friedman_mse, max_depth=7, min_samples_leaf=30, min_samples_split=50; total time=   0.0s\n",
      "[CV] END criterion=friedman_mse, max_depth=7, min_samples_leaf=30, min_samples_split=50; total time=   0.0s\n",
      "[CV] END criterion=friedman_mse, max_depth=7, min_samples_leaf=30, min_samples_split=50; total time=   0.0s\n",
      "[CV] END criterion=friedman_mse, max_depth=7, min_samples_leaf=30, min_samples_split=50; total time=   0.0s\n",
      "[CV] END criterion=friedman_mse, max_depth=7, min_samples_leaf=30, min_samples_split=50; total time=   0.0s\n",
      "[CV] END criterion=friedman_mse, max_depth=7, min_samples_leaf=30, min_samples_split=120; total time=   0.0s\n",
      "[CV] END criterion=friedman_mse, max_depth=7, min_samples_leaf=30, min_samples_split=120; total time=   0.0s\n",
      "[CV] END criterion=friedman_mse, max_depth=7, min_samples_leaf=30, min_samples_split=120; total time=   0.0s\n",
      "[CV] END criterion=friedman_mse, max_depth=7, min_samples_leaf=30, min_samples_split=120; total time=   0.0s\n",
      "[CV] END criterion=friedman_mse, max_depth=7, min_samples_leaf=30, min_samples_split=120; total time=   0.0s\n",
      "[CV] END criterion=friedman_mse, max_depth=7, min_samples_leaf=50, min_samples_split=5; total time=   0.0s\n",
      "[CV] END criterion=friedman_mse, max_depth=7, min_samples_leaf=50, min_samples_split=5; total time=   0.0s\n",
      "[CV] END criterion=friedman_mse, max_depth=7, min_samples_leaf=50, min_samples_split=5; total time=   0.0s\n",
      "[CV] END criterion=friedman_mse, max_depth=7, min_samples_leaf=50, min_samples_split=5; total time=   0.0s\n",
      "[CV] END criterion=friedman_mse, max_depth=7, min_samples_leaf=50, min_samples_split=5; total time=   0.0s\n",
      "[CV] END criterion=friedman_mse, max_depth=7, min_samples_leaf=50, min_samples_split=10; total time=   0.0s\n",
      "[CV] END criterion=friedman_mse, max_depth=7, min_samples_leaf=50, min_samples_split=10; total time=   0.0s\n",
      "[CV] END criterion=friedman_mse, max_depth=7, min_samples_leaf=50, min_samples_split=10; total time=   0.0s\n",
      "[CV] END criterion=friedman_mse, max_depth=7, min_samples_leaf=50, min_samples_split=10; total time=   0.0s\n",
      "[CV] END criterion=friedman_mse, max_depth=7, min_samples_leaf=50, min_samples_split=10; total time=   0.0s\n",
      "[CV] END criterion=friedman_mse, max_depth=7, min_samples_leaf=50, min_samples_split=20; total time=   0.0s\n",
      "[CV] END criterion=friedman_mse, max_depth=7, min_samples_leaf=50, min_samples_split=20; total time=   0.0s\n",
      "[CV] END criterion=friedman_mse, max_depth=7, min_samples_leaf=50, min_samples_split=20; total time=   0.0s\n",
      "[CV] END criterion=friedman_mse, max_depth=7, min_samples_leaf=50, min_samples_split=20; total time=   0.0s\n",
      "[CV] END criterion=friedman_mse, max_depth=7, min_samples_leaf=50, min_samples_split=20; total time=   0.0s\n",
      "[CV] END criterion=friedman_mse, max_depth=7, min_samples_leaf=50, min_samples_split=30; total time=   0.0s\n",
      "[CV] END criterion=friedman_mse, max_depth=7, min_samples_leaf=50, min_samples_split=30; total time=   0.0s\n",
      "[CV] END criterion=friedman_mse, max_depth=7, min_samples_leaf=50, min_samples_split=30; total time=   0.0s\n",
      "[CV] END criterion=friedman_mse, max_depth=7, min_samples_leaf=50, min_samples_split=30; total time=   0.0s\n",
      "[CV] END criterion=friedman_mse, max_depth=7, min_samples_leaf=50, min_samples_split=30; total time=   0.0s\n",
      "[CV] END criterion=friedman_mse, max_depth=7, min_samples_leaf=50, min_samples_split=50; total time=   0.0s\n",
      "[CV] END criterion=friedman_mse, max_depth=7, min_samples_leaf=50, min_samples_split=50; total time=   0.0s\n",
      "[CV] END criterion=friedman_mse, max_depth=7, min_samples_leaf=50, min_samples_split=50; total time=   0.0s\n"
     ]
    },
    {
     "name": "stdout",
     "output_type": "stream",
     "text": [
      "[CV] END criterion=friedman_mse, max_depth=7, min_samples_leaf=50, min_samples_split=50; total time=   0.0s\n",
      "[CV] END criterion=friedman_mse, max_depth=7, min_samples_leaf=50, min_samples_split=50; total time=   0.0s\n",
      "[CV] END criterion=friedman_mse, max_depth=7, min_samples_leaf=50, min_samples_split=120; total time=   0.0s\n",
      "[CV] END criterion=friedman_mse, max_depth=7, min_samples_leaf=50, min_samples_split=120; total time=   0.0s\n",
      "[CV] END criterion=friedman_mse, max_depth=7, min_samples_leaf=50, min_samples_split=120; total time=   0.0s\n",
      "[CV] END criterion=friedman_mse, max_depth=7, min_samples_leaf=50, min_samples_split=120; total time=   0.0s\n",
      "[CV] END criterion=friedman_mse, max_depth=7, min_samples_leaf=50, min_samples_split=120; total time=   0.0s\n",
      "[CV] END criterion=friedman_mse, max_depth=7, min_samples_leaf=100, min_samples_split=5; total time=   0.0s\n",
      "[CV] END criterion=friedman_mse, max_depth=7, min_samples_leaf=100, min_samples_split=5; total time=   0.0s\n",
      "[CV] END criterion=friedman_mse, max_depth=7, min_samples_leaf=100, min_samples_split=5; total time=   0.0s\n",
      "[CV] END criterion=friedman_mse, max_depth=7, min_samples_leaf=100, min_samples_split=5; total time=   0.0s\n",
      "[CV] END criterion=friedman_mse, max_depth=7, min_samples_leaf=100, min_samples_split=5; total time=   0.0s\n",
      "[CV] END criterion=friedman_mse, max_depth=7, min_samples_leaf=100, min_samples_split=10; total time=   0.0s\n",
      "[CV] END criterion=friedman_mse, max_depth=7, min_samples_leaf=100, min_samples_split=10; total time=   0.0s\n",
      "[CV] END criterion=friedman_mse, max_depth=7, min_samples_leaf=100, min_samples_split=10; total time=   0.0s\n",
      "[CV] END criterion=friedman_mse, max_depth=7, min_samples_leaf=100, min_samples_split=10; total time=   0.0s\n",
      "[CV] END criterion=friedman_mse, max_depth=7, min_samples_leaf=100, min_samples_split=10; total time=   0.0s\n",
      "[CV] END criterion=friedman_mse, max_depth=7, min_samples_leaf=100, min_samples_split=20; total time=   0.0s\n",
      "[CV] END criterion=friedman_mse, max_depth=7, min_samples_leaf=100, min_samples_split=20; total time=   0.0s\n",
      "[CV] END criterion=friedman_mse, max_depth=7, min_samples_leaf=100, min_samples_split=20; total time=   0.0s\n",
      "[CV] END criterion=friedman_mse, max_depth=7, min_samples_leaf=100, min_samples_split=20; total time=   0.0s\n",
      "[CV] END criterion=friedman_mse, max_depth=7, min_samples_leaf=100, min_samples_split=20; total time=   0.0s\n",
      "[CV] END criterion=friedman_mse, max_depth=7, min_samples_leaf=100, min_samples_split=30; total time=   0.0s\n",
      "[CV] END criterion=friedman_mse, max_depth=7, min_samples_leaf=100, min_samples_split=30; total time=   0.0s\n",
      "[CV] END criterion=friedman_mse, max_depth=7, min_samples_leaf=100, min_samples_split=30; total time=   0.0s\n",
      "[CV] END criterion=friedman_mse, max_depth=7, min_samples_leaf=100, min_samples_split=30; total time=   0.0s\n",
      "[CV] END criterion=friedman_mse, max_depth=7, min_samples_leaf=100, min_samples_split=30; total time=   0.0s\n",
      "[CV] END criterion=friedman_mse, max_depth=7, min_samples_leaf=100, min_samples_split=50; total time=   0.0s\n",
      "[CV] END criterion=friedman_mse, max_depth=7, min_samples_leaf=100, min_samples_split=50; total time=   0.0s\n",
      "[CV] END criterion=friedman_mse, max_depth=7, min_samples_leaf=100, min_samples_split=50; total time=   0.0s\n",
      "[CV] END criterion=friedman_mse, max_depth=7, min_samples_leaf=100, min_samples_split=50; total time=   0.0s\n",
      "[CV] END criterion=friedman_mse, max_depth=7, min_samples_leaf=100, min_samples_split=50; total time=   0.0s\n",
      "[CV] END criterion=friedman_mse, max_depth=7, min_samples_leaf=100, min_samples_split=120; total time=   0.0s\n",
      "[CV] END criterion=friedman_mse, max_depth=7, min_samples_leaf=100, min_samples_split=120; total time=   0.0s\n",
      "[CV] END criterion=friedman_mse, max_depth=7, min_samples_leaf=100, min_samples_split=120; total time=   0.0s\n",
      "[CV] END criterion=friedman_mse, max_depth=7, min_samples_leaf=100, min_samples_split=120; total time=   0.0s\n",
      "[CV] END criterion=friedman_mse, max_depth=7, min_samples_leaf=100, min_samples_split=120; total time=   0.0s\n",
      "[CV] END criterion=friedman_mse, max_depth=9, min_samples_leaf=5, min_samples_split=5; total time=   0.0s\n",
      "[CV] END criterion=friedman_mse, max_depth=9, min_samples_leaf=5, min_samples_split=5; total time=   0.0s\n",
      "[CV] END criterion=friedman_mse, max_depth=9, min_samples_leaf=5, min_samples_split=5; total time=   0.0s\n",
      "[CV] END criterion=friedman_mse, max_depth=9, min_samples_leaf=5, min_samples_split=5; total time=   0.0s\n",
      "[CV] END criterion=friedman_mse, max_depth=9, min_samples_leaf=5, min_samples_split=5; total time=   0.0s\n",
      "[CV] END criterion=friedman_mse, max_depth=9, min_samples_leaf=5, min_samples_split=10; total time=   0.0s\n",
      "[CV] END criterion=friedman_mse, max_depth=9, min_samples_leaf=5, min_samples_split=10; total time=   0.0s\n",
      "[CV] END criterion=friedman_mse, max_depth=9, min_samples_leaf=5, min_samples_split=10; total time=   0.0s\n",
      "[CV] END criterion=friedman_mse, max_depth=9, min_samples_leaf=5, min_samples_split=10; total time=   0.0s\n",
      "[CV] END criterion=friedman_mse, max_depth=9, min_samples_leaf=5, min_samples_split=10; total time=   0.0s\n",
      "[CV] END criterion=friedman_mse, max_depth=9, min_samples_leaf=5, min_samples_split=20; total time=   0.0s\n",
      "[CV] END criterion=friedman_mse, max_depth=9, min_samples_leaf=5, min_samples_split=20; total time=   0.0s\n",
      "[CV] END criterion=friedman_mse, max_depth=9, min_samples_leaf=5, min_samples_split=20; total time=   0.0s\n",
      "[CV] END criterion=friedman_mse, max_depth=9, min_samples_leaf=5, min_samples_split=20; total time=   0.0s\n",
      "[CV] END criterion=friedman_mse, max_depth=9, min_samples_leaf=5, min_samples_split=20; total time=   0.0s\n",
      "[CV] END criterion=friedman_mse, max_depth=9, min_samples_leaf=5, min_samples_split=30; total time=   0.0s\n",
      "[CV] END criterion=friedman_mse, max_depth=9, min_samples_leaf=5, min_samples_split=30; total time=   0.0s\n",
      "[CV] END criterion=friedman_mse, max_depth=9, min_samples_leaf=5, min_samples_split=30; total time=   0.0s\n",
      "[CV] END criterion=friedman_mse, max_depth=9, min_samples_leaf=5, min_samples_split=30; total time=   0.0s\n",
      "[CV] END criterion=friedman_mse, max_depth=9, min_samples_leaf=5, min_samples_split=30; total time=   0.0s\n",
      "[CV] END criterion=friedman_mse, max_depth=9, min_samples_leaf=5, min_samples_split=50; total time=   0.0s\n",
      "[CV] END criterion=friedman_mse, max_depth=9, min_samples_leaf=5, min_samples_split=50; total time=   0.0s\n",
      "[CV] END criterion=friedman_mse, max_depth=9, min_samples_leaf=5, min_samples_split=50; total time=   0.0s\n",
      "[CV] END criterion=friedman_mse, max_depth=9, min_samples_leaf=5, min_samples_split=50; total time=   0.0s\n",
      "[CV] END criterion=friedman_mse, max_depth=9, min_samples_leaf=5, min_samples_split=50; total time=   0.0s\n",
      "[CV] END criterion=friedman_mse, max_depth=9, min_samples_leaf=5, min_samples_split=120; total time=   0.0s\n",
      "[CV] END criterion=friedman_mse, max_depth=9, min_samples_leaf=5, min_samples_split=120; total time=   0.0s\n",
      "[CV] END criterion=friedman_mse, max_depth=9, min_samples_leaf=5, min_samples_split=120; total time=   0.0s\n",
      "[CV] END criterion=friedman_mse, max_depth=9, min_samples_leaf=5, min_samples_split=120; total time=   0.0s\n",
      "[CV] END criterion=friedman_mse, max_depth=9, min_samples_leaf=5, min_samples_split=120; total time=   0.0s\n",
      "[CV] END criterion=friedman_mse, max_depth=9, min_samples_leaf=15, min_samples_split=5; total time=   0.0s\n",
      "[CV] END criterion=friedman_mse, max_depth=9, min_samples_leaf=15, min_samples_split=5; total time=   0.0s\n",
      "[CV] END criterion=friedman_mse, max_depth=9, min_samples_leaf=15, min_samples_split=5; total time=   0.0s\n",
      "[CV] END criterion=friedman_mse, max_depth=9, min_samples_leaf=15, min_samples_split=5; total time=   0.0s\n",
      "[CV] END criterion=friedman_mse, max_depth=9, min_samples_leaf=15, min_samples_split=5; total time=   0.0s\n",
      "[CV] END criterion=friedman_mse, max_depth=9, min_samples_leaf=15, min_samples_split=10; total time=   0.0s\n",
      "[CV] END criterion=friedman_mse, max_depth=9, min_samples_leaf=15, min_samples_split=10; total time=   0.0s\n",
      "[CV] END criterion=friedman_mse, max_depth=9, min_samples_leaf=15, min_samples_split=10; total time=   0.0s\n",
      "[CV] END criterion=friedman_mse, max_depth=9, min_samples_leaf=15, min_samples_split=10; total time=   0.0s\n",
      "[CV] END criterion=friedman_mse, max_depth=9, min_samples_leaf=15, min_samples_split=10; total time=   0.0s\n",
      "[CV] END criterion=friedman_mse, max_depth=9, min_samples_leaf=15, min_samples_split=20; total time=   0.0s\n",
      "[CV] END criterion=friedman_mse, max_depth=9, min_samples_leaf=15, min_samples_split=20; total time=   0.0s\n",
      "[CV] END criterion=friedman_mse, max_depth=9, min_samples_leaf=15, min_samples_split=20; total time=   0.0s\n",
      "[CV] END criterion=friedman_mse, max_depth=9, min_samples_leaf=15, min_samples_split=20; total time=   0.0s\n",
      "[CV] END criterion=friedman_mse, max_depth=9, min_samples_leaf=15, min_samples_split=20; total time=   0.0s\n",
      "[CV] END criterion=friedman_mse, max_depth=9, min_samples_leaf=15, min_samples_split=30; total time=   0.0s\n",
      "[CV] END criterion=friedman_mse, max_depth=9, min_samples_leaf=15, min_samples_split=30; total time=   0.0s\n"
     ]
    },
    {
     "name": "stdout",
     "output_type": "stream",
     "text": [
      "[CV] END criterion=friedman_mse, max_depth=9, min_samples_leaf=15, min_samples_split=30; total time=   0.0s\n",
      "[CV] END criterion=friedman_mse, max_depth=9, min_samples_leaf=15, min_samples_split=30; total time=   0.0s\n",
      "[CV] END criterion=friedman_mse, max_depth=9, min_samples_leaf=15, min_samples_split=30; total time=   0.0s\n",
      "[CV] END criterion=friedman_mse, max_depth=9, min_samples_leaf=15, min_samples_split=50; total time=   0.0s\n",
      "[CV] END criterion=friedman_mse, max_depth=9, min_samples_leaf=15, min_samples_split=50; total time=   0.0s\n",
      "[CV] END criterion=friedman_mse, max_depth=9, min_samples_leaf=15, min_samples_split=50; total time=   0.0s\n",
      "[CV] END criterion=friedman_mse, max_depth=9, min_samples_leaf=15, min_samples_split=50; total time=   0.0s\n",
      "[CV] END criterion=friedman_mse, max_depth=9, min_samples_leaf=15, min_samples_split=50; total time=   0.0s\n",
      "[CV] END criterion=friedman_mse, max_depth=9, min_samples_leaf=15, min_samples_split=120; total time=   0.0s\n",
      "[CV] END criterion=friedman_mse, max_depth=9, min_samples_leaf=15, min_samples_split=120; total time=   0.0s\n",
      "[CV] END criterion=friedman_mse, max_depth=9, min_samples_leaf=15, min_samples_split=120; total time=   0.0s\n",
      "[CV] END criterion=friedman_mse, max_depth=9, min_samples_leaf=15, min_samples_split=120; total time=   0.0s\n",
      "[CV] END criterion=friedman_mse, max_depth=9, min_samples_leaf=15, min_samples_split=120; total time=   0.0s\n",
      "[CV] END criterion=friedman_mse, max_depth=9, min_samples_leaf=30, min_samples_split=5; total time=   0.0s\n",
      "[CV] END criterion=friedman_mse, max_depth=9, min_samples_leaf=30, min_samples_split=5; total time=   0.0s\n",
      "[CV] END criterion=friedman_mse, max_depth=9, min_samples_leaf=30, min_samples_split=5; total time=   0.0s\n",
      "[CV] END criterion=friedman_mse, max_depth=9, min_samples_leaf=30, min_samples_split=5; total time=   0.0s\n",
      "[CV] END criterion=friedman_mse, max_depth=9, min_samples_leaf=30, min_samples_split=5; total time=   0.0s\n",
      "[CV] END criterion=friedman_mse, max_depth=9, min_samples_leaf=30, min_samples_split=10; total time=   0.0s\n",
      "[CV] END criterion=friedman_mse, max_depth=9, min_samples_leaf=30, min_samples_split=10; total time=   0.0s\n",
      "[CV] END criterion=friedman_mse, max_depth=9, min_samples_leaf=30, min_samples_split=10; total time=   0.0s\n",
      "[CV] END criterion=friedman_mse, max_depth=9, min_samples_leaf=30, min_samples_split=10; total time=   0.0s\n",
      "[CV] END criterion=friedman_mse, max_depth=9, min_samples_leaf=30, min_samples_split=10; total time=   0.0s\n",
      "[CV] END criterion=friedman_mse, max_depth=9, min_samples_leaf=30, min_samples_split=20; total time=   0.0s\n",
      "[CV] END criterion=friedman_mse, max_depth=9, min_samples_leaf=30, min_samples_split=20; total time=   0.0s\n",
      "[CV] END criterion=friedman_mse, max_depth=9, min_samples_leaf=30, min_samples_split=20; total time=   0.0s\n",
      "[CV] END criterion=friedman_mse, max_depth=9, min_samples_leaf=30, min_samples_split=20; total time=   0.0s\n",
      "[CV] END criterion=friedman_mse, max_depth=9, min_samples_leaf=30, min_samples_split=20; total time=   0.0s\n",
      "[CV] END criterion=friedman_mse, max_depth=9, min_samples_leaf=30, min_samples_split=30; total time=   0.0s\n",
      "[CV] END criterion=friedman_mse, max_depth=9, min_samples_leaf=30, min_samples_split=30; total time=   0.0s\n",
      "[CV] END criterion=friedman_mse, max_depth=9, min_samples_leaf=30, min_samples_split=30; total time=   0.0s\n",
      "[CV] END criterion=friedman_mse, max_depth=9, min_samples_leaf=30, min_samples_split=30; total time=   0.0s\n",
      "[CV] END criterion=friedman_mse, max_depth=9, min_samples_leaf=30, min_samples_split=30; total time=   0.0s\n",
      "[CV] END criterion=friedman_mse, max_depth=9, min_samples_leaf=30, min_samples_split=50; total time=   0.0s\n",
      "[CV] END criterion=friedman_mse, max_depth=9, min_samples_leaf=30, min_samples_split=50; total time=   0.0s\n",
      "[CV] END criterion=friedman_mse, max_depth=9, min_samples_leaf=30, min_samples_split=50; total time=   0.0s\n",
      "[CV] END criterion=friedman_mse, max_depth=9, min_samples_leaf=30, min_samples_split=50; total time=   0.0s\n",
      "[CV] END criterion=friedman_mse, max_depth=9, min_samples_leaf=30, min_samples_split=50; total time=   0.0s\n",
      "[CV] END criterion=friedman_mse, max_depth=9, min_samples_leaf=30, min_samples_split=120; total time=   0.0s\n",
      "[CV] END criterion=friedman_mse, max_depth=9, min_samples_leaf=30, min_samples_split=120; total time=   0.0s\n",
      "[CV] END criterion=friedman_mse, max_depth=9, min_samples_leaf=30, min_samples_split=120; total time=   0.0s\n",
      "[CV] END criterion=friedman_mse, max_depth=9, min_samples_leaf=30, min_samples_split=120; total time=   0.0s\n",
      "[CV] END criterion=friedman_mse, max_depth=9, min_samples_leaf=30, min_samples_split=120; total time=   0.0s\n",
      "[CV] END criterion=friedman_mse, max_depth=9, min_samples_leaf=50, min_samples_split=5; total time=   0.0s\n",
      "[CV] END criterion=friedman_mse, max_depth=9, min_samples_leaf=50, min_samples_split=5; total time=   0.0s\n",
      "[CV] END criterion=friedman_mse, max_depth=9, min_samples_leaf=50, min_samples_split=5; total time=   0.0s\n",
      "[CV] END criterion=friedman_mse, max_depth=9, min_samples_leaf=50, min_samples_split=5; total time=   0.0s\n",
      "[CV] END criterion=friedman_mse, max_depth=9, min_samples_leaf=50, min_samples_split=5; total time=   0.0s\n",
      "[CV] END criterion=friedman_mse, max_depth=9, min_samples_leaf=50, min_samples_split=10; total time=   0.0s\n",
      "[CV] END criterion=friedman_mse, max_depth=9, min_samples_leaf=50, min_samples_split=10; total time=   0.0s\n",
      "[CV] END criterion=friedman_mse, max_depth=9, min_samples_leaf=50, min_samples_split=10; total time=   0.0s\n",
      "[CV] END criterion=friedman_mse, max_depth=9, min_samples_leaf=50, min_samples_split=10; total time=   0.0s\n",
      "[CV] END criterion=friedman_mse, max_depth=9, min_samples_leaf=50, min_samples_split=10; total time=   0.0s\n",
      "[CV] END criterion=friedman_mse, max_depth=9, min_samples_leaf=50, min_samples_split=20; total time=   0.0s\n",
      "[CV] END criterion=friedman_mse, max_depth=9, min_samples_leaf=50, min_samples_split=20; total time=   0.0s\n",
      "[CV] END criterion=friedman_mse, max_depth=9, min_samples_leaf=50, min_samples_split=20; total time=   0.0s\n",
      "[CV] END criterion=friedman_mse, max_depth=9, min_samples_leaf=50, min_samples_split=20; total time=   0.0s\n",
      "[CV] END criterion=friedman_mse, max_depth=9, min_samples_leaf=50, min_samples_split=20; total time=   0.0s\n",
      "[CV] END criterion=friedman_mse, max_depth=9, min_samples_leaf=50, min_samples_split=30; total time=   0.0s\n",
      "[CV] END criterion=friedman_mse, max_depth=9, min_samples_leaf=50, min_samples_split=30; total time=   0.0s\n",
      "[CV] END criterion=friedman_mse, max_depth=9, min_samples_leaf=50, min_samples_split=30; total time=   0.0s\n",
      "[CV] END criterion=friedman_mse, max_depth=9, min_samples_leaf=50, min_samples_split=30; total time=   0.0s\n",
      "[CV] END criterion=friedman_mse, max_depth=9, min_samples_leaf=50, min_samples_split=30; total time=   0.0s\n",
      "[CV] END criterion=friedman_mse, max_depth=9, min_samples_leaf=50, min_samples_split=50; total time=   0.0s\n",
      "[CV] END criterion=friedman_mse, max_depth=9, min_samples_leaf=50, min_samples_split=50; total time=   0.0s\n",
      "[CV] END criterion=friedman_mse, max_depth=9, min_samples_leaf=50, min_samples_split=50; total time=   0.0s\n",
      "[CV] END criterion=friedman_mse, max_depth=9, min_samples_leaf=50, min_samples_split=50; total time=   0.0s\n",
      "[CV] END criterion=friedman_mse, max_depth=9, min_samples_leaf=50, min_samples_split=50; total time=   0.0s\n",
      "[CV] END criterion=friedman_mse, max_depth=9, min_samples_leaf=50, min_samples_split=120; total time=   0.0s\n",
      "[CV] END criterion=friedman_mse, max_depth=9, min_samples_leaf=50, min_samples_split=120; total time=   0.0s\n",
      "[CV] END criterion=friedman_mse, max_depth=9, min_samples_leaf=50, min_samples_split=120; total time=   0.0s\n",
      "[CV] END criterion=friedman_mse, max_depth=9, min_samples_leaf=50, min_samples_split=120; total time=   0.0s\n",
      "[CV] END criterion=friedman_mse, max_depth=9, min_samples_leaf=50, min_samples_split=120; total time=   0.0s\n",
      "[CV] END criterion=friedman_mse, max_depth=9, min_samples_leaf=100, min_samples_split=5; total time=   0.0s\n",
      "[CV] END criterion=friedman_mse, max_depth=9, min_samples_leaf=100, min_samples_split=5; total time=   0.0s\n",
      "[CV] END criterion=friedman_mse, max_depth=9, min_samples_leaf=100, min_samples_split=5; total time=   0.0s\n"
     ]
    },
    {
     "name": "stdout",
     "output_type": "stream",
     "text": [
      "[CV] END criterion=friedman_mse, max_depth=9, min_samples_leaf=100, min_samples_split=5; total time=   0.0s\n",
      "[CV] END criterion=friedman_mse, max_depth=9, min_samples_leaf=100, min_samples_split=5; total time=   0.0s\n",
      "[CV] END criterion=friedman_mse, max_depth=9, min_samples_leaf=100, min_samples_split=10; total time=   0.0s\n",
      "[CV] END criterion=friedman_mse, max_depth=9, min_samples_leaf=100, min_samples_split=10; total time=   0.0s\n",
      "[CV] END criterion=friedman_mse, max_depth=9, min_samples_leaf=100, min_samples_split=10; total time=   0.0s\n",
      "[CV] END criterion=friedman_mse, max_depth=9, min_samples_leaf=100, min_samples_split=10; total time=   0.0s\n",
      "[CV] END criterion=friedman_mse, max_depth=9, min_samples_leaf=100, min_samples_split=10; total time=   0.0s\n",
      "[CV] END criterion=friedman_mse, max_depth=9, min_samples_leaf=100, min_samples_split=20; total time=   0.0s\n",
      "[CV] END criterion=friedman_mse, max_depth=9, min_samples_leaf=100, min_samples_split=20; total time=   0.0s\n",
      "[CV] END criterion=friedman_mse, max_depth=9, min_samples_leaf=100, min_samples_split=20; total time=   0.0s\n",
      "[CV] END criterion=friedman_mse, max_depth=9, min_samples_leaf=100, min_samples_split=20; total time=   0.0s\n",
      "[CV] END criterion=friedman_mse, max_depth=9, min_samples_leaf=100, min_samples_split=20; total time=   0.0s\n",
      "[CV] END criterion=friedman_mse, max_depth=9, min_samples_leaf=100, min_samples_split=30; total time=   0.0s\n",
      "[CV] END criterion=friedman_mse, max_depth=9, min_samples_leaf=100, min_samples_split=30; total time=   0.0s\n",
      "[CV] END criterion=friedman_mse, max_depth=9, min_samples_leaf=100, min_samples_split=30; total time=   0.0s\n",
      "[CV] END criterion=friedman_mse, max_depth=9, min_samples_leaf=100, min_samples_split=30; total time=   0.0s\n",
      "[CV] END criterion=friedman_mse, max_depth=9, min_samples_leaf=100, min_samples_split=30; total time=   0.0s\n",
      "[CV] END criterion=friedman_mse, max_depth=9, min_samples_leaf=100, min_samples_split=50; total time=   0.0s\n",
      "[CV] END criterion=friedman_mse, max_depth=9, min_samples_leaf=100, min_samples_split=50; total time=   0.0s\n",
      "[CV] END criterion=friedman_mse, max_depth=9, min_samples_leaf=100, min_samples_split=50; total time=   0.0s\n",
      "[CV] END criterion=friedman_mse, max_depth=9, min_samples_leaf=100, min_samples_split=50; total time=   0.0s\n",
      "[CV] END criterion=friedman_mse, max_depth=9, min_samples_leaf=100, min_samples_split=50; total time=   0.0s\n",
      "[CV] END criterion=friedman_mse, max_depth=9, min_samples_leaf=100, min_samples_split=120; total time=   0.0s\n",
      "[CV] END criterion=friedman_mse, max_depth=9, min_samples_leaf=100, min_samples_split=120; total time=   0.0s\n",
      "[CV] END criterion=friedman_mse, max_depth=9, min_samples_leaf=100, min_samples_split=120; total time=   0.0s\n",
      "[CV] END criterion=friedman_mse, max_depth=9, min_samples_leaf=100, min_samples_split=120; total time=   0.0s\n",
      "[CV] END criterion=friedman_mse, max_depth=9, min_samples_leaf=100, min_samples_split=120; total time=   0.0s\n",
      "[CV] END criterion=friedman_mse, max_depth=11, min_samples_leaf=5, min_samples_split=5; total time=   0.0s\n",
      "[CV] END criterion=friedman_mse, max_depth=11, min_samples_leaf=5, min_samples_split=5; total time=   0.0s\n",
      "[CV] END criterion=friedman_mse, max_depth=11, min_samples_leaf=5, min_samples_split=5; total time=   0.0s\n",
      "[CV] END criterion=friedman_mse, max_depth=11, min_samples_leaf=5, min_samples_split=5; total time=   0.0s\n",
      "[CV] END criterion=friedman_mse, max_depth=11, min_samples_leaf=5, min_samples_split=5; total time=   0.0s\n",
      "[CV] END criterion=friedman_mse, max_depth=11, min_samples_leaf=5, min_samples_split=10; total time=   0.0s\n",
      "[CV] END criterion=friedman_mse, max_depth=11, min_samples_leaf=5, min_samples_split=10; total time=   0.0s\n",
      "[CV] END criterion=friedman_mse, max_depth=11, min_samples_leaf=5, min_samples_split=10; total time=   0.0s\n",
      "[CV] END criterion=friedman_mse, max_depth=11, min_samples_leaf=5, min_samples_split=10; total time=   0.0s\n",
      "[CV] END criterion=friedman_mse, max_depth=11, min_samples_leaf=5, min_samples_split=10; total time=   0.0s\n",
      "[CV] END criterion=friedman_mse, max_depth=11, min_samples_leaf=5, min_samples_split=20; total time=   0.0s\n",
      "[CV] END criterion=friedman_mse, max_depth=11, min_samples_leaf=5, min_samples_split=20; total time=   0.0s\n",
      "[CV] END criterion=friedman_mse, max_depth=11, min_samples_leaf=5, min_samples_split=20; total time=   0.0s\n",
      "[CV] END criterion=friedman_mse, max_depth=11, min_samples_leaf=5, min_samples_split=20; total time=   0.0s\n",
      "[CV] END criterion=friedman_mse, max_depth=11, min_samples_leaf=5, min_samples_split=20; total time=   0.0s\n",
      "[CV] END criterion=friedman_mse, max_depth=11, min_samples_leaf=5, min_samples_split=30; total time=   0.0s\n",
      "[CV] END criterion=friedman_mse, max_depth=11, min_samples_leaf=5, min_samples_split=30; total time=   0.0s\n",
      "[CV] END criterion=friedman_mse, max_depth=11, min_samples_leaf=5, min_samples_split=30; total time=   0.0s\n",
      "[CV] END criterion=friedman_mse, max_depth=11, min_samples_leaf=5, min_samples_split=30; total time=   0.0s\n",
      "[CV] END criterion=friedman_mse, max_depth=11, min_samples_leaf=5, min_samples_split=30; total time=   0.0s\n",
      "[CV] END criterion=friedman_mse, max_depth=11, min_samples_leaf=5, min_samples_split=50; total time=   0.0s\n",
      "[CV] END criterion=friedman_mse, max_depth=11, min_samples_leaf=5, min_samples_split=50; total time=   0.0s\n",
      "[CV] END criterion=friedman_mse, max_depth=11, min_samples_leaf=5, min_samples_split=50; total time=   0.0s\n",
      "[CV] END criterion=friedman_mse, max_depth=11, min_samples_leaf=5, min_samples_split=50; total time=   0.0s\n",
      "[CV] END criterion=friedman_mse, max_depth=11, min_samples_leaf=5, min_samples_split=50; total time=   0.0s\n",
      "[CV] END criterion=friedman_mse, max_depth=11, min_samples_leaf=5, min_samples_split=120; total time=   0.0s\n",
      "[CV] END criterion=friedman_mse, max_depth=11, min_samples_leaf=5, min_samples_split=120; total time=   0.0s\n",
      "[CV] END criterion=friedman_mse, max_depth=11, min_samples_leaf=5, min_samples_split=120; total time=   0.0s\n",
      "[CV] END criterion=friedman_mse, max_depth=11, min_samples_leaf=5, min_samples_split=120; total time=   0.0s\n",
      "[CV] END criterion=friedman_mse, max_depth=11, min_samples_leaf=5, min_samples_split=120; total time=   0.0s\n",
      "[CV] END criterion=friedman_mse, max_depth=11, min_samples_leaf=15, min_samples_split=5; total time=   0.0s\n",
      "[CV] END criterion=friedman_mse, max_depth=11, min_samples_leaf=15, min_samples_split=5; total time=   0.0s\n",
      "[CV] END criterion=friedman_mse, max_depth=11, min_samples_leaf=15, min_samples_split=5; total time=   0.0s\n",
      "[CV] END criterion=friedman_mse, max_depth=11, min_samples_leaf=15, min_samples_split=5; total time=   0.0s\n",
      "[CV] END criterion=friedman_mse, max_depth=11, min_samples_leaf=15, min_samples_split=5; total time=   0.0s\n",
      "[CV] END criterion=friedman_mse, max_depth=11, min_samples_leaf=15, min_samples_split=10; total time=   0.0s\n",
      "[CV] END criterion=friedman_mse, max_depth=11, min_samples_leaf=15, min_samples_split=10; total time=   0.0s\n",
      "[CV] END criterion=friedman_mse, max_depth=11, min_samples_leaf=15, min_samples_split=10; total time=   0.0s\n",
      "[CV] END criterion=friedman_mse, max_depth=11, min_samples_leaf=15, min_samples_split=10; total time=   0.0s\n",
      "[CV] END criterion=friedman_mse, max_depth=11, min_samples_leaf=15, min_samples_split=10; total time=   0.0s\n",
      "[CV] END criterion=friedman_mse, max_depth=11, min_samples_leaf=15, min_samples_split=20; total time=   0.0s\n",
      "[CV] END criterion=friedman_mse, max_depth=11, min_samples_leaf=15, min_samples_split=20; total time=   0.0s\n",
      "[CV] END criterion=friedman_mse, max_depth=11, min_samples_leaf=15, min_samples_split=20; total time=   0.0s\n",
      "[CV] END criterion=friedman_mse, max_depth=11, min_samples_leaf=15, min_samples_split=20; total time=   0.0s\n",
      "[CV] END criterion=friedman_mse, max_depth=11, min_samples_leaf=15, min_samples_split=20; total time=   0.0s\n",
      "[CV] END criterion=friedman_mse, max_depth=11, min_samples_leaf=15, min_samples_split=30; total time=   0.0s\n",
      "[CV] END criterion=friedman_mse, max_depth=11, min_samples_leaf=15, min_samples_split=30; total time=   0.0s\n",
      "[CV] END criterion=friedman_mse, max_depth=11, min_samples_leaf=15, min_samples_split=30; total time=   0.0s\n",
      "[CV] END criterion=friedman_mse, max_depth=11, min_samples_leaf=15, min_samples_split=30; total time=   0.0s\n",
      "[CV] END criterion=friedman_mse, max_depth=11, min_samples_leaf=15, min_samples_split=30; total time=   0.0s\n",
      "[CV] END criterion=friedman_mse, max_depth=11, min_samples_leaf=15, min_samples_split=50; total time=   0.0s\n",
      "[CV] END criterion=friedman_mse, max_depth=11, min_samples_leaf=15, min_samples_split=50; total time=   0.0s\n"
     ]
    },
    {
     "name": "stdout",
     "output_type": "stream",
     "text": [
      "[CV] END criterion=friedman_mse, max_depth=11, min_samples_leaf=15, min_samples_split=50; total time=   0.0s\n",
      "[CV] END criterion=friedman_mse, max_depth=11, min_samples_leaf=15, min_samples_split=50; total time=   0.0s\n",
      "[CV] END criterion=friedman_mse, max_depth=11, min_samples_leaf=15, min_samples_split=50; total time=   0.0s\n",
      "[CV] END criterion=friedman_mse, max_depth=11, min_samples_leaf=15, min_samples_split=120; total time=   0.0s\n",
      "[CV] END criterion=friedman_mse, max_depth=11, min_samples_leaf=15, min_samples_split=120; total time=   0.0s\n",
      "[CV] END criterion=friedman_mse, max_depth=11, min_samples_leaf=15, min_samples_split=120; total time=   0.0s\n",
      "[CV] END criterion=friedman_mse, max_depth=11, min_samples_leaf=15, min_samples_split=120; total time=   0.0s\n",
      "[CV] END criterion=friedman_mse, max_depth=11, min_samples_leaf=15, min_samples_split=120; total time=   0.0s\n",
      "[CV] END criterion=friedman_mse, max_depth=11, min_samples_leaf=30, min_samples_split=5; total time=   0.0s\n",
      "[CV] END criterion=friedman_mse, max_depth=11, min_samples_leaf=30, min_samples_split=5; total time=   0.0s\n",
      "[CV] END criterion=friedman_mse, max_depth=11, min_samples_leaf=30, min_samples_split=5; total time=   0.0s\n",
      "[CV] END criterion=friedman_mse, max_depth=11, min_samples_leaf=30, min_samples_split=5; total time=   0.0s\n",
      "[CV] END criterion=friedman_mse, max_depth=11, min_samples_leaf=30, min_samples_split=5; total time=   0.0s\n",
      "[CV] END criterion=friedman_mse, max_depth=11, min_samples_leaf=30, min_samples_split=10; total time=   0.0s\n",
      "[CV] END criterion=friedman_mse, max_depth=11, min_samples_leaf=30, min_samples_split=10; total time=   0.0s\n",
      "[CV] END criterion=friedman_mse, max_depth=11, min_samples_leaf=30, min_samples_split=10; total time=   0.0s\n",
      "[CV] END criterion=friedman_mse, max_depth=11, min_samples_leaf=30, min_samples_split=10; total time=   0.0s\n",
      "[CV] END criterion=friedman_mse, max_depth=11, min_samples_leaf=30, min_samples_split=10; total time=   0.0s\n",
      "[CV] END criterion=friedman_mse, max_depth=11, min_samples_leaf=30, min_samples_split=20; total time=   0.0s\n",
      "[CV] END criterion=friedman_mse, max_depth=11, min_samples_leaf=30, min_samples_split=20; total time=   0.0s\n",
      "[CV] END criterion=friedman_mse, max_depth=11, min_samples_leaf=30, min_samples_split=20; total time=   0.0s\n",
      "[CV] END criterion=friedman_mse, max_depth=11, min_samples_leaf=30, min_samples_split=20; total time=   0.0s\n",
      "[CV] END criterion=friedman_mse, max_depth=11, min_samples_leaf=30, min_samples_split=20; total time=   0.0s\n",
      "[CV] END criterion=friedman_mse, max_depth=11, min_samples_leaf=30, min_samples_split=30; total time=   0.0s\n",
      "[CV] END criterion=friedman_mse, max_depth=11, min_samples_leaf=30, min_samples_split=30; total time=   0.0s\n",
      "[CV] END criterion=friedman_mse, max_depth=11, min_samples_leaf=30, min_samples_split=30; total time=   0.0s\n",
      "[CV] END criterion=friedman_mse, max_depth=11, min_samples_leaf=30, min_samples_split=30; total time=   0.0s\n",
      "[CV] END criterion=friedman_mse, max_depth=11, min_samples_leaf=30, min_samples_split=30; total time=   0.0s\n",
      "[CV] END criterion=friedman_mse, max_depth=11, min_samples_leaf=30, min_samples_split=50; total time=   0.0s\n",
      "[CV] END criterion=friedman_mse, max_depth=11, min_samples_leaf=30, min_samples_split=50; total time=   0.0s\n",
      "[CV] END criterion=friedman_mse, max_depth=11, min_samples_leaf=30, min_samples_split=50; total time=   0.0s\n",
      "[CV] END criterion=friedman_mse, max_depth=11, min_samples_leaf=30, min_samples_split=50; total time=   0.0s\n",
      "[CV] END criterion=friedman_mse, max_depth=11, min_samples_leaf=30, min_samples_split=50; total time=   0.0s\n",
      "[CV] END criterion=friedman_mse, max_depth=11, min_samples_leaf=30, min_samples_split=120; total time=   0.0s\n",
      "[CV] END criterion=friedman_mse, max_depth=11, min_samples_leaf=30, min_samples_split=120; total time=   0.0s\n",
      "[CV] END criterion=friedman_mse, max_depth=11, min_samples_leaf=30, min_samples_split=120; total time=   0.0s\n",
      "[CV] END criterion=friedman_mse, max_depth=11, min_samples_leaf=30, min_samples_split=120; total time=   0.0s\n",
      "[CV] END criterion=friedman_mse, max_depth=11, min_samples_leaf=30, min_samples_split=120; total time=   0.0s\n",
      "[CV] END criterion=friedman_mse, max_depth=11, min_samples_leaf=50, min_samples_split=5; total time=   0.0s\n",
      "[CV] END criterion=friedman_mse, max_depth=11, min_samples_leaf=50, min_samples_split=5; total time=   0.0s\n",
      "[CV] END criterion=friedman_mse, max_depth=11, min_samples_leaf=50, min_samples_split=5; total time=   0.0s\n",
      "[CV] END criterion=friedman_mse, max_depth=11, min_samples_leaf=50, min_samples_split=5; total time=   0.0s\n",
      "[CV] END criterion=friedman_mse, max_depth=11, min_samples_leaf=50, min_samples_split=5; total time=   0.0s\n",
      "[CV] END criterion=friedman_mse, max_depth=11, min_samples_leaf=50, min_samples_split=10; total time=   0.0s\n",
      "[CV] END criterion=friedman_mse, max_depth=11, min_samples_leaf=50, min_samples_split=10; total time=   0.0s\n",
      "[CV] END criterion=friedman_mse, max_depth=11, min_samples_leaf=50, min_samples_split=10; total time=   0.0s\n",
      "[CV] END criterion=friedman_mse, max_depth=11, min_samples_leaf=50, min_samples_split=10; total time=   0.0s\n",
      "[CV] END criterion=friedman_mse, max_depth=11, min_samples_leaf=50, min_samples_split=10; total time=   0.0s\n",
      "[CV] END criterion=friedman_mse, max_depth=11, min_samples_leaf=50, min_samples_split=20; total time=   0.0s\n",
      "[CV] END criterion=friedman_mse, max_depth=11, min_samples_leaf=50, min_samples_split=20; total time=   0.0s\n",
      "[CV] END criterion=friedman_mse, max_depth=11, min_samples_leaf=50, min_samples_split=20; total time=   0.0s\n",
      "[CV] END criterion=friedman_mse, max_depth=11, min_samples_leaf=50, min_samples_split=20; total time=   0.0s\n",
      "[CV] END criterion=friedman_mse, max_depth=11, min_samples_leaf=50, min_samples_split=20; total time=   0.0s\n",
      "[CV] END criterion=friedman_mse, max_depth=11, min_samples_leaf=50, min_samples_split=30; total time=   0.0s\n",
      "[CV] END criterion=friedman_mse, max_depth=11, min_samples_leaf=50, min_samples_split=30; total time=   0.0s\n",
      "[CV] END criterion=friedman_mse, max_depth=11, min_samples_leaf=50, min_samples_split=30; total time=   0.0s\n",
      "[CV] END criterion=friedman_mse, max_depth=11, min_samples_leaf=50, min_samples_split=30; total time=   0.0s\n",
      "[CV] END criterion=friedman_mse, max_depth=11, min_samples_leaf=50, min_samples_split=30; total time=   0.0s\n",
      "[CV] END criterion=friedman_mse, max_depth=11, min_samples_leaf=50, min_samples_split=50; total time=   0.0s\n",
      "[CV] END criterion=friedman_mse, max_depth=11, min_samples_leaf=50, min_samples_split=50; total time=   0.0s\n",
      "[CV] END criterion=friedman_mse, max_depth=11, min_samples_leaf=50, min_samples_split=50; total time=   0.0s\n",
      "[CV] END criterion=friedman_mse, max_depth=11, min_samples_leaf=50, min_samples_split=50; total time=   0.0s\n",
      "[CV] END criterion=friedman_mse, max_depth=11, min_samples_leaf=50, min_samples_split=50; total time=   0.0s\n",
      "[CV] END criterion=friedman_mse, max_depth=11, min_samples_leaf=50, min_samples_split=120; total time=   0.0s\n",
      "[CV] END criterion=friedman_mse, max_depth=11, min_samples_leaf=50, min_samples_split=120; total time=   0.0s\n",
      "[CV] END criterion=friedman_mse, max_depth=11, min_samples_leaf=50, min_samples_split=120; total time=   0.0s\n",
      "[CV] END criterion=friedman_mse, max_depth=11, min_samples_leaf=50, min_samples_split=120; total time=   0.0s\n",
      "[CV] END criterion=friedman_mse, max_depth=11, min_samples_leaf=50, min_samples_split=120; total time=   0.0s\n",
      "[CV] END criterion=friedman_mse, max_depth=11, min_samples_leaf=100, min_samples_split=5; total time=   0.0s\n",
      "[CV] END criterion=friedman_mse, max_depth=11, min_samples_leaf=100, min_samples_split=5; total time=   0.0s\n",
      "[CV] END criterion=friedman_mse, max_depth=11, min_samples_leaf=100, min_samples_split=5; total time=   0.0s\n",
      "[CV] END criterion=friedman_mse, max_depth=11, min_samples_leaf=100, min_samples_split=5; total time=   0.0s\n",
      "[CV] END criterion=friedman_mse, max_depth=11, min_samples_leaf=100, min_samples_split=5; total time=   0.0s\n",
      "[CV] END criterion=friedman_mse, max_depth=11, min_samples_leaf=100, min_samples_split=10; total time=   0.0s\n",
      "[CV] END criterion=friedman_mse, max_depth=11, min_samples_leaf=100, min_samples_split=10; total time=   0.0s\n",
      "[CV] END criterion=friedman_mse, max_depth=11, min_samples_leaf=100, min_samples_split=10; total time=   0.0s\n",
      "[CV] END criterion=friedman_mse, max_depth=11, min_samples_leaf=100, min_samples_split=10; total time=   0.0s\n",
      "[CV] END criterion=friedman_mse, max_depth=11, min_samples_leaf=100, min_samples_split=10; total time=   0.0s\n",
      "[CV] END criterion=friedman_mse, max_depth=11, min_samples_leaf=100, min_samples_split=20; total time=   0.0s\n",
      "[CV] END criterion=friedman_mse, max_depth=11, min_samples_leaf=100, min_samples_split=20; total time=   0.0s\n",
      "[CV] END criterion=friedman_mse, max_depth=11, min_samples_leaf=100, min_samples_split=20; total time=   0.0s\n",
      "[CV] END criterion=friedman_mse, max_depth=11, min_samples_leaf=100, min_samples_split=20; total time=   0.0s\n",
      "[CV] END criterion=friedman_mse, max_depth=11, min_samples_leaf=100, min_samples_split=20; total time=   0.0s\n",
      "[CV] END criterion=friedman_mse, max_depth=11, min_samples_leaf=100, min_samples_split=30; total time=   0.0s\n",
      "[CV] END criterion=friedman_mse, max_depth=11, min_samples_leaf=100, min_samples_split=30; total time=   0.0s\n",
      "[CV] END criterion=friedman_mse, max_depth=11, min_samples_leaf=100, min_samples_split=30; total time=   0.0s\n",
      "[CV] END criterion=friedman_mse, max_depth=11, min_samples_leaf=100, min_samples_split=30; total time=   0.0s\n"
     ]
    },
    {
     "name": "stdout",
     "output_type": "stream",
     "text": [
      "[CV] END criterion=friedman_mse, max_depth=11, min_samples_leaf=100, min_samples_split=30; total time=   0.0s\n",
      "[CV] END criterion=friedman_mse, max_depth=11, min_samples_leaf=100, min_samples_split=50; total time=   0.0s\n",
      "[CV] END criterion=friedman_mse, max_depth=11, min_samples_leaf=100, min_samples_split=50; total time=   0.0s\n",
      "[CV] END criterion=friedman_mse, max_depth=11, min_samples_leaf=100, min_samples_split=50; total time=   0.0s\n",
      "[CV] END criterion=friedman_mse, max_depth=11, min_samples_leaf=100, min_samples_split=50; total time=   0.0s\n",
      "[CV] END criterion=friedman_mse, max_depth=11, min_samples_leaf=100, min_samples_split=50; total time=   0.0s\n",
      "[CV] END criterion=friedman_mse, max_depth=11, min_samples_leaf=100, min_samples_split=120; total time=   0.0s\n",
      "[CV] END criterion=friedman_mse, max_depth=11, min_samples_leaf=100, min_samples_split=120; total time=   0.0s\n",
      "[CV] END criterion=friedman_mse, max_depth=11, min_samples_leaf=100, min_samples_split=120; total time=   0.0s\n",
      "[CV] END criterion=friedman_mse, max_depth=11, min_samples_leaf=100, min_samples_split=120; total time=   0.0s\n",
      "[CV] END criterion=friedman_mse, max_depth=11, min_samples_leaf=100, min_samples_split=120; total time=   0.0s\n"
     ]
    },
    {
     "data": {
      "text/plain": [
       "GridSearchCV(cv=5, estimator=DecisionTreeRegressor(), n_jobs=1,\n",
       "             param_grid={'criterion': ['squared_error', 'friedman_mse'],\n",
       "                         'max_depth': [5, 7, 9, 11],\n",
       "                         'min_samples_leaf': [5, 15, 30, 50, 100],\n",
       "                         'min_samples_split': [5, 10, 20, 30, 50, 120]},\n",
       "             verbose=2)"
      ]
     },
     "execution_count": 63,
     "metadata": {},
     "output_type": "execute_result"
    }
   ],
   "source": [
    "gd.fit(x_train,y_train)"
   ]
  },
  {
   "cell_type": "code",
   "execution_count": 64,
   "id": "822355af",
   "metadata": {},
   "outputs": [
    {
     "data": {
      "text/plain": [
       "DecisionTreeRegressor(max_depth=5, min_samples_leaf=50, min_samples_split=5)"
      ]
     },
     "execution_count": 64,
     "metadata": {},
     "output_type": "execute_result"
    }
   ],
   "source": [
    "gd.best_estimator_"
   ]
  },
  {
   "cell_type": "code",
   "execution_count": 65,
   "id": "77eddaf2",
   "metadata": {},
   "outputs": [
    {
     "data": {
      "text/plain": [
       "{'criterion': 'squared_error',\n",
       " 'max_depth': 5,\n",
       " 'min_samples_leaf': 50,\n",
       " 'min_samples_split': 5}"
      ]
     },
     "execution_count": 65,
     "metadata": {},
     "output_type": "execute_result"
    }
   ],
   "source": [
    "gd.best_params_"
   ]
  },
  {
   "cell_type": "code",
   "execution_count": 66,
   "id": "56d85105",
   "metadata": {},
   "outputs": [
    {
     "data": {
      "text/plain": [
       "DecisionTreeRegressor(max_depth=5, min_samples_leaf=50, min_samples_split=5)"
      ]
     },
     "execution_count": 66,
     "metadata": {},
     "output_type": "execute_result"
    }
   ],
   "source": [
    "dt1=DecisionTreeRegressor(criterion='squared_error',max_depth=5, min_samples_leaf=50, min_samples_split=5)\n",
    "dt1.fit(x_train,y_train)"
   ]
  },
  {
   "cell_type": "code",
   "execution_count": 67,
   "id": "bd4add4a",
   "metadata": {},
   "outputs": [
    {
     "data": {
      "text/plain": [
       "0.609593864277231"
      ]
     },
     "execution_count": 67,
     "metadata": {},
     "output_type": "execute_result"
    }
   ],
   "source": [
    "dt1.score(x_train,y_train)"
   ]
  },
  {
   "cell_type": "code",
   "execution_count": 68,
   "id": "0217ce46",
   "metadata": {},
   "outputs": [
    {
     "data": {
      "text/plain": [
       "0.5912924524586853"
      ]
     },
     "execution_count": 68,
     "metadata": {},
     "output_type": "execute_result"
    }
   ],
   "source": [
    "dt1.score(x_test,y_test)"
   ]
  },
  {
   "cell_type": "markdown",
   "id": "7058b3bd",
   "metadata": {},
   "source": [
    "##### Random Forest"
   ]
  },
  {
   "cell_type": "code",
   "execution_count": 69,
   "id": "b804405f",
   "metadata": {},
   "outputs": [
    {
     "data": {
      "text/plain": [
       "RandomForestRegressor(max_depth=5, min_samples_leaf=50, min_samples_split=5)"
      ]
     },
     "execution_count": 69,
     "metadata": {},
     "output_type": "execute_result"
    }
   ],
   "source": [
    "rf=RandomForestRegressor(n_estimators=100,max_depth=5, min_samples_leaf=50, min_samples_split=5)\n",
    "rf.fit(x_train,y_train)"
   ]
  },
  {
   "cell_type": "code",
   "execution_count": 70,
   "id": "01855fb3",
   "metadata": {},
   "outputs": [
    {
     "data": {
      "text/plain": [
       "0.6101890849827576"
      ]
     },
     "execution_count": 70,
     "metadata": {},
     "output_type": "execute_result"
    }
   ],
   "source": [
    "rf.score(x_train,y_train)"
   ]
  },
  {
   "cell_type": "code",
   "execution_count": 71,
   "id": "67c5313c",
   "metadata": {},
   "outputs": [
    {
     "data": {
      "text/plain": [
       "0.5918198014279092"
      ]
     },
     "execution_count": 71,
     "metadata": {},
     "output_type": "execute_result"
    }
   ],
   "source": [
    "rf.score(x_test,y_test)"
   ]
  },
  {
   "cell_type": "markdown",
   "id": "2362dd4c",
   "metadata": {},
   "source": [
    "##### Bagging"
   ]
  },
  {
   "cell_type": "code",
   "execution_count": 79,
   "id": "a36e9cff",
   "metadata": {},
   "outputs": [
    {
     "data": {
      "text/plain": [
       "BaggingRegressor(base_estimator=RandomForestRegressor(max_depth=5,\n",
       "                                                      min_samples_leaf=50,\n",
       "                                                      min_samples_split=5),\n",
       "                 n_estimators=100)"
      ]
     },
     "execution_count": 79,
     "metadata": {},
     "output_type": "execute_result"
    }
   ],
   "source": [
    "bg=BaggingRegressor(base_estimator=rf, n_estimators=100)\n",
    "bg.fit(x_train,y_train)"
   ]
  },
  {
   "cell_type": "code",
   "execution_count": 80,
   "id": "5d750769",
   "metadata": {},
   "outputs": [
    {
     "data": {
      "text/plain": [
       "0.6062698348833555"
      ]
     },
     "execution_count": 80,
     "metadata": {},
     "output_type": "execute_result"
    }
   ],
   "source": [
    "bg.score(x_train,y_train)"
   ]
  },
  {
   "cell_type": "code",
   "execution_count": 81,
   "id": "21fbf2c5",
   "metadata": {},
   "outputs": [
    {
     "data": {
      "text/plain": [
       "0.5913253401662226"
      ]
     },
     "execution_count": 81,
     "metadata": {},
     "output_type": "execute_result"
    }
   ],
   "source": [
    "bg.score(x_test,y_test)"
   ]
  },
  {
   "cell_type": "markdown",
   "id": "a93aa083",
   "metadata": {},
   "source": [
    "##### Boosting"
   ]
  },
  {
   "cell_type": "code",
   "execution_count": 82,
   "id": "b73497ef",
   "metadata": {},
   "outputs": [],
   "source": [
    "ad=AdaBoostRegressor()"
   ]
  },
  {
   "cell_type": "code",
   "execution_count": 88,
   "id": "f0acb24f",
   "metadata": {},
   "outputs": [],
   "source": [
    "from sklearn.preprocessing import StandardScaler\n",
    "\n",
    "sc=StandardScaler()\n",
    "\n",
    "x_train_std=sc.fit_transform(x_train)\n",
    "x_test_std=sc.transform(x_test)"
   ]
  },
  {
   "cell_type": "code",
   "execution_count": 89,
   "id": "69b5b2bd",
   "metadata": {},
   "outputs": [],
   "source": [
    "x_train_std1=pd.DataFrame(x_train_std,columns=x_train.columns)\n",
    "x_test_std1=pd.DataFrame(x_test_std,columns=x_test.columns)"
   ]
  },
  {
   "cell_type": "code",
   "execution_count": 91,
   "id": "3f7e87d5",
   "metadata": {},
   "outputs": [
    {
     "data": {
      "text/plain": [
       "AdaBoostRegressor()"
      ]
     },
     "execution_count": 91,
     "metadata": {},
     "output_type": "execute_result"
    }
   ],
   "source": [
    "ad.fit(x_train_std1,y_train)"
   ]
  },
  {
   "cell_type": "code",
   "execution_count": 92,
   "id": "34b51931",
   "metadata": {},
   "outputs": [
    {
     "data": {
      "text/plain": [
       "0.4708108664879057"
      ]
     },
     "execution_count": 92,
     "metadata": {},
     "output_type": "execute_result"
    }
   ],
   "source": [
    "ad.score(x_train_std1,y_train)"
   ]
  },
  {
   "cell_type": "code",
   "execution_count": 93,
   "id": "2fdd0a9e",
   "metadata": {},
   "outputs": [
    {
     "data": {
      "text/plain": [
       "0.47196174086451914"
      ]
     },
     "execution_count": 93,
     "metadata": {},
     "output_type": "execute_result"
    }
   ],
   "source": [
    "ad.score(x_test_std1,y_test)"
   ]
  },
  {
   "cell_type": "code",
   "execution_count": 95,
   "id": "d8794bb4",
   "metadata": {},
   "outputs": [
    {
     "name": "stdout",
     "output_type": "stream",
     "text": [
      "Fitting 10 folds for each of 16 candidates, totalling 160 fits\n",
      "[CV] END .................learning_rate=0.1, n_estimators=50; total time=   0.6s\n",
      "[CV] END .................learning_rate=0.1, n_estimators=50; total time=   0.6s\n",
      "[CV] END .................learning_rate=0.1, n_estimators=50; total time=   0.6s\n",
      "[CV] END .................learning_rate=0.1, n_estimators=50; total time=   0.5s\n",
      "[CV] END .................learning_rate=0.1, n_estimators=50; total time=   0.6s\n",
      "[CV] END .................learning_rate=0.1, n_estimators=50; total time=   0.6s\n",
      "[CV] END .................learning_rate=0.1, n_estimators=50; total time=   0.6s\n",
      "[CV] END .................learning_rate=0.1, n_estimators=50; total time=   0.5s\n",
      "[CV] END .................learning_rate=0.1, n_estimators=50; total time=   0.5s\n",
      "[CV] END .................learning_rate=0.1, n_estimators=50; total time=   0.5s\n",
      "[CV] END ................learning_rate=0.1, n_estimators=100; total time=   1.1s\n",
      "[CV] END ................learning_rate=0.1, n_estimators=100; total time=   1.1s\n",
      "[CV] END ................learning_rate=0.1, n_estimators=100; total time=   1.2s\n",
      "[CV] END ................learning_rate=0.1, n_estimators=100; total time=   1.1s\n",
      "[CV] END ................learning_rate=0.1, n_estimators=100; total time=   1.1s\n",
      "[CV] END ................learning_rate=0.1, n_estimators=100; total time=   1.1s\n",
      "[CV] END ................learning_rate=0.1, n_estimators=100; total time=   1.1s\n",
      "[CV] END ................learning_rate=0.1, n_estimators=100; total time=   1.2s\n",
      "[CV] END ................learning_rate=0.1, n_estimators=100; total time=   1.2s\n",
      "[CV] END ................learning_rate=0.1, n_estimators=100; total time=   1.1s\n",
      "[CV] END ................learning_rate=0.1, n_estimators=150; total time=   1.6s\n",
      "[CV] END ................learning_rate=0.1, n_estimators=150; total time=   1.6s\n",
      "[CV] END ................learning_rate=0.1, n_estimators=150; total time=   1.8s\n",
      "[CV] END ................learning_rate=0.1, n_estimators=150; total time=   1.7s\n",
      "[CV] END ................learning_rate=0.1, n_estimators=150; total time=   1.6s\n",
      "[CV] END ................learning_rate=0.1, n_estimators=150; total time=   1.6s\n",
      "[CV] END ................learning_rate=0.1, n_estimators=150; total time=   1.7s\n",
      "[CV] END ................learning_rate=0.1, n_estimators=150; total time=   1.5s\n",
      "[CV] END ................learning_rate=0.1, n_estimators=150; total time=   1.7s\n",
      "[CV] END ................learning_rate=0.1, n_estimators=150; total time=   1.6s\n",
      "[CV] END ................learning_rate=0.1, n_estimators=200; total time=   2.3s\n",
      "[CV] END ................learning_rate=0.1, n_estimators=200; total time=   2.5s\n",
      "[CV] END ................learning_rate=0.1, n_estimators=200; total time=   3.1s\n",
      "[CV] END ................learning_rate=0.1, n_estimators=200; total time=   3.7s\n",
      "[CV] END ................learning_rate=0.1, n_estimators=200; total time=   3.0s\n",
      "[CV] END ................learning_rate=0.1, n_estimators=200; total time=   2.7s\n",
      "[CV] END ................learning_rate=0.1, n_estimators=200; total time=   2.0s\n",
      "[CV] END ................learning_rate=0.1, n_estimators=200; total time=   2.6s\n",
      "[CV] END ................learning_rate=0.1, n_estimators=200; total time=   2.3s\n",
      "[CV] END ................learning_rate=0.1, n_estimators=200; total time=   2.4s\n",
      "[CV] END ................learning_rate=0.01, n_estimators=50; total time=   0.7s\n",
      "[CV] END ................learning_rate=0.01, n_estimators=50; total time=   0.7s\n",
      "[CV] END ................learning_rate=0.01, n_estimators=50; total time=   0.5s\n",
      "[CV] END ................learning_rate=0.01, n_estimators=50; total time=   0.6s\n",
      "[CV] END ................learning_rate=0.01, n_estimators=50; total time=   0.8s\n",
      "[CV] END ................learning_rate=0.01, n_estimators=50; total time=   0.6s\n",
      "[CV] END ................learning_rate=0.01, n_estimators=50; total time=   0.6s\n",
      "[CV] END ................learning_rate=0.01, n_estimators=50; total time=   0.6s\n",
      "[CV] END ................learning_rate=0.01, n_estimators=50; total time=   0.6s\n",
      "[CV] END ................learning_rate=0.01, n_estimators=50; total time=   0.6s\n",
      "[CV] END ...............learning_rate=0.01, n_estimators=100; total time=   1.2s\n",
      "[CV] END ...............learning_rate=0.01, n_estimators=100; total time=   1.2s\n",
      "[CV] END ...............learning_rate=0.01, n_estimators=100; total time=   1.3s\n",
      "[CV] END ...............learning_rate=0.01, n_estimators=100; total time=   1.2s\n",
      "[CV] END ...............learning_rate=0.01, n_estimators=100; total time=   1.3s\n",
      "[CV] END ...............learning_rate=0.01, n_estimators=100; total time=   1.3s\n",
      "[CV] END ...............learning_rate=0.01, n_estimators=100; total time=   1.4s\n",
      "[CV] END ...............learning_rate=0.01, n_estimators=100; total time=   1.5s\n",
      "[CV] END ...............learning_rate=0.01, n_estimators=100; total time=   1.3s\n",
      "[CV] END ...............learning_rate=0.01, n_estimators=100; total time=   1.4s\n",
      "[CV] END ...............learning_rate=0.01, n_estimators=150; total time=   2.1s\n",
      "[CV] END ...............learning_rate=0.01, n_estimators=150; total time=   2.2s\n",
      "[CV] END ...............learning_rate=0.01, n_estimators=150; total time=   2.1s\n",
      "[CV] END ...............learning_rate=0.01, n_estimators=150; total time=   2.2s\n",
      "[CV] END ...............learning_rate=0.01, n_estimators=150; total time=   2.2s\n",
      "[CV] END ...............learning_rate=0.01, n_estimators=150; total time=   2.2s\n",
      "[CV] END ...............learning_rate=0.01, n_estimators=150; total time=   2.0s\n",
      "[CV] END ...............learning_rate=0.01, n_estimators=150; total time=   1.9s\n",
      "[CV] END ...............learning_rate=0.01, n_estimators=150; total time=   1.9s\n",
      "[CV] END ...............learning_rate=0.01, n_estimators=150; total time=   1.9s\n",
      "[CV] END ...............learning_rate=0.01, n_estimators=200; total time=   2.6s\n",
      "[CV] END ...............learning_rate=0.01, n_estimators=200; total time=   2.6s\n",
      "[CV] END ...............learning_rate=0.01, n_estimators=200; total time=   2.7s\n",
      "[CV] END ...............learning_rate=0.01, n_estimators=200; total time=   2.4s\n",
      "[CV] END ...............learning_rate=0.01, n_estimators=200; total time=   2.4s\n",
      "[CV] END ...............learning_rate=0.01, n_estimators=200; total time=   2.4s\n",
      "[CV] END ...............learning_rate=0.01, n_estimators=200; total time=   2.4s\n",
      "[CV] END ...............learning_rate=0.01, n_estimators=200; total time=   2.5s\n",
      "[CV] END ...............learning_rate=0.01, n_estimators=200; total time=   2.6s\n",
      "[CV] END ...............learning_rate=0.01, n_estimators=200; total time=   2.6s\n",
      "[CV] END ...............learning_rate=0.001, n_estimators=50; total time=   0.6s\n",
      "[CV] END ...............learning_rate=0.001, n_estimators=50; total time=   0.5s\n",
      "[CV] END ...............learning_rate=0.001, n_estimators=50; total time=   0.6s\n",
      "[CV] END ...............learning_rate=0.001, n_estimators=50; total time=   0.6s\n",
      "[CV] END ...............learning_rate=0.001, n_estimators=50; total time=   0.6s\n",
      "[CV] END ...............learning_rate=0.001, n_estimators=50; total time=   0.6s\n",
      "[CV] END ...............learning_rate=0.001, n_estimators=50; total time=   0.6s\n",
      "[CV] END ...............learning_rate=0.001, n_estimators=50; total time=   0.5s\n",
      "[CV] END ...............learning_rate=0.001, n_estimators=50; total time=   0.5s\n",
      "[CV] END ...............learning_rate=0.001, n_estimators=50; total time=   0.6s\n",
      "[CV] END ..............learning_rate=0.001, n_estimators=100; total time=   1.2s\n",
      "[CV] END ..............learning_rate=0.001, n_estimators=100; total time=   1.2s\n",
      "[CV] END ..............learning_rate=0.001, n_estimators=100; total time=   1.2s\n",
      "[CV] END ..............learning_rate=0.001, n_estimators=100; total time=   1.2s\n",
      "[CV] END ..............learning_rate=0.001, n_estimators=100; total time=   1.2s\n",
      "[CV] END ..............learning_rate=0.001, n_estimators=100; total time=   1.2s\n",
      "[CV] END ..............learning_rate=0.001, n_estimators=100; total time=   1.2s\n",
      "[CV] END ..............learning_rate=0.001, n_estimators=100; total time=   1.2s\n",
      "[CV] END ..............learning_rate=0.001, n_estimators=100; total time=   1.1s\n",
      "[CV] END ..............learning_rate=0.001, n_estimators=100; total time=   1.2s\n",
      "[CV] END ..............learning_rate=0.001, n_estimators=150; total time=   1.9s\n"
     ]
    },
    {
     "name": "stdout",
     "output_type": "stream",
     "text": [
      "[CV] END ..............learning_rate=0.001, n_estimators=150; total time=   1.9s\n",
      "[CV] END ..............learning_rate=0.001, n_estimators=150; total time=   1.8s\n",
      "[CV] END ..............learning_rate=0.001, n_estimators=150; total time=   1.8s\n",
      "[CV] END ..............learning_rate=0.001, n_estimators=150; total time=   2.0s\n",
      "[CV] END ..............learning_rate=0.001, n_estimators=150; total time=   1.8s\n",
      "[CV] END ..............learning_rate=0.001, n_estimators=150; total time=   2.0s\n",
      "[CV] END ..............learning_rate=0.001, n_estimators=150; total time=   1.8s\n",
      "[CV] END ..............learning_rate=0.001, n_estimators=150; total time=   1.9s\n",
      "[CV] END ..............learning_rate=0.001, n_estimators=150; total time=   1.8s\n",
      "[CV] END ..............learning_rate=0.001, n_estimators=200; total time=   2.4s\n",
      "[CV] END ..............learning_rate=0.001, n_estimators=200; total time=   2.4s\n",
      "[CV] END ..............learning_rate=0.001, n_estimators=200; total time=   2.5s\n",
      "[CV] END ..............learning_rate=0.001, n_estimators=200; total time=   2.4s\n",
      "[CV] END ..............learning_rate=0.001, n_estimators=200; total time=   2.5s\n",
      "[CV] END ..............learning_rate=0.001, n_estimators=200; total time=   2.4s\n",
      "[CV] END ..............learning_rate=0.001, n_estimators=200; total time=   2.4s\n",
      "[CV] END ..............learning_rate=0.001, n_estimators=200; total time=   2.4s\n",
      "[CV] END ..............learning_rate=0.001, n_estimators=200; total time=   2.7s\n",
      "[CV] END ..............learning_rate=0.001, n_estimators=200; total time=   2.9s\n",
      "[CV] END ...................learning_rate=1, n_estimators=50; total time=   0.2s\n",
      "[CV] END ...................learning_rate=1, n_estimators=50; total time=   0.3s\n",
      "[CV] END ...................learning_rate=1, n_estimators=50; total time=   0.4s\n",
      "[CV] END ...................learning_rate=1, n_estimators=50; total time=   0.3s\n",
      "[CV] END ...................learning_rate=1, n_estimators=50; total time=   0.1s\n",
      "[CV] END ...................learning_rate=1, n_estimators=50; total time=   0.3s\n",
      "[CV] END ...................learning_rate=1, n_estimators=50; total time=   0.2s\n",
      "[CV] END ...................learning_rate=1, n_estimators=50; total time=   0.4s\n",
      "[CV] END ...................learning_rate=1, n_estimators=50; total time=   0.2s\n",
      "[CV] END ...................learning_rate=1, n_estimators=50; total time=   0.1s\n",
      "[CV] END ..................learning_rate=1, n_estimators=100; total time=   0.3s\n",
      "[CV] END ..................learning_rate=1, n_estimators=100; total time=   0.2s\n",
      "[CV] END ..................learning_rate=1, n_estimators=100; total time=   0.3s\n",
      "[CV] END ..................learning_rate=1, n_estimators=100; total time=   0.3s\n",
      "[CV] END ..................learning_rate=1, n_estimators=100; total time=   0.2s\n",
      "[CV] END ..................learning_rate=1, n_estimators=100; total time=   0.4s\n",
      "[CV] END ..................learning_rate=1, n_estimators=100; total time=   0.4s\n",
      "[CV] END ..................learning_rate=1, n_estimators=100; total time=   0.3s\n",
      "[CV] END ..................learning_rate=1, n_estimators=100; total time=   0.2s\n",
      "[CV] END ..................learning_rate=1, n_estimators=100; total time=   0.3s\n",
      "[CV] END ..................learning_rate=1, n_estimators=150; total time=   0.3s\n",
      "[CV] END ..................learning_rate=1, n_estimators=150; total time=   0.3s\n",
      "[CV] END ..................learning_rate=1, n_estimators=150; total time=   0.4s\n",
      "[CV] END ..................learning_rate=1, n_estimators=150; total time=   0.4s\n",
      "[CV] END ..................learning_rate=1, n_estimators=150; total time=   0.3s\n",
      "[CV] END ..................learning_rate=1, n_estimators=150; total time=   0.3s\n",
      "[CV] END ..................learning_rate=1, n_estimators=150; total time=   0.2s\n",
      "[CV] END ..................learning_rate=1, n_estimators=150; total time=   0.5s\n",
      "[CV] END ..................learning_rate=1, n_estimators=150; total time=   0.1s\n",
      "[CV] END ..................learning_rate=1, n_estimators=150; total time=   0.3s\n",
      "[CV] END ..................learning_rate=1, n_estimators=200; total time=   0.3s\n",
      "[CV] END ..................learning_rate=1, n_estimators=200; total time=   0.2s\n",
      "[CV] END ..................learning_rate=1, n_estimators=200; total time=   0.5s\n",
      "[CV] END ..................learning_rate=1, n_estimators=200; total time=   0.2s\n",
      "[CV] END ..................learning_rate=1, n_estimators=200; total time=   0.2s\n",
      "[CV] END ..................learning_rate=1, n_estimators=200; total time=   0.3s\n",
      "[CV] END ..................learning_rate=1, n_estimators=200; total time=   0.5s\n",
      "[CV] END ..................learning_rate=1, n_estimators=200; total time=   0.2s\n",
      "[CV] END ..................learning_rate=1, n_estimators=200; total time=   0.2s\n",
      "[CV] END ..................learning_rate=1, n_estimators=200; total time=   0.5s\n"
     ]
    },
    {
     "data": {
      "text/plain": [
       "GridSearchCV(cv=10, estimator=AdaBoostRegressor(),\n",
       "             param_grid={'learning_rate': [0.1, 0.01, 0.001, 1],\n",
       "                         'n_estimators': [50, 100, 150, 200]},\n",
       "             verbose=2)"
      ]
     },
     "execution_count": 95,
     "metadata": {},
     "output_type": "execute_result"
    }
   ],
   "source": [
    "param={\"n_estimators\":[50,100,150,200],\n",
    "      \"learning_rate\":[0.1,0.01,0.001,1]}\n",
    "\n",
    "gd_new=GridSearchCV(estimator=ad, param_grid=param, cv=10, verbose=2)\n",
    "gd_new.fit(x_train_std1,y_train)"
   ]
  },
  {
   "cell_type": "code",
   "execution_count": 96,
   "id": "ec68d439",
   "metadata": {},
   "outputs": [
    {
     "data": {
      "text/plain": [
       "AdaBoostRegressor(learning_rate=0.1)"
      ]
     },
     "execution_count": 96,
     "metadata": {},
     "output_type": "execute_result"
    }
   ],
   "source": [
    "gd_new.best_estimator_"
   ]
  },
  {
   "cell_type": "code",
   "execution_count": 97,
   "id": "a327897c",
   "metadata": {},
   "outputs": [
    {
     "data": {
      "text/plain": [
       "0.5018047883812262"
      ]
     },
     "execution_count": 97,
     "metadata": {},
     "output_type": "execute_result"
    }
   ],
   "source": [
    "ad1=AdaBoostRegressor(learning_rate=0.1)\n",
    "\n",
    "ad1.fit(x_train_std1,y_train)\n",
    "ad1.score(x_train_std1,y_train)"
   ]
  },
  {
   "cell_type": "code",
   "execution_count": 98,
   "id": "8bbe3466",
   "metadata": {},
   "outputs": [
    {
     "data": {
      "text/plain": [
       "0.493920836776472"
      ]
     },
     "execution_count": 98,
     "metadata": {},
     "output_type": "execute_result"
    }
   ],
   "source": [
    "ad1.score(x_test_std1,y_test)"
   ]
  },
  {
   "cell_type": "code",
   "execution_count": 99,
   "id": "6def6092",
   "metadata": {},
   "outputs": [
    {
     "data": {
      "text/plain": [
       "0.8791542918395352"
      ]
     },
     "execution_count": 99,
     "metadata": {},
     "output_type": "execute_result"
    }
   ],
   "source": [
    "xg=XGBRegressor()\n",
    "\n",
    "xg.fit(x_train_std1,y_train)\n",
    "xg.score(x_train_std1,y_train)"
   ]
  },
  {
   "cell_type": "code",
   "execution_count": 100,
   "id": "aa402c79",
   "metadata": {},
   "outputs": [
    {
     "data": {
      "text/plain": [
       "0.5356075533445874"
      ]
     },
     "execution_count": 100,
     "metadata": {},
     "output_type": "execute_result"
    }
   ],
   "source": [
    "xg.score(x_test_std1,y_test)"
   ]
  },
  {
   "cell_type": "code",
   "execution_count": 101,
   "id": "0b12c6ab",
   "metadata": {},
   "outputs": [
    {
     "data": {
      "text/plain": [
       "GridSearchCV(cv=10,\n",
       "             estimator=XGBRegressor(base_score=None, booster=None,\n",
       "                                    callbacks=None, colsample_bylevel=None,\n",
       "                                    colsample_bynode=None,\n",
       "                                    colsample_bytree=None,\n",
       "                                    early_stopping_rounds=None,\n",
       "                                    enable_categorical=False, eval_metric=None,\n",
       "                                    feature_types=None, gamma=None, gpu_id=None,\n",
       "                                    grow_policy=None, importance_type=None,\n",
       "                                    interaction_constraints=None,\n",
       "                                    learning_rate=None, max_bin=None,\n",
       "                                    max_cat_threshold=None,\n",
       "                                    max_cat_to_onehot=None, max_delta_step=None,\n",
       "                                    max_depth=None, max_leaves=None,\n",
       "                                    min_child_weight=None, missing=nan,\n",
       "                                    monotone_constraints=None, n_estimators=100,\n",
       "                                    n_jobs=None, num_parallel_tree=None,\n",
       "                                    predictor=None, random_state=None, ...),\n",
       "             param_grid={'max_depth': [5, 7, 9, 11],\n",
       "                         'n_estimators': [50, 100, 150, 200]})"
      ]
     },
     "execution_count": 101,
     "metadata": {},
     "output_type": "execute_result"
    }
   ],
   "source": [
    "params={\"max_depth\":[5,7,9,11],\n",
    "       \"n_estimators\":[50,100,150,200]}\n",
    "\n",
    "gd=GridSearchCV(estimator=xg, param_grid=params, cv=10)\n",
    "gd.fit(x_train_std1,y_train)"
   ]
  },
  {
   "cell_type": "code",
   "execution_count": 102,
   "id": "251535c9",
   "metadata": {},
   "outputs": [
    {
     "data": {
      "text/plain": [
       "XGBRegressor(base_score=None, booster=None, callbacks=None,\n",
       "             colsample_bylevel=None, colsample_bynode=None,\n",
       "             colsample_bytree=None, early_stopping_rounds=None,\n",
       "             enable_categorical=False, eval_metric=None, feature_types=None,\n",
       "             gamma=None, gpu_id=None, grow_policy=None, importance_type=None,\n",
       "             interaction_constraints=None, learning_rate=None, max_bin=None,\n",
       "             max_cat_threshold=None, max_cat_to_onehot=None,\n",
       "             max_delta_step=None, max_depth=5, max_leaves=None,\n",
       "             min_child_weight=None, missing=nan, monotone_constraints=None,\n",
       "             n_estimators=50, n_jobs=None, num_parallel_tree=None,\n",
       "             predictor=None, random_state=None, ...)"
      ]
     },
     "execution_count": 102,
     "metadata": {},
     "output_type": "execute_result"
    }
   ],
   "source": [
    "gd.best_estimator_"
   ]
  },
  {
   "cell_type": "code",
   "execution_count": 103,
   "id": "0c253733",
   "metadata": {},
   "outputs": [
    {
     "data": {
      "text/plain": [
       "XGBRegressor(base_score=None, booster=None, callbacks=None,\n",
       "             colsample_bylevel=None, colsample_bynode=None,\n",
       "             colsample_bytree=None, early_stopping_rounds=None,\n",
       "             enable_categorical=False, eval_metric=None, feature_types=None,\n",
       "             gamma=None, gpu_id=None, grow_policy=None, importance_type=None,\n",
       "             interaction_constraints=None, learning_rate=None, max_bin=None,\n",
       "             max_cat_threshold=None, max_cat_to_onehot=None,\n",
       "             max_delta_step=None, max_depth=5, max_leaves=None,\n",
       "             min_child_weight=None, missing=nan, monotone_constraints=None,\n",
       "             n_estimators=50, n_jobs=None, num_parallel_tree=None,\n",
       "             predictor=None, random_state=None, ...)"
      ]
     },
     "execution_count": 103,
     "metadata": {},
     "output_type": "execute_result"
    }
   ],
   "source": [
    "xg1=XGBRegressor(max_depth=5, n_estimators=50)\n",
    "xg1.fit(x_train_std1,y_train)"
   ]
  },
  {
   "cell_type": "code",
   "execution_count": 104,
   "id": "9a95208a",
   "metadata": {},
   "outputs": [
    {
     "data": {
      "text/plain": [
       "0.7567378340336917"
      ]
     },
     "execution_count": 104,
     "metadata": {},
     "output_type": "execute_result"
    }
   ],
   "source": [
    "xg1.score(x_train_std1,y_train)"
   ]
  },
  {
   "cell_type": "code",
   "execution_count": 105,
   "id": "3a5ef536",
   "metadata": {},
   "outputs": [
    {
     "data": {
      "text/plain": [
       "0.7567378340336917"
      ]
     },
     "execution_count": 105,
     "metadata": {},
     "output_type": "execute_result"
    }
   ],
   "source": [
    "xg1.score(x_train_std1,y_train)"
   ]
  },
  {
   "cell_type": "code",
   "execution_count": null,
   "id": "10ba791e",
   "metadata": {},
   "outputs": [],
   "source": []
  }
 ],
 "metadata": {
  "kernelspec": {
   "display_name": "Python 3 (ipykernel)",
   "language": "python",
   "name": "python3"
  },
  "language_info": {
   "codemirror_mode": {
    "name": "ipython",
    "version": 3
   },
   "file_extension": ".py",
   "mimetype": "text/x-python",
   "name": "python",
   "nbconvert_exporter": "python",
   "pygments_lexer": "ipython3",
   "version": "3.9.13"
  }
 },
 "nbformat": 4,
 "nbformat_minor": 5
}
